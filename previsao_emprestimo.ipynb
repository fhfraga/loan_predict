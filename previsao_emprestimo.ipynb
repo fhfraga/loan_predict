{
 "cells": [
  {
   "cell_type": "markdown",
   "id": "10956a43",
   "metadata": {},
   "source": [
    "###### Projeto de Classificação de empréstimo\n",
    "\n",
    "<img src=\"Imagens/emprestimo.jpg\" alt=\"drawing\" width=\"50%\"/>\n",
    "\n",
    "Esse projeto tem o objetivo de classificar se um determinado cliente será aprovado ou não para um empréstimo.\n",
    "\n",
    "Esse problema vem da empresa empréstimo fácil S.A. O CEO da empresa quer saber a melhor forma de poder aprovar empréstimo baseado naS informações da pessoa. Atualmente eles usam o método de entrevista, porém tal método demora muito, sendo necessário a criação de um método mais rápido."
   ]
  },
  {
   "cell_type": "markdown",
   "id": "8c83cee0",
   "metadata": {},
   "source": [
    "# Imports"
   ]
  },
  {
   "cell_type": "code",
   "execution_count": 282,
   "id": "15e5188c",
   "metadata": {
    "ExecuteTime": {
     "end_time": "2021-10-28T01:35:13.248390Z",
     "start_time": "2021-10-28T01:35:13.241620Z"
    }
   },
   "outputs": [],
   "source": [
    "# bibliotecas que serão usadas ao longo do notebook\n",
    "import numpy as np\n",
    "import pandas as pd\n",
    "import matplotlib.pyplot as plt\n",
    "import seaborn as sns\n",
    "import statsmodels.api as sm\n",
    "import warnings\n",
    "\n",
    "from sklearn.model_selection import train_test_split\n",
    "from sklearn.linear_model import LogisticRegression\n",
    "from sklearn.metrics import classification_report\n",
    "from sklearn.metrics import confusion_matrix\n",
    "from sklearn.model_selection import cross_val_score\n",
    "from sklearn import metrics\n",
    "from IPython.core.display import HTML"
   ]
  },
  {
   "cell_type": "markdown",
   "id": "131d5aa5",
   "metadata": {},
   "source": [
    "## Funções de Auxílio"
   ]
  },
  {
   "cell_type": "code",
   "execution_count": 146,
   "id": "c150087e",
   "metadata": {
    "ExecuteTime": {
     "end_time": "2021-10-27T23:37:44.795171Z",
     "start_time": "2021-10-27T23:37:44.777194Z"
    }
   },
   "outputs": [
    {
     "name": "stdout",
     "output_type": "stream",
     "text": [
      "Populating the interactive namespace from numpy and matplotlib\n"
     ]
    },
    {
     "data": {
      "text/html": [
       "<style>.container { width:100% !important; }</style>"
      ],
      "text/plain": [
       "<IPython.core.display.HTML object>"
      ]
     },
     "metadata": {},
     "output_type": "display_data"
    }
   ],
   "source": [
    "# função dos parâmetros do gráfico\n",
    "def jupyter_settings():\n",
    "    %matplotlib inline\n",
    "    %pylab inline\n",
    "    \n",
    "    plt.style.use( 'bmh' )\n",
    "    plt.rcParams['figure.figsize'] = [25, 12]\n",
    "    plt.rcParams['font.size'] = 24\n",
    "    \n",
    "    display( HTML( '<style>.container { width:100% !important; }</style>') )\n",
    "    pd.options.display.max_columns = None\n",
    "    pd.options.display.max_rows = None\n",
    "    pd.set_option( 'display.expand_frame_repr', False )\n",
    "    \n",
    "    sns.set()\n",
    "    warnings.filterwarnings('ignore')\n",
    "\n",
    "jupyter_settings()"
   ]
  },
  {
   "cell_type": "markdown",
   "id": "95f96b04",
   "metadata": {},
   "source": [
    "## Carregando os dados"
   ]
  },
  {
   "cell_type": "code",
   "execution_count": 3,
   "id": "00dd97fd",
   "metadata": {
    "ExecuteTime": {
     "end_time": "2021-10-27T22:07:49.481985Z",
     "start_time": "2021-10-27T22:07:49.365422Z"
    }
   },
   "outputs": [
    {
     "data": {
      "text/html": [
       "<div>\n",
       "<style scoped>\n",
       "    .dataframe tbody tr th:only-of-type {\n",
       "        vertical-align: middle;\n",
       "    }\n",
       "\n",
       "    .dataframe tbody tr th {\n",
       "        vertical-align: top;\n",
       "    }\n",
       "\n",
       "    .dataframe thead th {\n",
       "        text-align: right;\n",
       "    }\n",
       "</style>\n",
       "<table border=\"1\" class=\"dataframe\">\n",
       "  <thead>\n",
       "    <tr style=\"text-align: right;\">\n",
       "      <th></th>\n",
       "      <th>Loan_ID</th>\n",
       "      <th>Gender</th>\n",
       "      <th>Married</th>\n",
       "      <th>Dependents</th>\n",
       "      <th>Education</th>\n",
       "      <th>Self_Employed</th>\n",
       "      <th>ApplicantIncome</th>\n",
       "      <th>CoapplicantIncome</th>\n",
       "      <th>LoanAmount</th>\n",
       "      <th>Loan_Amount_Term</th>\n",
       "      <th>Credit_History</th>\n",
       "      <th>Property_Area</th>\n",
       "      <th>Loan_Status</th>\n",
       "    </tr>\n",
       "  </thead>\n",
       "  <tbody>\n",
       "    <tr>\n",
       "      <th>0</th>\n",
       "      <td>LP001002</td>\n",
       "      <td>Male</td>\n",
       "      <td>No</td>\n",
       "      <td>0</td>\n",
       "      <td>Graduate</td>\n",
       "      <td>No</td>\n",
       "      <td>5849</td>\n",
       "      <td>0.0</td>\n",
       "      <td>NaN</td>\n",
       "      <td>360.0</td>\n",
       "      <td>1.0</td>\n",
       "      <td>Urban</td>\n",
       "      <td>Y</td>\n",
       "    </tr>\n",
       "    <tr>\n",
       "      <th>1</th>\n",
       "      <td>LP001003</td>\n",
       "      <td>Male</td>\n",
       "      <td>Yes</td>\n",
       "      <td>1</td>\n",
       "      <td>Graduate</td>\n",
       "      <td>No</td>\n",
       "      <td>4583</td>\n",
       "      <td>1508.0</td>\n",
       "      <td>128.0</td>\n",
       "      <td>360.0</td>\n",
       "      <td>1.0</td>\n",
       "      <td>Rural</td>\n",
       "      <td>N</td>\n",
       "    </tr>\n",
       "    <tr>\n",
       "      <th>2</th>\n",
       "      <td>LP001005</td>\n",
       "      <td>Male</td>\n",
       "      <td>Yes</td>\n",
       "      <td>0</td>\n",
       "      <td>Graduate</td>\n",
       "      <td>Yes</td>\n",
       "      <td>3000</td>\n",
       "      <td>0.0</td>\n",
       "      <td>66.0</td>\n",
       "      <td>360.0</td>\n",
       "      <td>1.0</td>\n",
       "      <td>Urban</td>\n",
       "      <td>Y</td>\n",
       "    </tr>\n",
       "    <tr>\n",
       "      <th>3</th>\n",
       "      <td>LP001006</td>\n",
       "      <td>Male</td>\n",
       "      <td>Yes</td>\n",
       "      <td>0</td>\n",
       "      <td>Not Graduate</td>\n",
       "      <td>No</td>\n",
       "      <td>2583</td>\n",
       "      <td>2358.0</td>\n",
       "      <td>120.0</td>\n",
       "      <td>360.0</td>\n",
       "      <td>1.0</td>\n",
       "      <td>Urban</td>\n",
       "      <td>Y</td>\n",
       "    </tr>\n",
       "    <tr>\n",
       "      <th>4</th>\n",
       "      <td>LP001008</td>\n",
       "      <td>Male</td>\n",
       "      <td>No</td>\n",
       "      <td>0</td>\n",
       "      <td>Graduate</td>\n",
       "      <td>No</td>\n",
       "      <td>6000</td>\n",
       "      <td>0.0</td>\n",
       "      <td>141.0</td>\n",
       "      <td>360.0</td>\n",
       "      <td>1.0</td>\n",
       "      <td>Urban</td>\n",
       "      <td>Y</td>\n",
       "    </tr>\n",
       "  </tbody>\n",
       "</table>\n",
       "</div>"
      ],
      "text/plain": [
       "    Loan_ID Gender Married Dependents     Education Self_Employed  ApplicantIncome  CoapplicantIncome  LoanAmount  Loan_Amount_Term  Credit_History Property_Area Loan_Status\n",
       "0  LP001002   Male      No          0      Graduate            No             5849                0.0         NaN             360.0             1.0         Urban           Y\n",
       "1  LP001003   Male     Yes          1      Graduate            No             4583             1508.0       128.0             360.0             1.0         Rural           N\n",
       "2  LP001005   Male     Yes          0      Graduate           Yes             3000                0.0        66.0             360.0             1.0         Urban           Y\n",
       "3  LP001006   Male     Yes          0  Not Graduate            No             2583             2358.0       120.0             360.0             1.0         Urban           Y\n",
       "4  LP001008   Male      No          0      Graduate            No             6000                0.0       141.0             360.0             1.0         Urban           Y"
      ]
     },
     "execution_count": 3,
     "metadata": {},
     "output_type": "execute_result"
    }
   ],
   "source": [
    "dados_raw = pd.read_csv('Dados/treino.csv')\n",
    "dados_raw.head()"
   ]
  },
  {
   "cell_type": "markdown",
   "id": "79101c51",
   "metadata": {},
   "source": [
    "# Descrição dos dados"
   ]
  },
  {
   "cell_type": "markdown",
   "id": "38e10e40",
   "metadata": {},
   "source": [
    "Veremos uma breve descrição dos dados, de forma a entender melhor os dados para as etapas posteriores."
   ]
  },
  {
   "cell_type": "code",
   "execution_count": 4,
   "id": "7f5675e3",
   "metadata": {
    "ExecuteTime": {
     "end_time": "2021-10-27T22:07:49.492389Z",
     "start_time": "2021-10-27T22:07:49.486210Z"
    }
   },
   "outputs": [],
   "source": [
    "dados1 = dados_raw.copy()"
   ]
  },
  {
   "cell_type": "markdown",
   "id": "40b89840",
   "metadata": {},
   "source": [
    "## Renomeando as colunas"
   ]
  },
  {
   "cell_type": "code",
   "execution_count": 5,
   "id": "942a23b5",
   "metadata": {
    "ExecuteTime": {
     "end_time": "2021-10-27T22:07:49.501340Z",
     "start_time": "2021-10-27T22:07:49.496547Z"
    }
   },
   "outputs": [
    {
     "data": {
      "text/plain": [
       "Index(['Loan_ID', 'Gender', 'Married', 'Dependents', 'Education',\n",
       "       'Self_Employed', 'ApplicantIncome', 'CoapplicantIncome', 'LoanAmount',\n",
       "       'Loan_Amount_Term', 'Credit_History', 'Property_Area', 'Loan_Status'],\n",
       "      dtype='object')"
      ]
     },
     "execution_count": 5,
     "metadata": {},
     "output_type": "execute_result"
    }
   ],
   "source": [
    "dados1.columns"
   ]
  },
  {
   "cell_type": "code",
   "execution_count": 6,
   "id": "0de7a461",
   "metadata": {
    "ExecuteTime": {
     "end_time": "2021-10-27T22:07:49.525744Z",
     "start_time": "2021-10-27T22:07:49.503619Z"
    }
   },
   "outputs": [
    {
     "data": {
      "text/html": [
       "<div>\n",
       "<style scoped>\n",
       "    .dataframe tbody tr th:only-of-type {\n",
       "        vertical-align: middle;\n",
       "    }\n",
       "\n",
       "    .dataframe tbody tr th {\n",
       "        vertical-align: top;\n",
       "    }\n",
       "\n",
       "    .dataframe thead th {\n",
       "        text-align: right;\n",
       "    }\n",
       "</style>\n",
       "<table border=\"1\" class=\"dataframe\">\n",
       "  <thead>\n",
       "    <tr style=\"text-align: right;\">\n",
       "      <th></th>\n",
       "      <th>id_emprestimo</th>\n",
       "      <th>genero</th>\n",
       "      <th>casado</th>\n",
       "      <th>dependentes</th>\n",
       "      <th>educacao</th>\n",
       "      <th>autonomo</th>\n",
       "      <th>renda_requerente</th>\n",
       "      <th>renda_co-requerente</th>\n",
       "      <th>valor_emprestimo</th>\n",
       "      <th>prazo_emprestimo</th>\n",
       "      <th>historico_credito</th>\n",
       "      <th>tipo_propriedade</th>\n",
       "      <th>status_emprestimo</th>\n",
       "    </tr>\n",
       "  </thead>\n",
       "  <tbody>\n",
       "    <tr>\n",
       "      <th>0</th>\n",
       "      <td>LP001002</td>\n",
       "      <td>Male</td>\n",
       "      <td>No</td>\n",
       "      <td>0</td>\n",
       "      <td>Graduate</td>\n",
       "      <td>No</td>\n",
       "      <td>5849</td>\n",
       "      <td>0.0</td>\n",
       "      <td>NaN</td>\n",
       "      <td>360.0</td>\n",
       "      <td>1.0</td>\n",
       "      <td>Urban</td>\n",
       "      <td>Y</td>\n",
       "    </tr>\n",
       "    <tr>\n",
       "      <th>1</th>\n",
       "      <td>LP001003</td>\n",
       "      <td>Male</td>\n",
       "      <td>Yes</td>\n",
       "      <td>1</td>\n",
       "      <td>Graduate</td>\n",
       "      <td>No</td>\n",
       "      <td>4583</td>\n",
       "      <td>1508.0</td>\n",
       "      <td>128.0</td>\n",
       "      <td>360.0</td>\n",
       "      <td>1.0</td>\n",
       "      <td>Rural</td>\n",
       "      <td>N</td>\n",
       "    </tr>\n",
       "    <tr>\n",
       "      <th>2</th>\n",
       "      <td>LP001005</td>\n",
       "      <td>Male</td>\n",
       "      <td>Yes</td>\n",
       "      <td>0</td>\n",
       "      <td>Graduate</td>\n",
       "      <td>Yes</td>\n",
       "      <td>3000</td>\n",
       "      <td>0.0</td>\n",
       "      <td>66.0</td>\n",
       "      <td>360.0</td>\n",
       "      <td>1.0</td>\n",
       "      <td>Urban</td>\n",
       "      <td>Y</td>\n",
       "    </tr>\n",
       "    <tr>\n",
       "      <th>3</th>\n",
       "      <td>LP001006</td>\n",
       "      <td>Male</td>\n",
       "      <td>Yes</td>\n",
       "      <td>0</td>\n",
       "      <td>Not Graduate</td>\n",
       "      <td>No</td>\n",
       "      <td>2583</td>\n",
       "      <td>2358.0</td>\n",
       "      <td>120.0</td>\n",
       "      <td>360.0</td>\n",
       "      <td>1.0</td>\n",
       "      <td>Urban</td>\n",
       "      <td>Y</td>\n",
       "    </tr>\n",
       "    <tr>\n",
       "      <th>4</th>\n",
       "      <td>LP001008</td>\n",
       "      <td>Male</td>\n",
       "      <td>No</td>\n",
       "      <td>0</td>\n",
       "      <td>Graduate</td>\n",
       "      <td>No</td>\n",
       "      <td>6000</td>\n",
       "      <td>0.0</td>\n",
       "      <td>141.0</td>\n",
       "      <td>360.0</td>\n",
       "      <td>1.0</td>\n",
       "      <td>Urban</td>\n",
       "      <td>Y</td>\n",
       "    </tr>\n",
       "  </tbody>\n",
       "</table>\n",
       "</div>"
      ],
      "text/plain": [
       "  id_emprestimo genero casado dependentes      educacao autonomo  renda_requerente  renda_co-requerente  valor_emprestimo  prazo_emprestimo  historico_credito tipo_propriedade status_emprestimo\n",
       "0      LP001002   Male     No           0      Graduate       No              5849                  0.0               NaN             360.0                1.0            Urban                 Y\n",
       "1      LP001003   Male    Yes           1      Graduate       No              4583               1508.0             128.0             360.0                1.0            Rural                 N\n",
       "2      LP001005   Male    Yes           0      Graduate      Yes              3000                  0.0              66.0             360.0                1.0            Urban                 Y\n",
       "3      LP001006   Male    Yes           0  Not Graduate       No              2583               2358.0             120.0             360.0                1.0            Urban                 Y\n",
       "4      LP001008   Male     No           0      Graduate       No              6000                  0.0             141.0             360.0                1.0            Urban                 Y"
      ]
     },
     "execution_count": 6,
     "metadata": {},
     "output_type": "execute_result"
    }
   ],
   "source": [
    "# renomeando as colunas\n",
    "dados1.columns = ['id_emprestimo', 'genero', 'casado', 'dependentes', 'educacao',\n",
    "                  'autonomo', 'renda_requerente', 'renda_co-requerente', 'valor_emprestimo',\n",
    "                  'prazo_emprestimo', 'historico_credito', 'tipo_propriedade',\n",
    "                  'status_emprestimo']\n",
    "\n",
    "dados1.head()"
   ]
  },
  {
   "cell_type": "markdown",
   "id": "67fdec47",
   "metadata": {},
   "source": [
    "Para facilitar o entendimento, vamos deixar tudo em português, então passaremos os valores das colunas em inglês para português."
   ]
  },
  {
   "cell_type": "code",
   "execution_count": 7,
   "id": "dbb2b752",
   "metadata": {
    "ExecuteTime": {
     "end_time": "2021-10-27T22:07:49.544598Z",
     "start_time": "2021-10-27T22:07:49.527780Z"
    }
   },
   "outputs": [],
   "source": [
    "dados1['genero'] = dados1['genero'].replace(['Male', 'Female'], ['Masculino', 'Feminino'])\n",
    "dados1['educacao'] = dados1['educacao'].replace(['Graduate', 'Not Graduate'],\n",
    "                                                ['Graduado', 'Não Graduado'])\n",
    "# rural é escrito da mesma forma\n",
    "dados1['tipo_propriedade'] = dados1['tipo_propriedade'].replace(['Urban', 'Semiurban'],\n",
    "                                                                ['Urbano', 'Semi-urbano'])\n",
    "dados1['casado'] = dados1['casado'].replace(['Yes', 'No'], ['Sim', 'Não'])\n",
    "dados1['autonomo'] = dados1['autonomo'].replace(['Yes', 'No'], ['Sim', 'Não'])\n",
    "dados1['status_emprestimo'] = dados1['status_emprestimo'].replace(['Y', 'N'], ['Aprovado', 'Negado'])\n",
    "dados1['historico_credito'] = dados1['historico_credito'].replace([1.0, 0.0],\n",
    "                                                                        ['Bom', 'Ruim'])"
   ]
  },
  {
   "cell_type": "code",
   "execution_count": 8,
   "id": "540fceac",
   "metadata": {
    "ExecuteTime": {
     "end_time": "2021-10-27T22:07:49.564426Z",
     "start_time": "2021-10-27T22:07:49.548333Z"
    }
   },
   "outputs": [
    {
     "data": {
      "text/html": [
       "<div>\n",
       "<style scoped>\n",
       "    .dataframe tbody tr th:only-of-type {\n",
       "        vertical-align: middle;\n",
       "    }\n",
       "\n",
       "    .dataframe tbody tr th {\n",
       "        vertical-align: top;\n",
       "    }\n",
       "\n",
       "    .dataframe thead th {\n",
       "        text-align: right;\n",
       "    }\n",
       "</style>\n",
       "<table border=\"1\" class=\"dataframe\">\n",
       "  <thead>\n",
       "    <tr style=\"text-align: right;\">\n",
       "      <th></th>\n",
       "      <th>id_emprestimo</th>\n",
       "      <th>genero</th>\n",
       "      <th>casado</th>\n",
       "      <th>dependentes</th>\n",
       "      <th>educacao</th>\n",
       "      <th>autonomo</th>\n",
       "      <th>renda_requerente</th>\n",
       "      <th>renda_co-requerente</th>\n",
       "      <th>valor_emprestimo</th>\n",
       "      <th>prazo_emprestimo</th>\n",
       "      <th>historico_credito</th>\n",
       "      <th>tipo_propriedade</th>\n",
       "      <th>status_emprestimo</th>\n",
       "    </tr>\n",
       "  </thead>\n",
       "  <tbody>\n",
       "    <tr>\n",
       "      <th>0</th>\n",
       "      <td>LP001002</td>\n",
       "      <td>Masculino</td>\n",
       "      <td>Não</td>\n",
       "      <td>0</td>\n",
       "      <td>Graduado</td>\n",
       "      <td>Não</td>\n",
       "      <td>5849</td>\n",
       "      <td>0.0</td>\n",
       "      <td>NaN</td>\n",
       "      <td>360.0</td>\n",
       "      <td>Bom</td>\n",
       "      <td>Urbano</td>\n",
       "      <td>Aprovado</td>\n",
       "    </tr>\n",
       "  </tbody>\n",
       "</table>\n",
       "</div>"
      ],
      "text/plain": [
       "  id_emprestimo     genero casado dependentes  educacao autonomo  renda_requerente  renda_co-requerente  valor_emprestimo  prazo_emprestimo historico_credito tipo_propriedade status_emprestimo\n",
       "0      LP001002  Masculino    Não           0  Graduado      Não              5849                  0.0               NaN             360.0               Bom           Urbano          Aprovado"
      ]
     },
     "execution_count": 8,
     "metadata": {},
     "output_type": "execute_result"
    }
   ],
   "source": [
    "dados1.head(1)"
   ]
  },
  {
   "cell_type": "markdown",
   "id": "5a302f03",
   "metadata": {},
   "source": [
    "### Dicionário dos dados\n",
    "* **id_emprestimo**: Índice do emprestimo\n",
    "* **genero**: Genêro do requerente\n",
    "* **casado**: Se o requerente é casado\n",
    "* **dependentes**: Quantos dependentes possui o requerente\n",
    "* **educacao**: Se o requerente possui ensino superior ou não\n",
    "* **autonomo**: Se o requerente é trabalhador autônomo\n",
    "* **renda_requerente**: Qual a renda do requerente\n",
    "* **renda_co-requerente**: Qual a renda do co-requenrete (seja conjuge, sócio, etc...)\n",
    "* **valor_emprestimo**: Valor do empréstimo\n",
    "* **prazo_emprestimo**: Quantidade de meses para pagar o empréstimo\n",
    "* **historico_credito**: Histórico do requerente em créditos.\n",
    "* **tipo_propriedade**: Tipo de propriedade do requerente\n",
    "* **status_emprestimo**: Status do empréstimo, dizendo se ele foi aprovado ou negado"
   ]
  },
  {
   "cell_type": "code",
   "execution_count": 9,
   "id": "92edc47b",
   "metadata": {
    "ExecuteTime": {
     "end_time": "2021-10-27T22:07:49.576091Z",
     "start_time": "2021-10-27T22:07:49.568232Z"
    }
   },
   "outputs": [
    {
     "data": {
      "text/plain": [
       "array(['Bom', 'Ruim', nan], dtype=object)"
      ]
     },
     "execution_count": 9,
     "metadata": {},
     "output_type": "execute_result"
    }
   ],
   "source": [
    "dados1['historico_credito'].unique()"
   ]
  },
  {
   "cell_type": "markdown",
   "id": "21888fa5",
   "metadata": {},
   "source": [
    "## Dimensões dos dados"
   ]
  },
  {
   "cell_type": "code",
   "execution_count": 10,
   "id": "5f1e50ec",
   "metadata": {
    "ExecuteTime": {
     "end_time": "2021-10-27T22:07:49.583160Z",
     "start_time": "2021-10-27T22:07:49.578368Z"
    }
   },
   "outputs": [
    {
     "name": "stdout",
     "output_type": "stream",
     "text": [
      "Número de linhas: 614\n",
      "Número de colunas: 13\n"
     ]
    }
   ],
   "source": [
    "print(f'Número de linhas: {dados1.shape[0]}')\n",
    "print(f'Número de colunas: {dados1.shape[1]}')"
   ]
  },
  {
   "cell_type": "markdown",
   "id": "de4354bc",
   "metadata": {},
   "source": [
    "## Tipos de dados"
   ]
  },
  {
   "cell_type": "code",
   "execution_count": 11,
   "id": "a46a3717",
   "metadata": {
    "ExecuteTime": {
     "end_time": "2021-10-27T22:07:49.592879Z",
     "start_time": "2021-10-27T22:07:49.587395Z"
    }
   },
   "outputs": [
    {
     "data": {
      "text/plain": [
       "id_emprestimo           object\n",
       "genero                  object\n",
       "casado                  object\n",
       "dependentes             object\n",
       "educacao                object\n",
       "autonomo                object\n",
       "renda_requerente         int64\n",
       "renda_co-requerente    float64\n",
       "valor_emprestimo       float64\n",
       "prazo_emprestimo       float64\n",
       "historico_credito       object\n",
       "tipo_propriedade        object\n",
       "status_emprestimo       object\n",
       "dtype: object"
      ]
     },
     "execution_count": 11,
     "metadata": {},
     "output_type": "execute_result"
    }
   ],
   "source": [
    "dados1.dtypes"
   ]
  },
  {
   "cell_type": "markdown",
   "id": "46968595",
   "metadata": {},
   "source": [
    "## Checando valores ausentes"
   ]
  },
  {
   "cell_type": "code",
   "execution_count": 12,
   "id": "6b249d4d",
   "metadata": {
    "ExecuteTime": {
     "end_time": "2021-10-27T22:07:49.607061Z",
     "start_time": "2021-10-27T22:07:49.596466Z"
    }
   },
   "outputs": [
    {
     "data": {
      "text/plain": [
       "id_emprestimo           0\n",
       "genero                 13\n",
       "casado                  3\n",
       "dependentes            15\n",
       "educacao                0\n",
       "autonomo               32\n",
       "renda_requerente        0\n",
       "renda_co-requerente     0\n",
       "valor_emprestimo       22\n",
       "prazo_emprestimo       14\n",
       "historico_credito      50\n",
       "tipo_propriedade        0\n",
       "status_emprestimo       0\n",
       "dtype: int64"
      ]
     },
     "execution_count": 12,
     "metadata": {},
     "output_type": "execute_result"
    }
   ],
   "source": [
    "dados1.isna().sum()"
   ]
  },
  {
   "cell_type": "markdown",
   "id": "f5984f3f",
   "metadata": {},
   "source": [
    "Temos os seguintes valores ausentes:\n",
    "* **genero**: Possivelmente a pessoa não preencheu esse dados ou não foi cadastrado. Nesse caso descartaremos as linhas que possuem valores ausentes\n",
    "* **casado**: Mesmo motivo citado acima. Também descartaremos as linhas\n",
    "* **dependentes**: Consideraremos o valor que se repete mais vezes para o preenchimento\n",
    "* **autonomo**: Consideraremos que os valores ausentes são de requerentes que não trabalham como autônomos.\n",
    "* **valor_emprestimo**: Colocaremos a média dos valores de empréstimo\n",
    "* **prazo_emprestimo**: Colocaremos o valor mais comum, no caso o valor que mais se repete que é a moda, para os valores ausentes\n",
    "* **historico_credito**: O mesmo de  `prazo_emprestimo`"
   ]
  },
  {
   "cell_type": "markdown",
   "id": "47572fa7",
   "metadata": {
    "ExecuteTime": {
     "end_time": "2021-10-27T18:33:13.832123Z",
     "start_time": "2021-10-27T18:33:13.829116Z"
    }
   },
   "source": [
    "### Preenchendo os valores"
   ]
  },
  {
   "cell_type": "code",
   "execution_count": 13,
   "id": "23e1c123",
   "metadata": {
    "ExecuteTime": {
     "end_time": "2021-10-27T22:07:49.621031Z",
     "start_time": "2021-10-27T22:07:49.609883Z"
    }
   },
   "outputs": [
    {
     "data": {
      "text/plain": [
       "dependentes\n",
       "0     345\n",
       "1     102\n",
       "2     101\n",
       "3+     51\n",
       "Name: id_emprestimo, dtype: int64"
      ]
     },
     "execution_count": 13,
     "metadata": {},
     "output_type": "execute_result"
    }
   ],
   "source": [
    "# dependentes\n",
    "dados1.groupby('dependentes')['id_emprestimo'].nunique()"
   ]
  },
  {
   "cell_type": "code",
   "execution_count": 14,
   "id": "b22a728f",
   "metadata": {
    "ExecuteTime": {
     "end_time": "2021-10-27T22:07:49.633200Z",
     "start_time": "2021-10-27T22:07:49.623992Z"
    }
   },
   "outputs": [
    {
     "data": {
      "text/plain": [
       "146.41216216216216"
      ]
     },
     "execution_count": 14,
     "metadata": {},
     "output_type": "execute_result"
    }
   ],
   "source": [
    "# empréstimo\n",
    "dados1['valor_emprestimo'].mean()"
   ]
  },
  {
   "cell_type": "code",
   "execution_count": 15,
   "id": "1e7e0dad",
   "metadata": {
    "ExecuteTime": {
     "end_time": "2021-10-27T22:07:49.646420Z",
     "start_time": "2021-10-27T22:07:49.635341Z"
    }
   },
   "outputs": [
    {
     "data": {
      "text/plain": [
       "prazo_emprestimo\n",
       "12.0       1\n",
       "36.0       2\n",
       "60.0       2\n",
       "84.0       4\n",
       "120.0      3\n",
       "180.0     44\n",
       "240.0      4\n",
       "300.0     13\n",
       "360.0    512\n",
       "480.0     15\n",
       "Name: id_emprestimo, dtype: int64"
      ]
     },
     "execution_count": 15,
     "metadata": {},
     "output_type": "execute_result"
    }
   ],
   "source": [
    "# prazo empréstimo\n",
    "dados1.groupby('prazo_emprestimo')['id_emprestimo'].nunique()"
   ]
  },
  {
   "cell_type": "code",
   "execution_count": 16,
   "id": "0a3bdd93",
   "metadata": {
    "ExecuteTime": {
     "end_time": "2021-10-27T22:07:49.657743Z",
     "start_time": "2021-10-27T22:07:49.648390Z"
    }
   },
   "outputs": [
    {
     "data": {
      "text/plain": [
       "historico_credito\n",
       "Bom     475\n",
       "Ruim     89\n",
       "Name: id_emprestimo, dtype: int64"
      ]
     },
     "execution_count": 16,
     "metadata": {},
     "output_type": "execute_result"
    }
   ],
   "source": [
    "# histórico crédito\n",
    "dados1.groupby('historico_credito')['id_emprestimo'].nunique()"
   ]
  },
  {
   "cell_type": "code",
   "execution_count": 17,
   "id": "174111bb",
   "metadata": {
    "ExecuteTime": {
     "end_time": "2021-10-27T22:07:49.667000Z",
     "start_time": "2021-10-27T22:07:49.659759Z"
    }
   },
   "outputs": [],
   "source": [
    "dados1['dependentes'].fillna('0', inplace=True)\n",
    "dados1['valor_emprestimo'].fillna(146.41, inplace=True)\n",
    "dados1['prazo_emprestimo'].fillna(360., inplace=True)\n",
    "dados1['historico_credito'].fillna('Bom', inplace=True)\n",
    "dados1['autonomo'].fillna('Não', inplace=True)"
   ]
  },
  {
   "cell_type": "code",
   "execution_count": 18,
   "id": "9ea8d0a7",
   "metadata": {
    "ExecuteTime": {
     "end_time": "2021-10-27T22:07:49.678731Z",
     "start_time": "2021-10-27T22:07:49.669776Z"
    }
   },
   "outputs": [
    {
     "data": {
      "text/plain": [
       "id_emprestimo           0\n",
       "genero                 13\n",
       "casado                  3\n",
       "dependentes             0\n",
       "educacao                0\n",
       "autonomo                0\n",
       "renda_requerente        0\n",
       "renda_co-requerente     0\n",
       "valor_emprestimo        0\n",
       "prazo_emprestimo        0\n",
       "historico_credito       0\n",
       "tipo_propriedade        0\n",
       "status_emprestimo       0\n",
       "dtype: int64"
      ]
     },
     "execution_count": 18,
     "metadata": {},
     "output_type": "execute_result"
    }
   ],
   "source": [
    "dados1.isna().sum()"
   ]
  },
  {
   "cell_type": "markdown",
   "id": "aa1a11f1",
   "metadata": {},
   "source": [
    "### Excluindo os valores"
   ]
  },
  {
   "cell_type": "code",
   "execution_count": 19,
   "id": "17a42911",
   "metadata": {
    "ExecuteTime": {
     "end_time": "2021-10-27T22:07:49.685521Z",
     "start_time": "2021-10-27T22:07:49.680942Z"
    }
   },
   "outputs": [
    {
     "name": "stdout",
     "output_type": "stream",
     "text": [
      "Número de linhas: 614\n"
     ]
    }
   ],
   "source": [
    "# verificando novamente o valor de linhas\n",
    "print(f'Número de linhas: {dados1.shape[0]}')"
   ]
  },
  {
   "cell_type": "code",
   "execution_count": 20,
   "id": "e01729cb",
   "metadata": {
    "ExecuteTime": {
     "end_time": "2021-10-27T22:07:49.707682Z",
     "start_time": "2021-10-27T22:07:49.688852Z"
    }
   },
   "outputs": [],
   "source": [
    "dados1 = dados1.dropna()"
   ]
  },
  {
   "cell_type": "code",
   "execution_count": 21,
   "id": "47e5f559",
   "metadata": {
    "ExecuteTime": {
     "end_time": "2021-10-27T22:07:49.713305Z",
     "start_time": "2021-10-27T22:07:49.709262Z"
    }
   },
   "outputs": [
    {
     "name": "stdout",
     "output_type": "stream",
     "text": [
      "Número de linhas: 598\n"
     ]
    }
   ],
   "source": [
    "# verificando novamente o valor de linhas\n",
    "print(f'Número de linhas: {dados1.shape[0]}')"
   ]
  },
  {
   "cell_type": "markdown",
   "id": "28e42d6c",
   "metadata": {},
   "source": [
    "Vemos que só exclui as 16 linhas não tratadas, o que deixou nossos dados tratados. Vamos conferir se todos os valores ausentes foram tratados."
   ]
  },
  {
   "cell_type": "code",
   "execution_count": 22,
   "id": "03538b37",
   "metadata": {
    "ExecuteTime": {
     "end_time": "2021-10-27T22:07:49.726144Z",
     "start_time": "2021-10-27T22:07:49.716904Z"
    }
   },
   "outputs": [
    {
     "data": {
      "text/plain": [
       "id_emprestimo          0\n",
       "genero                 0\n",
       "casado                 0\n",
       "dependentes            0\n",
       "educacao               0\n",
       "autonomo               0\n",
       "renda_requerente       0\n",
       "renda_co-requerente    0\n",
       "valor_emprestimo       0\n",
       "prazo_emprestimo       0\n",
       "historico_credito      0\n",
       "tipo_propriedade       0\n",
       "status_emprestimo      0\n",
       "dtype: int64"
      ]
     },
     "execution_count": 22,
     "metadata": {},
     "output_type": "execute_result"
    }
   ],
   "source": [
    "dados1.isna().sum()"
   ]
  },
  {
   "cell_type": "markdown",
   "id": "d84f2384",
   "metadata": {},
   "source": [
    "Com os valores tratados, podemos partir para a parte de estatística descritiva"
   ]
  },
  {
   "cell_type": "markdown",
   "id": "29f11fa4",
   "metadata": {},
   "source": [
    "## Estatística descritiva"
   ]
  },
  {
   "cell_type": "code",
   "execution_count": 23,
   "id": "fbf1c409",
   "metadata": {
    "ExecuteTime": {
     "end_time": "2021-10-27T22:07:49.738855Z",
     "start_time": "2021-10-27T22:07:49.730613Z"
    }
   },
   "outputs": [],
   "source": [
    "atributos_numericos = dados1.select_dtypes(include=['float64', 'int64'])\n",
    "atributos_categoricos = dados1.select_dtypes(exclude=['float64', 'int64'])"
   ]
  },
  {
   "cell_type": "markdown",
   "id": "9bae5203",
   "metadata": {},
   "source": [
    "### Atributos numéricos"
   ]
  },
  {
   "cell_type": "code",
   "execution_count": 24,
   "id": "af8b490f",
   "metadata": {
    "ExecuteTime": {
     "end_time": "2021-10-27T22:07:49.782417Z",
     "start_time": "2021-10-27T22:07:49.742493Z"
    }
   },
   "outputs": [
    {
     "data": {
      "text/html": [
       "<div>\n",
       "<style scoped>\n",
       "    .dataframe tbody tr th:only-of-type {\n",
       "        vertical-align: middle;\n",
       "    }\n",
       "\n",
       "    .dataframe tbody tr th {\n",
       "        vertical-align: top;\n",
       "    }\n",
       "\n",
       "    .dataframe thead th {\n",
       "        text-align: right;\n",
       "    }\n",
       "</style>\n",
       "<table border=\"1\" class=\"dataframe\">\n",
       "  <thead>\n",
       "    <tr style=\"text-align: right;\">\n",
       "      <th></th>\n",
       "      <th>Atributos</th>\n",
       "      <th>Mínimo</th>\n",
       "      <th>Máximo</th>\n",
       "      <th>Range</th>\n",
       "      <th>Média</th>\n",
       "      <th>Mediana</th>\n",
       "      <th>Desvio-Padrão</th>\n",
       "      <th>Assimetria</th>\n",
       "      <th>Curtose</th>\n",
       "    </tr>\n",
       "  </thead>\n",
       "  <tbody>\n",
       "    <tr>\n",
       "      <th>0</th>\n",
       "      <td>renda_requerente</td>\n",
       "      <td>150.0</td>\n",
       "      <td>81000.0</td>\n",
       "      <td>80850.0</td>\n",
       "      <td>5292.252508</td>\n",
       "      <td>3806.0</td>\n",
       "      <td>5802.407759</td>\n",
       "      <td>6.954134</td>\n",
       "      <td>70.388704</td>\n",
       "    </tr>\n",
       "    <tr>\n",
       "      <th>1</th>\n",
       "      <td>renda_co-requerente</td>\n",
       "      <td>0.0</td>\n",
       "      <td>41667.0</td>\n",
       "      <td>41667.0</td>\n",
       "      <td>1631.499866</td>\n",
       "      <td>1211.5</td>\n",
       "      <td>2950.845424</td>\n",
       "      <td>7.470981</td>\n",
       "      <td>83.959628</td>\n",
       "    </tr>\n",
       "    <tr>\n",
       "      <th>2</th>\n",
       "      <td>valor_emprestimo</td>\n",
       "      <td>9.0</td>\n",
       "      <td>650.0</td>\n",
       "      <td>641.0</td>\n",
       "      <td>145.019415</td>\n",
       "      <td>128.0</td>\n",
       "      <td>81.169045</td>\n",
       "      <td>2.575586</td>\n",
       "      <td>9.759223</td>\n",
       "    </tr>\n",
       "    <tr>\n",
       "      <th>3</th>\n",
       "      <td>prazo_emprestimo</td>\n",
       "      <td>12.0</td>\n",
       "      <td>480.0</td>\n",
       "      <td>468.0</td>\n",
       "      <td>342.341137</td>\n",
       "      <td>360.0</td>\n",
       "      <td>64.441029</td>\n",
       "      <td>-2.438550</td>\n",
       "      <td>7.026899</td>\n",
       "    </tr>\n",
       "  </tbody>\n",
       "</table>\n",
       "</div>"
      ],
      "text/plain": [
       "             Atributos  Mínimo   Máximo    Range        Média  Mediana  Desvio-Padrão  Assimetria    Curtose\n",
       "0     renda_requerente   150.0  81000.0  80850.0  5292.252508   3806.0    5802.407759    6.954134  70.388704\n",
       "1  renda_co-requerente     0.0  41667.0  41667.0  1631.499866   1211.5    2950.845424    7.470981  83.959628\n",
       "2     valor_emprestimo     9.0    650.0    641.0   145.019415    128.0      81.169045    2.575586   9.759223\n",
       "3     prazo_emprestimo    12.0    480.0    468.0   342.341137    360.0      64.441029   -2.438550   7.026899"
      ]
     },
     "execution_count": 24,
     "metadata": {},
     "output_type": "execute_result"
    }
   ],
   "source": [
    "# métricas de tendência central\n",
    "media = pd.DataFrame(atributos_numericos.apply(np.mean)).T \n",
    "mediana = pd.DataFrame(atributos_numericos.apply(np.median)).T \n",
    "\n",
    "# métricas de dispersão\n",
    "std = pd.DataFrame(atributos_numericos.apply(np.std)).T # desvio-padrão\n",
    "minimo = pd.DataFrame(atributos_numericos.apply(min)).T # valor mínimo\n",
    "maximo = pd.DataFrame(atributos_numericos.apply(max)).T # valor máximo\n",
    "range_ = pd.DataFrame(atributos_numericos.apply(lambda x: x.max() - x.min())).T # range\n",
    "assimetria = pd.DataFrame(atributos_numericos.apply(lambda x: x.skew())).T # assimetria\n",
    "curtose = pd.DataFrame(atributos_numericos.apply(lambda x: x.kurtosis())).T # curtose\n",
    "\n",
    "# concatenar as métricas\n",
    "metricas = pd.concat([minimo, maximo, range_, media, mediana, std, assimetria,\n",
    "                      curtose]).T.reset_index()\n",
    "\n",
    "# nomear as colunas dos atributos concatenados\n",
    "metricas.columns = ['Atributos', 'Mínimo', 'Máximo', 'Range', 'Média', 'Mediana', 'Desvio-Padrão',\n",
    "                    'Assimetria', 'Curtose']\n",
    "metricas"
   ]
  },
  {
   "cell_type": "markdown",
   "id": "49d05bc0",
   "metadata": {},
   "source": [
    "Essa tabela nos traz alguns bons parâmetros para entendermos nossos dados. O que iremos destacar aqui são os 3 últimos: desvio-padrão, assimetria e curtose. \n",
    "\n",
    "O desvio-padrão é uma medida de dispersão capaz de identificar o erro em torno da média, logo ele nos dá o grau de dispersão do nosso conjunto de dados. Podemos ver que o desvio padrão possui valores maiores que a media nas rendas, nos dandos que a renda deve ter valores muito dispersos da média. Já no valores e prazo do empréstimo, os valores devem ser próximos da média.\n",
    "\n",
    "A Assimetria diz a deformação da distribuição em relação a uma distribuição normal. Assimetria positiva nos dizem que os dados estão com uma deformação para esquerda, logo isso nos diz que os dados estão mais concetrados em valores baixo. Assimetria negativa nos diz que a deformação dos dados é para a direita, estando os dados com valores maiores. as rendas e o valor do emprestimo estão com assimetria positiva, o que nós diz que a maior quantidade de valores estão em valores baixos, logo as rendas e os empréstimos são de valor baixo. O prazo de empréstimo está com assimetria negativo, o que nós diz que as pessoas pegam empréstimo com um prazo grande para o pagamento do mesmo.\n",
    "\n",
    "A curtose nós diz qual concentrado estão nossos dados. Quanto maior a curtose, mais concentrado estão os dados em um determinado ponto, dando picos altos. Todos nosso valores são positivos, porém as rendas são as de valor mais alto, demonstrando que os dados estão agrupados em torno de um determinado valor.\n",
    "\n",
    "Vamos ver a assimetria e a curtose em gráficos."
   ]
  },
  {
   "cell_type": "code",
   "execution_count": 25,
   "id": "ab1ecdb6",
   "metadata": {
    "ExecuteTime": {
     "end_time": "2021-10-27T22:07:50.798461Z",
     "start_time": "2021-10-27T22:07:49.784838Z"
    }
   },
   "outputs": [
    {
     "data": {
      "text/plain": [
       "<AxesSubplot:xlabel='prazo_emprestimo', ylabel='Density'>"
      ]
     },
     "execution_count": 25,
     "metadata": {},
     "output_type": "execute_result"
    },
    {
     "data": {
      "image/png": "[encoded data removed]",
      "text/plain": [
       "<Figure size 1008x720 with 4 Axes>"
      ]
     },
     "metadata": {},
     "output_type": "display_data"
    }
   ],
   "source": [
    "fig = plt.figure(figsize=(14, 10))\n",
    "\n",
    "# renda_requerente\n",
    "ax1 = fig.add_subplot(2, 2, 1)\n",
    "sns.distplot(dados1['renda_requerente'], ax=ax1)\n",
    "\n",
    "# renda_co-requerente\n",
    "ax2 = fig.add_subplot(2, 2, 2)\n",
    "sns.distplot(dados1['renda_co-requerente'], ax=ax2)\n",
    "\n",
    "# valor_emprestimio\n",
    "ax3 = fig.add_subplot(2, 2, 3)\n",
    "sns.distplot(dados1['valor_emprestimo'], ax=ax3)\n",
    "\n",
    "# prazo_emprestimo\n",
    "ax4 = fig.add_subplot(2, 2, 4)\n",
    "sns.distplot(dados1['prazo_emprestimo'], ax=ax4)"
   ]
  },
  {
   "cell_type": "markdown",
   "id": "b2d3763a",
   "metadata": {},
   "source": [
    "### Atributos categóricos"
   ]
  },
  {
   "cell_type": "code",
   "execution_count": 26,
   "id": "414f988b",
   "metadata": {
    "ExecuteTime": {
     "end_time": "2021-10-27T22:07:50.813579Z",
     "start_time": "2021-10-27T22:07:50.801751Z"
    }
   },
   "outputs": [
    {
     "data": {
      "text/plain": [
       "id_emprestimo        598\n",
       "genero                 2\n",
       "casado                 2\n",
       "dependentes            4\n",
       "educacao               2\n",
       "autonomo               2\n",
       "historico_credito      2\n",
       "tipo_propriedade       3\n",
       "status_emprestimo      2\n",
       "dtype: int64"
      ]
     },
     "execution_count": 26,
     "metadata": {},
     "output_type": "execute_result"
    }
   ],
   "source": [
    "# ver quantas categorias temos por variáveis\n",
    "atributos_categoricos.apply(lambda x: x.unique().shape[0])"
   ]
  },
  {
   "cell_type": "code",
   "execution_count": 27,
   "id": "b1efda5e",
   "metadata": {
    "ExecuteTime": {
     "end_time": "2021-10-27T22:07:51.466323Z",
     "start_time": "2021-10-27T22:07:50.816657Z"
    }
   },
   "outputs": [
    {
     "data": {
      "text/plain": [
       "<AxesSubplot:xlabel='educacao', ylabel='valor_emprestimo'>"
      ]
     },
     "execution_count": 27,
     "metadata": {},
     "output_type": "execute_result"
    },
    {
     "data": {
      "image/png": "[encoded data removed]",
      "text/plain": [
       "<Figure size 1800x864 with 4 Axes>"
      ]
     },
     "metadata": {},
     "output_type": "display_data"
    }
   ],
   "source": [
    "# genero\n",
    "plt.subplot(2, 2, 1)\n",
    "sns.boxplot(x='genero', y='valor_emprestimo', data=dados1)\n",
    "\n",
    "# casado\n",
    "plt.subplot(2, 2, 2)\n",
    "sns.boxplot(x='casado', y='valor_emprestimo', data=dados1)\n",
    "\n",
    "# dependentes\n",
    "plt.subplot(2, 2, 3)\n",
    "sns.boxplot(x='dependentes', y='valor_emprestimo', data=dados1)\n",
    "\n",
    "# educacao\n",
    "plt.subplot(2, 2, 4)\n",
    "sns.boxplot(x='educacao', y='valor_emprestimo', data=dados1)"
   ]
  },
  {
   "cell_type": "markdown",
   "id": "d670fc75",
   "metadata": {},
   "source": [
    "Considerando os valores dos emprestimos, podemos concluir que:\n",
    "* Homens pedem emprestimo de valor maior\n",
    "* Solteiros pedem emprestimo de valor maior\n",
    "* Graduados pedem emprestimo de valor maior\n",
    "* Pessoas com mais dependentes pedem emprestimo de valor maior"
   ]
  },
  {
   "cell_type": "code",
   "execution_count": 28,
   "id": "392042a4",
   "metadata": {
    "ExecuteTime": {
     "end_time": "2021-10-27T22:07:52.033213Z",
     "start_time": "2021-10-27T22:07:51.469291Z"
    }
   },
   "outputs": [
    {
     "data": {
      "text/plain": [
       "<AxesSubplot:xlabel='status_emprestimo', ylabel='valor_emprestimo'>"
      ]
     },
     "execution_count": 28,
     "metadata": {},
     "output_type": "execute_result"
    },
    {
     "data": {
      "image/png": "[encoded data removed]",
      "text/plain": [
       "<Figure size 1800x864 with 4 Axes>"
      ]
     },
     "metadata": {},
     "output_type": "display_data"
    }
   ],
   "source": [
    "# autonomo\n",
    "plt.subplot(2, 2, 1)\n",
    "sns.boxplot(x='autonomo', y='valor_emprestimo', data=dados1)\n",
    "\n",
    "# historico_credito\n",
    "plt.subplot(2, 2, 2)\n",
    "sns.boxplot(x='historico_credito', y='valor_emprestimo', data=dados1)\n",
    "\n",
    "# tipo_propriedade\n",
    "plt.subplot(2, 2, 3)\n",
    "sns.boxplot(x='tipo_propriedade', y='valor_emprestimo', data=dados1)\n",
    "\n",
    "# historico_credito\n",
    "plt.subplot(2, 2, 4)\n",
    "sns.boxplot(x='status_emprestimo', y='valor_emprestimo', data=dados1)"
   ]
  },
  {
   "cell_type": "markdown",
   "id": "c4d2c3ae",
   "metadata": {},
   "source": [
    "Continuando a análise:\n",
    "* Autônomos pedem emprestimo de valor maior\n",
    "* Pessoas com histórico bom de crédito pedem emprestimo de valor maior\n",
    "* Não há uma diferença grande entre proprietários de propriedade rural, urbana e semi-urbana quando pedem empréstimo\n",
    "* Empréstimo de valores menores são mais aprovados"
   ]
  },
  {
   "cell_type": "markdown",
   "id": "c6628d50",
   "metadata": {},
   "source": [
    "# Criação de hipóteses"
   ]
  },
  {
   "cell_type": "code",
   "execution_count": 30,
   "id": "91892f07",
   "metadata": {
    "ExecuteTime": {
     "end_time": "2021-10-27T22:12:49.898432Z",
     "start_time": "2021-10-27T22:12:49.894582Z"
    }
   },
   "outputs": [],
   "source": [
    "dados2 = dados1.copy()"
   ]
  },
  {
   "cell_type": "markdown",
   "id": "3cccf324",
   "metadata": {},
   "source": [
    "Baseado no que já sabemos dos dados, criaremos as hipóteses que vem do conhecimento que temos sobre aprovação de empréstimos e o que vimos dos dados. Criaremos cinco hipóteses"
   ]
  },
  {
   "cell_type": "markdown",
   "id": "a3cbaf8a",
   "metadata": {},
   "source": [
    "1. Graduados tem maior chance de ter o empréstimo aprovado\n",
    "2. Autônomos tem maior chance de ter o empréstimo negado\n",
    "3. Pessoas com rendas maiores tem mais chance de ter o empréstimo aprovado\n",
    "4. Valores de empréstimo baixo tem maior chance de ser aprovado\n",
    "5. Pessoas casada tem maior chance de ter o empréstimo aprovado"
   ]
  },
  {
   "cell_type": "markdown",
   "id": "a40b4326",
   "metadata": {},
   "source": [
    "# Análise exploratória dos dados"
   ]
  },
  {
   "cell_type": "code",
   "execution_count": 33,
   "id": "9374809d",
   "metadata": {
    "ExecuteTime": {
     "end_time": "2021-10-27T22:22:30.437227Z",
     "start_time": "2021-10-27T22:22:30.433841Z"
    }
   },
   "outputs": [],
   "source": [
    "dados3 = dados2.copy()"
   ]
  },
  {
   "cell_type": "markdown",
   "id": "e4d855d6",
   "metadata": {},
   "source": [
    "O objetivo da análise exploratória dos dados, também chamada de EDA (Exploratory Data Analysis) é entender como as variáveis se relacionam e como impactam a variável resposta, nesse caso se o empréstimo foi aprovado ou não. Começaremos pela análise univariada."
   ]
  },
  {
   "cell_type": "markdown",
   "id": "0f5d8e7b",
   "metadata": {},
   "source": [
    "## Análise univariada"
   ]
  },
  {
   "cell_type": "markdown",
   "id": "757ea6cd",
   "metadata": {},
   "source": [
    "Essa análise tem como objetivo entender como é a variável, vendo se é necessário algum tipo de alteração na variável, como normalização."
   ]
  },
  {
   "cell_type": "markdown",
   "id": "d7e76d25",
   "metadata": {},
   "source": [
    "### Variável resposta"
   ]
  },
  {
   "cell_type": "markdown",
   "id": "34d87b75",
   "metadata": {},
   "source": [
    " Nossa variável resposta é `status_emprestimo`"
   ]
  },
  {
   "cell_type": "code",
   "execution_count": 52,
   "id": "69666cde",
   "metadata": {
    "ExecuteTime": {
     "end_time": "2021-10-27T22:33:18.362308Z",
     "start_time": "2021-10-27T22:33:18.147963Z"
    }
   },
   "outputs": [
    {
     "data": {
      "image/png": "[encoded data removed]",
      "text/plain": [
       "<Figure size 1800x864 with 1 Axes>"
      ]
     },
     "metadata": {},
     "output_type": "display_data"
    }
   ],
   "source": [
    "variavel_resposta = dados3.groupby('status_emprestimo')['id_emprestimo'].nunique()\n",
    "#variavel_resposta.plot(kind='bar')\n",
    "variavel_resposta.plot(kind='bar', fontsize=22)\n",
    "plt.xticks(rotation=0)\n",
    "plt.title('Status dos pedidos de empréstimo', fontsize=24)\n",
    "plt.ylabel('Quantidade requerida', fontsize=22)\n",
    "plt.xlabel('Decisão sobre o empréstimo', fontsize=22);"
   ]
  },
  {
   "cell_type": "markdown",
   "id": "2d8e6123",
   "metadata": {},
   "source": [
    "## Variável númerica"
   ]
  },
  {
   "cell_type": "code",
   "execution_count": 56,
   "id": "42dd11ed",
   "metadata": {
    "ExecuteTime": {
     "end_time": "2021-10-27T22:33:58.478614Z",
     "start_time": "2021-10-27T22:33:58.453010Z"
    }
   },
   "outputs": [
    {
     "data": {
      "text/html": [
       "<div>\n",
       "<style scoped>\n",
       "    .dataframe tbody tr th:only-of-type {\n",
       "        vertical-align: middle;\n",
       "    }\n",
       "\n",
       "    .dataframe tbody tr th {\n",
       "        vertical-align: top;\n",
       "    }\n",
       "\n",
       "    .dataframe thead th {\n",
       "        text-align: right;\n",
       "    }\n",
       "</style>\n",
       "<table border=\"1\" class=\"dataframe\">\n",
       "  <thead>\n",
       "    <tr style=\"text-align: right;\">\n",
       "      <th></th>\n",
       "      <th>0</th>\n",
       "      <th>1</th>\n",
       "      <th>2</th>\n",
       "      <th>3</th>\n",
       "      <th>4</th>\n",
       "      <th>5</th>\n",
       "      <th>6</th>\n",
       "      <th>7</th>\n",
       "      <th>8</th>\n",
       "      <th>9</th>\n",
       "      <th>10</th>\n",
       "      <th>11</th>\n",
       "      <th>12</th>\n",
       "      <th>13</th>\n",
       "      <th>14</th>\n",
       "    </tr>\n",
       "  </thead>\n",
       "  <tbody>\n",
       "    <tr>\n",
       "      <th>renda_requerente</th>\n",
       "      <td>5849.00</td>\n",
       "      <td>4583.0</td>\n",
       "      <td>3000.0</td>\n",
       "      <td>2583.0</td>\n",
       "      <td>6000.0</td>\n",
       "      <td>5417.0</td>\n",
       "      <td>2333.0</td>\n",
       "      <td>3036.0</td>\n",
       "      <td>4006.0</td>\n",
       "      <td>12841.0</td>\n",
       "      <td>3200.0</td>\n",
       "      <td>2500.0</td>\n",
       "      <td>3073.0</td>\n",
       "      <td>1853.0</td>\n",
       "      <td>1299.0</td>\n",
       "    </tr>\n",
       "    <tr>\n",
       "      <th>renda_co-requerente</th>\n",
       "      <td>0.00</td>\n",
       "      <td>1508.0</td>\n",
       "      <td>0.0</td>\n",
       "      <td>2358.0</td>\n",
       "      <td>0.0</td>\n",
       "      <td>4196.0</td>\n",
       "      <td>1516.0</td>\n",
       "      <td>2504.0</td>\n",
       "      <td>1526.0</td>\n",
       "      <td>10968.0</td>\n",
       "      <td>700.0</td>\n",
       "      <td>1840.0</td>\n",
       "      <td>8106.0</td>\n",
       "      <td>2840.0</td>\n",
       "      <td>1086.0</td>\n",
       "    </tr>\n",
       "    <tr>\n",
       "      <th>valor_emprestimo</th>\n",
       "      <td>146.41</td>\n",
       "      <td>128.0</td>\n",
       "      <td>66.0</td>\n",
       "      <td>120.0</td>\n",
       "      <td>141.0</td>\n",
       "      <td>267.0</td>\n",
       "      <td>95.0</td>\n",
       "      <td>158.0</td>\n",
       "      <td>168.0</td>\n",
       "      <td>349.0</td>\n",
       "      <td>70.0</td>\n",
       "      <td>109.0</td>\n",
       "      <td>200.0</td>\n",
       "      <td>114.0</td>\n",
       "      <td>17.0</td>\n",
       "    </tr>\n",
       "    <tr>\n",
       "      <th>prazo_emprestimo</th>\n",
       "      <td>360.00</td>\n",
       "      <td>360.0</td>\n",
       "      <td>360.0</td>\n",
       "      <td>360.0</td>\n",
       "      <td>360.0</td>\n",
       "      <td>360.0</td>\n",
       "      <td>360.0</td>\n",
       "      <td>360.0</td>\n",
       "      <td>360.0</td>\n",
       "      <td>360.0</td>\n",
       "      <td>360.0</td>\n",
       "      <td>360.0</td>\n",
       "      <td>360.0</td>\n",
       "      <td>360.0</td>\n",
       "      <td>120.0</td>\n",
       "    </tr>\n",
       "  </tbody>\n",
       "</table>\n",
       "</div>"
      ],
      "text/plain": [
       "                          0       1       2       3       4       5       6       7       8        9       10      11      12      13      14\n",
       "renda_requerente     5849.00  4583.0  3000.0  2583.0  6000.0  5417.0  2333.0  3036.0  4006.0  12841.0  3200.0  2500.0  3073.0  1853.0  1299.0\n",
       "renda_co-requerente     0.00  1508.0     0.0  2358.0     0.0  4196.0  1516.0  2504.0  1526.0  10968.0   700.0  1840.0  8106.0  2840.0  1086.0\n",
       "valor_emprestimo      146.41   128.0    66.0   120.0   141.0   267.0    95.0   158.0   168.0    349.0    70.0   109.0   200.0   114.0    17.0\n",
       "prazo_emprestimo      360.00   360.0   360.0   360.0   360.0   360.0   360.0   360.0   360.0    360.0   360.0   360.0   360.0   360.0   120.0"
      ]
     },
     "execution_count": 56,
     "metadata": {},
     "output_type": "execute_result"
    }
   ],
   "source": [
    "atributos_numericos.head(15).T"
   ]
  },
  {
   "cell_type": "code",
   "execution_count": 59,
   "id": "935132ac",
   "metadata": {
    "ExecuteTime": {
     "end_time": "2021-10-27T22:34:28.377103Z",
     "start_time": "2021-10-27T22:34:27.612956Z"
    }
   },
   "outputs": [
    {
     "data": {
      "image/png": "[encoded data removed]",
      "text/plain": [
       "<Figure size 1008x720 with 4 Axes>"
      ]
     },
     "metadata": {},
     "output_type": "display_data"
    }
   ],
   "source": [
    "atributos_numericos.hist(bins=25, figsize=(14, 10));"
   ]
  },
  {
   "cell_type": "markdown",
   "id": "b70698af",
   "metadata": {},
   "source": [
    "Com os gráfico acima podemos concluir que:\n",
    "* A maioria dos empréstimo tem um valor de aproximadamente R\\$ 150,00\n",
    "* A renda do requerente e co-requerente gira em torno de R\\$ 3000,00\n",
    "* Os empréstimo tem normalmente o prazo de 360 meses para pagar"
   ]
  },
  {
   "cell_type": "markdown",
   "id": "9d874bd4",
   "metadata": {},
   "source": [
    "## Variável categórica"
   ]
  },
  {
   "cell_type": "code",
   "execution_count": 62,
   "id": "dfcbd571",
   "metadata": {
    "ExecuteTime": {
     "end_time": "2021-10-27T22:39:01.005695Z",
     "start_time": "2021-10-27T22:39:00.988853Z"
    }
   },
   "outputs": [
    {
     "data": {
      "text/html": [
       "<div>\n",
       "<style scoped>\n",
       "    .dataframe tbody tr th:only-of-type {\n",
       "        vertical-align: middle;\n",
       "    }\n",
       "\n",
       "    .dataframe tbody tr th {\n",
       "        vertical-align: top;\n",
       "    }\n",
       "\n",
       "    .dataframe thead th {\n",
       "        text-align: right;\n",
       "    }\n",
       "</style>\n",
       "<table border=\"1\" class=\"dataframe\">\n",
       "  <thead>\n",
       "    <tr style=\"text-align: right;\">\n",
       "      <th></th>\n",
       "      <th>id_emprestimo</th>\n",
       "      <th>genero</th>\n",
       "      <th>casado</th>\n",
       "      <th>dependentes</th>\n",
       "      <th>educacao</th>\n",
       "      <th>autonomo</th>\n",
       "      <th>historico_credito</th>\n",
       "      <th>tipo_propriedade</th>\n",
       "      <th>status_emprestimo</th>\n",
       "    </tr>\n",
       "  </thead>\n",
       "  <tbody>\n",
       "    <tr>\n",
       "      <th>0</th>\n",
       "      <td>LP001002</td>\n",
       "      <td>Masculino</td>\n",
       "      <td>Não</td>\n",
       "      <td>0</td>\n",
       "      <td>Graduado</td>\n",
       "      <td>Não</td>\n",
       "      <td>Bom</td>\n",
       "      <td>Urbano</td>\n",
       "      <td>Aprovado</td>\n",
       "    </tr>\n",
       "  </tbody>\n",
       "</table>\n",
       "</div>"
      ],
      "text/plain": [
       "  id_emprestimo     genero casado dependentes  educacao autonomo historico_credito tipo_propriedade status_emprestimo\n",
       "0      LP001002  Masculino    Não           0  Graduado      Não               Bom           Urbano          Aprovado"
      ]
     },
     "execution_count": 62,
     "metadata": {},
     "output_type": "execute_result"
    }
   ],
   "source": [
    "atributos_categoricos.head(1)"
   ]
  },
  {
   "cell_type": "code",
   "execution_count": 72,
   "id": "4c1df547",
   "metadata": {
    "ExecuteTime": {
     "end_time": "2021-10-27T22:54:22.280504Z",
     "start_time": "2021-10-27T22:54:19.859551Z"
    }
   },
   "outputs": [
    {
     "data": {
      "text/plain": [
       "<AxesSubplot:xlabel='valor_emprestimo', ylabel='Density'>"
      ]
     },
     "execution_count": 72,
     "metadata": {},
     "output_type": "execute_result"
    },
    {
     "data": {
      "image/png": "[encoded data removed]",
      "text/plain": [
       "<Figure size 1008x2520 with 14 Axes>"
      ]
     },
     "metadata": {},
     "output_type": "display_data"
    }
   ],
   "source": [
    "# genero\n",
    "fig = plt.figure(figsize=(14, 35))\n",
    "ax1 = fig.add_subplot(8, 2, 1)\n",
    "sns.countplot(dados3['genero'], ax=ax1)\n",
    "\n",
    "ax2 = fig.add_subplot(8, 2, 2)\n",
    "sns.kdeplot(dados3[dados3['genero'] == 'Masculino']['valor_emprestimo'],\n",
    "            label='Masculino', shade=True, ax=ax2)\n",
    "sns.kdeplot(dados3[dados3['genero'] == 'Feminino']['valor_emprestimo'],\n",
    "            label='Feminino', shade=True, ax=ax2)\n",
    "ax2.legend()\n",
    "\n",
    "# casado\n",
    "ax3 = fig.add_subplot(8, 2, 3)\n",
    "sns.countplot(dados3['casado'], ax=ax3)\n",
    "\n",
    "ax4 = fig.add_subplot(8, 2, 4)\n",
    "sns.kdeplot(dados3[dados3['casado'] == 'Sim']['valor_emprestimo'],\n",
    "            label='Sim', shade=True, ax=ax4)\n",
    "sns.kdeplot(dados3[dados3['casado'] == 'Não']['valor_emprestimo'],\n",
    "            label='Não', shade=True, ax=ax4)\n",
    "\n",
    "ax4.legend()\n",
    "\n",
    "# educação\n",
    "ax5 = fig.add_subplot(8, 2, 5)\n",
    "sns.countplot(dados3['educacao'], ax=ax5)\n",
    "\n",
    "ax6 = fig.add_subplot(8, 2, 6)\n",
    "sns.kdeplot(dados3[dados3['educacao'] == 'Graduado']['valor_emprestimo'],\n",
    "            label='Graduado', shade=True, ax=ax6)\n",
    "sns.kdeplot(dados3[dados3['educacao'] == 'Não Graduado']['valor_emprestimo'],\n",
    "            label='Não graduado', shade=True, ax=ax6)\n",
    "\n",
    "ax6.legend()\n",
    "\n",
    "# histórico de crédito\n",
    "ax7 = fig.add_subplot(8, 2, 7)\n",
    "sns.countplot(dados3['historico_credito'], ax=ax7)\n",
    "\n",
    "ax8 = fig.add_subplot(8, 2, 8)\n",
    "sns.kdeplot(dados3[dados3['historico_credito'] == 'Bom']['valor_emprestimo'],\n",
    "            label='Bom', shade=True, ax=ax8)\n",
    "sns.kdeplot(dados3[dados3['historico_credito'] == 'Ruim']['valor_emprestimo'],\n",
    "            label='Ruim', shade=True, ax=ax8)\n",
    "\n",
    "ax8.legend()\n",
    "\n",
    "# dependentes\n",
    "ax9 = fig.add_subplot(8, 2, 9)\n",
    "sns.countplot(dados3['dependentes'], ax=ax9)\n",
    "\n",
    "ax10 = fig.add_subplot(8, 2, 10)\n",
    "sns.kdeplot(dados3[dados3['dependentes'] == '0']['valor_emprestimo'],\n",
    "            label='0 filhos', shade=True, ax=ax10)\n",
    "sns.kdeplot(dados3[dados3['dependentes'] == '1']['valor_emprestimo'],\n",
    "            label='1 filho', shade=True, ax=ax10)\n",
    "sns.kdeplot(dados3[dados3['dependentes'] == '2']['valor_emprestimo'],\n",
    "            label='2 filhos', shade=True, ax=ax10)\n",
    "sns.kdeplot(dados3[dados3['dependentes'] == '3+']['valor_emprestimo'],\n",
    "            label='3 filhos ou mais', shade=True, ax=ax10)\n",
    "\n",
    "ax10.legend()\n",
    "\n",
    "# autonomo\n",
    "ax11 = fig.add_subplot(8, 2, 11)\n",
    "sns.countplot(dados3['autonomo'], ax=ax11)\n",
    "\n",
    "ax12 = fig.add_subplot(8, 2, 12)\n",
    "sns.kdeplot(dados3[dados3['autonomo'] == 'Sim']['valor_emprestimo'],\n",
    "            label='Sim', shade=True, ax=ax12)\n",
    "sns.kdeplot(dados3[dados3['autonomo'] == 'Não']['valor_emprestimo'],\n",
    "            label='Não', shade=True, ax=ax12)\n",
    "\n",
    "ax12.legend()\n",
    "\n",
    "# tipo de propriedade\n",
    "ax13 = fig.add_subplot(8, 2, 13)\n",
    "sns.countplot(dados3['tipo_propriedade'], ax=ax13)\n",
    "\n",
    "ax14 = fig.add_subplot(8, 2, 14)\n",
    "sns.kdeplot(dados3[dados3['tipo_propriedade'] == 'Bom']['valor_emprestimo'],\n",
    "            label='Bom', shade=True, ax=ax14)\n",
    "sns.kdeplot(dados3[dados3['tipo_propriedade'] == 'Ruim']['valor_emprestimo'],\n",
    "            label='Ruim', shade=True, ax=ax14)\n",
    "    \n",
    "# status do empréstimo\n",
    "ax15 = fig.add_subplot(8, 2, 13)\n",
    "sns.countplot(dados3['status_emprestimo'], ax=ax15)\n",
    "\n",
    "ax16 = fig.add_subplot(8, 2, 14)\n",
    "sns.kdeplot(dados3[dados3['status_emprestimo'] == 'Aprovado']['valor_emprestimo'],\n",
    "            label='Aprovado', shade=True, ax=ax16)\n",
    "sns.kdeplot(dados3[dados3['status_emprestimo'] == 'Negado']['valor_emprestimo'],\n",
    "            label='Negado', shade=True, ax=ax16)\n",
    "    \n",
    "        "
   ]
  },
  {
   "cell_type": "markdown",
   "id": "727a0436",
   "metadata": {},
   "source": [
    "Com as análises feita acima, conseguimos ver em cada variável qual a categoria que tem a maior quantidade de dados e ver com está distribuida.\n",
    "\n",
    "Sabemos que quem pede mais empréstimos são:\n",
    "* Homens\n",
    "* Casados\n",
    "* Com boms histórico de crédito\n",
    "* Que não são autônomos\n",
    "* Sem filhos"
   ]
  },
  {
   "cell_type": "markdown",
   "id": "c329e652",
   "metadata": {},
   "source": [
    "## Análise bivariada"
   ]
  },
  {
   "cell_type": "markdown",
   "id": "bcd7a6f1",
   "metadata": {},
   "source": [
    "Agora veremos como as variáveis impactam na variável resposta. Para isso usaremos as hipóteses já criadas. Recapitulando elas:\n",
    "\n",
    "1. Graduados tem maior chance de ter o empréstimo aprovado\n",
    "2. Autônomos tem maior chance de ter o empréstimo negado\n",
    "3. Pessoas com rendas maiores tem mais chance de ter o empréstimo aprovado\n",
    "4. Valores de empréstimo baixo tem maior chance de ser aprovado\n",
    "\n",
    "Outras hipóteses podem ser criadas, mas no ateremos a essas no momento."
   ]
  },
  {
   "cell_type": "markdown",
   "id": "a6c86761",
   "metadata": {},
   "source": [
    "### H1. Graduados tem maior chance de ter o empréstimo aprovado"
   ]
  },
  {
   "cell_type": "code",
   "execution_count": 100,
   "id": "956a34c5",
   "metadata": {
    "ExecuteTime": {
     "end_time": "2021-10-27T23:13:32.427871Z",
     "start_time": "2021-10-27T23:13:32.419726Z"
    }
   },
   "outputs": [],
   "source": [
    "dados_graduados_aprovado = dados3[dados3['status_emprestimo'].str.contains('Aprovado')]\n",
    "dados_graduados_negado = dados3[dados3['status_emprestimo'].str.contains('Negado')]"
   ]
  },
  {
   "cell_type": "code",
   "execution_count": 101,
   "id": "81aa2930",
   "metadata": {
    "ExecuteTime": {
     "end_time": "2021-10-27T23:13:32.629673Z",
     "start_time": "2021-10-27T23:13:32.616770Z"
    }
   },
   "outputs": [],
   "source": [
    "aux1_h1 = dados_graduados_aprovado[['status_emprestimo', 'educacao']].groupby('educacao').count().reset_index()\n",
    "aux2_h1 = dados_graduados_negado[['status_emprestimo', 'educacao']].groupby('educacao').count().reset_index()"
   ]
  },
  {
   "cell_type": "code",
   "execution_count": 102,
   "id": "a3700690",
   "metadata": {
    "ExecuteTime": {
     "end_time": "2021-10-27T23:13:33.457546Z",
     "start_time": "2021-10-27T23:13:33.198446Z"
    }
   },
   "outputs": [
    {
     "data": {
      "text/plain": [
       "Text(0.5, 1.0, 'Emprestimo negados')"
      ]
     },
     "execution_count": 102,
     "metadata": {},
     "output_type": "execute_result"
    },
    {
     "data": {
      "image/png": "[encoded data removed]",
      "text/plain": [
       "<Figure size 1008x360 with 2 Axes>"
      ]
     },
     "metadata": {},
     "output_type": "display_data"
    }
   ],
   "source": [
    "fig = plt.figure(figsize=(14, 5))\n",
    "ax1 = fig.add_subplot(1, 2, 1)\n",
    "sns.barplot(x='educacao', y='status_emprestimo', data=aux1_h1, ax=ax1)\n",
    "ax1.set_title('Emprestimos aprovados')\n",
    "\n",
    "ax2 = fig.add_subplot(1, 2, 2)\n",
    "sns.barplot(x='educacao', y='status_emprestimo', data=aux2_h1, ax=ax2)\n",
    "ax2.set_title('Emprestimo negados')"
   ]
  },
  {
   "cell_type": "code",
   "execution_count": 103,
   "id": "76500831",
   "metadata": {
    "ExecuteTime": {
     "end_time": "2021-10-27T23:13:34.002209Z",
     "start_time": "2021-10-27T23:13:33.993977Z"
    }
   },
   "outputs": [],
   "source": [
    "nao_graduados_aprovado = dados_graduados_aprovado[dados_graduados_aprovado['educacao'].str.contains('Não Graduado')]"
   ]
  },
  {
   "cell_type": "code",
   "execution_count": 113,
   "id": "758ffdac",
   "metadata": {
    "ExecuteTime": {
     "end_time": "2021-10-27T23:16:02.217707Z",
     "start_time": "2021-10-27T23:16:02.211978Z"
    }
   },
   "outputs": [
    {
     "name": "stdout",
     "output_type": "stream",
     "text": [
      "A porcentagem de graduados com emprésitmo aprovado é de 80.05%\n",
      "A porcentagem de não graduados com emprésitmo aprovado é de 19.95%\n"
     ]
    }
   ],
   "source": [
    "porcentagem_nao_graduados_aprovados = (len(nao_graduados_aprovado)/len(dados_graduados_aprovado)) * 100\n",
    "porcentagem_graduados_aprovados = 100 - porcentagem_nao_graduados_aprovados\n",
    "\n",
    "print(f'A porcentagem de graduados com emprésitmo aprovado é de {porcentagem_graduados_aprovados:.2f}%')\n",
    "print(f'A porcentagem de não graduados com emprésitmo aprovado é de {porcentagem_nao_graduados_aprovados:.2f}%')"
   ]
  },
  {
   "cell_type": "code",
   "execution_count": 157,
   "id": "42777a08",
   "metadata": {
    "ExecuteTime": {
     "end_time": "2021-10-27T23:51:21.192975Z",
     "start_time": "2021-10-27T23:51:21.185022Z"
    }
   },
   "outputs": [
    {
     "name": "stdout",
     "output_type": "stream",
     "text": [
      "A porcentagem de graduados com empréstimo aprovado é de 72.73%\n",
      "A porcentagem de não graduados com empréstimo aprovado é de 27.27%\n"
     ]
    }
   ],
   "source": [
    "nao_graduados_negado = dados_graduados_negado[dados_graduados_negado['educacao'].str.contains('Não Graduado')]\n",
    "porcentagem_nao_graduados_negado = (len(nao_graduados_negado)/len(dados_graduados_negado)) * 100\n",
    "porcentagem_graduados_negado = 100 - porcentagem_nao_graduados_negado\n",
    "\n",
    "print(f'A porcentagem de graduados com empréstimo aprovado é de {porcentagem_graduados_negado:.2f}%')\n",
    "print(f'A porcentagem de não graduados com empréstimo aprovado é de {porcentagem_nao_graduados_negado:.2f}%')"
   ]
  },
  {
   "cell_type": "markdown",
   "id": "95da983e",
   "metadata": {},
   "source": [
    "Vemos que a hipótese é verdadeira, graduados tem maior chance de aprovação de empréstimo. Além disso, eles diminuem sua porcentagem em empréstimo negados, saindo de 80,05% dos dados de aprovados para 72,73% de negados"
   ]
  },
  {
   "cell_type": "markdown",
   "id": "3834210e",
   "metadata": {},
   "source": [
    "### H2. Autônomos tem maior chance de ter o empréstimo negado"
   ]
  },
  {
   "cell_type": "code",
   "execution_count": 116,
   "id": "a38df4ef",
   "metadata": {
    "ExecuteTime": {
     "end_time": "2021-10-27T23:19:58.107187Z",
     "start_time": "2021-10-27T23:19:58.100352Z"
    }
   },
   "outputs": [],
   "source": [
    "dados_aprovado = dados3[dados3['status_emprestimo'].str.contains('Aprovado')]\n",
    "dados_negado = dados3[dados3['status_emprestimo'].str.contains('Negado')]"
   ]
  },
  {
   "cell_type": "code",
   "execution_count": 117,
   "id": "18b57f26",
   "metadata": {
    "ExecuteTime": {
     "end_time": "2021-10-27T23:20:18.983732Z",
     "start_time": "2021-10-27T23:20:18.968130Z"
    }
   },
   "outputs": [],
   "source": [
    "aux1_h2 = dados_aprovado[['status_emprestimo', 'autonomo']].groupby('autonomo').count().reset_index()\n",
    "aux2_h2 = dados_negado[['status_emprestimo', 'autonomo']].groupby('autonomo').count().reset_index()"
   ]
  },
  {
   "cell_type": "code",
   "execution_count": 119,
   "id": "498d493e",
   "metadata": {
    "ExecuteTime": {
     "end_time": "2021-10-27T23:20:34.830682Z",
     "start_time": "2021-10-27T23:20:34.586470Z"
    }
   },
   "outputs": [
    {
     "data": {
      "text/plain": [
       "Text(0.5, 1.0, 'Emprestimo negados')"
      ]
     },
     "execution_count": 119,
     "metadata": {},
     "output_type": "execute_result"
    },
    {
     "data": {
      "image/png": "[encoded data removed]",
      "text/plain": [
       "<Figure size 1008x360 with 2 Axes>"
      ]
     },
     "metadata": {},
     "output_type": "display_data"
    }
   ],
   "source": [
    "fig = plt.figure(figsize=(14, 5))\n",
    "ax1 = fig.add_subplot(1, 2, 1)\n",
    "sns.barplot(x='autonomo', y='status_emprestimo', data=aux1_h2, ax=ax1)\n",
    "ax1.set_title('Emprestimos aprovados')\n",
    "\n",
    "ax2 = fig.add_subplot(1, 2, 2)\n",
    "sns.barplot(x='autonomo', y='status_emprestimo', data=aux2_h2, ax=ax2)\n",
    "ax2.set_title('Emprestimo negados')"
   ]
  },
  {
   "cell_type": "markdown",
   "id": "e2b333d6",
   "metadata": {
    "ExecuteTime": {
     "end_time": "2021-10-27T23:20:54.767272Z",
     "start_time": "2021-10-27T23:20:54.762545Z"
    }
   },
   "source": [
    "Aqui fica dificil decidir apenas com o gráfico, então veremos isso com porcentagem."
   ]
  },
  {
   "cell_type": "code",
   "execution_count": 128,
   "id": "0defedbf",
   "metadata": {
    "ExecuteTime": {
     "end_time": "2021-10-27T23:27:43.162265Z",
     "start_time": "2021-10-27T23:27:43.154711Z"
    }
   },
   "outputs": [],
   "source": [
    "autonomos_aprovado = dados_aprovado[dados_aprovado['autonomo'].str.contains('Sim')]\n",
    "autonomos_negado = dados_negado[dados_negado['autonomo'].str.contains('Sim')]"
   ]
  },
  {
   "cell_type": "code",
   "execution_count": 156,
   "id": "4985b3b3",
   "metadata": {
    "ExecuteTime": {
     "end_time": "2021-10-27T23:51:06.300820Z",
     "start_time": "2021-10-27T23:51:06.294408Z"
    }
   },
   "outputs": [
    {
     "name": "stdout",
     "output_type": "stream",
     "text": [
      "A porcentagem de autonomos com empréstimo aprovado é de 66.67%\n",
      "A porcentagem de autonomos com empréstimo negado é de 33.33%\n"
     ]
    }
   ],
   "source": [
    "porcentagem_autonomo_aprovados = (len(autonomos_aprovado)/ (len(autonomos_aprovado) + len(autonomos_negado))) * 100\n",
    "porcentagem_autonomo_negado = (len(autonomos_negado)/(len(autonomos_aprovado) + len(autonomos_negado))) * 100\n",
    "\n",
    "print(f'A porcentagem de autonomos com empréstimo aprovado é de {porcentagem_autonomo_aprovados:.2f}%')\n",
    "print(f'A porcentagem de autonomos com empréstimo negado é de {porcentagem_autonomo_negado:.2f}%')"
   ]
  },
  {
   "cell_type": "markdown",
   "id": "23440b43",
   "metadata": {},
   "source": [
    "Logo vemos que a hipótese é falsa, já que autonomos tem 66,67% de chance de ter o empréstimo aprovado."
   ]
  },
  {
   "cell_type": "markdown",
   "id": "e9700215",
   "metadata": {},
   "source": [
    "### H3. Pessoas com rendas maiores tem mais chance de ter o empréstimo aprovado"
   ]
  },
  {
   "cell_type": "markdown",
   "id": "f70ad461",
   "metadata": {},
   "source": [
    "Aqui nos consideraremos a média como uma renda de parâmetro. Abaixo da média é uma renda menor, acima da média é uma renda maior."
   ]
  },
  {
   "cell_type": "code",
   "execution_count": 132,
   "id": "893b88a5",
   "metadata": {
    "ExecuteTime": {
     "end_time": "2021-10-27T23:31:21.138443Z",
     "start_time": "2021-10-27T23:31:21.132071Z"
    }
   },
   "outputs": [
    {
     "data": {
      "text/plain": [
       "5292.252508361204"
      ]
     },
     "execution_count": 132,
     "metadata": {},
     "output_type": "execute_result"
    }
   ],
   "source": [
    "dados3['renda_requerente'].mean()"
   ]
  },
  {
   "cell_type": "code",
   "execution_count": 147,
   "id": "2967427e",
   "metadata": {
    "ExecuteTime": {
     "end_time": "2021-10-27T23:37:50.329909Z",
     "start_time": "2021-10-27T23:37:50.073217Z"
    }
   },
   "outputs": [
    {
     "data": {
      "text/plain": [
       "Text(0.5, 1.0, 'Emprestimos negados')"
      ]
     },
     "execution_count": 147,
     "metadata": {},
     "output_type": "execute_result"
    },
    {
     "data": {
      "image/png": "[encoded data removed]",
      "text/plain": [
       "<Figure size 1008x360 with 2 Axes>"
      ]
     },
     "metadata": {},
     "output_type": "display_data"
    }
   ],
   "source": [
    "dados3['renda_requerente_categoria'] = dados3['renda_requerente'].apply(lambda x: 1 if x > 5292.25 else 0) \n",
    "dados3 ['renda_requerente_categoria'] = dados3['renda_requerente_categoria'].replace({0: 'Abaixo da média', 1: 'Acima da média'})\n",
    "\n",
    "dados_aprovado = dados3[dados3['status_emprestimo'].str.contains('Aprovado')]\n",
    "dados_negado = dados3[dados3['status_emprestimo'].str.contains('Negado')]\n",
    "\n",
    "aux1_h3 = dados_aprovado[['status_emprestimo', 'renda_requerente_categoria']].groupby('renda_requerente_categoria').count().reset_index()\n",
    "aux2_h3 = dados_negado[['status_emprestimo', 'renda_requerente_categoria']].groupby('renda_requerente_categoria').count().reset_index()\n",
    "\n",
    "fig = plt.figure(figsize=(14, 5))\n",
    "ax1 = fig.add_subplot(1, 2, 1)\n",
    "sns.barplot(x='renda_requerente_categoria', y='status_emprestimo', data=aux1_h3, ax=ax1)\n",
    "ax1.set_title('Emprestimos aprovados')\n",
    "\n",
    "ax2 = fig.add_subplot(1, 2, 2)\n",
    "sns.barplot(x='renda_requerente_categoria', y='status_emprestimo', data=aux2_h3, ax=ax2)\n",
    "ax2.set_title('Emprestimos negados')"
   ]
  },
  {
   "cell_type": "code",
   "execution_count": 155,
   "id": "c472b26e",
   "metadata": {
    "ExecuteTime": {
     "end_time": "2021-10-27T23:50:55.494838Z",
     "start_time": "2021-10-27T23:50:55.481640Z"
    }
   },
   "outputs": [
    {
     "name": "stdout",
     "output_type": "stream",
     "text": [
      "A porcentagem de requerentes com renda acima da média com empréstimo aprovado é de 68.21%\n",
      "A porcentagem de requerente com renda abaixo da média com empréstimo negado é de 68.94%\n"
     ]
    }
   ],
   "source": [
    "renda_abaixo_aprovado = dados_aprovado[dados_aprovado['renda_requerente_categoria'].str.contains('Abaixo da média')]\n",
    "renda_acima_aprovado = dados_aprovado[dados_aprovado['renda_requerente_categoria'].str.contains('Acima da média')]\n",
    "\n",
    "renda_abaixo_negado = dados_negado[dados_negado['renda_requerente_categoria'].str.contains('Abaixo da média')]\n",
    "renda_acima_negado = dados_negado[dados_negado['renda_requerente_categoria'].str.contains('Acima da média')]\n",
    "\n",
    "\n",
    "porcentagem_renda_abaixo_aprovados = (len(renda_abaixo_aprovado)/ (len(renda_abaixo_aprovado) + len(renda_abaixo_negado))) * 100\n",
    "porcentagem_renda_abaixo_negado = (len(renda_abaixo_negado)/(len(renda_abaixo_aprovado) + len(renda_abaixo_negado))) * 100\n",
    "\n",
    "porcentagem_renda_acima_aprovados = (len(renda_acima_aprovado)/ (len(renda_acima_aprovado) + len(renda_acima_negado))) * 100\n",
    "porcentagem_renda_acima_negado = (len(renda_acima_negado)/(len(renda_acima_aprovado) + len(renda_acima_negado))) * 100\n",
    "\n",
    "print(f'A porcentagem de requerentes com renda acima da média com empréstimo aprovado é de {porcentagem_renda_acima_aprovados:.2f}%')\n",
    "print(f'A porcentagem de requerente com renda abaixo da média com empréstimo negado é de {porcentagem_renda_abaixo_aprovados:.2f}%')"
   ]
  },
  {
   "cell_type": "markdown",
   "id": "35e62f02",
   "metadata": {},
   "source": [
    "Hipótese falsa. Por mais que seja um porcentagem muito próxima, é mais provável as pessoas com renda abaixo da média terem o empréstimo aceito do que as de renda acima da média."
   ]
  },
  {
   "cell_type": "markdown",
   "id": "a4c6213e",
   "metadata": {},
   "source": [
    "### H4. Valores de empréstimo baixo tem maior chance de ser aprovado"
   ]
  },
  {
   "cell_type": "code",
   "execution_count": 150,
   "id": "769be311",
   "metadata": {
    "ExecuteTime": {
     "end_time": "2021-10-27T23:45:49.891296Z",
     "start_time": "2021-10-27T23:45:49.884992Z"
    }
   },
   "outputs": [
    {
     "data": {
      "text/plain": [
       "145.01941471571914"
      ]
     },
     "execution_count": 150,
     "metadata": {},
     "output_type": "execute_result"
    }
   ],
   "source": [
    "dados3['valor_emprestimo'].mean()"
   ]
  },
  {
   "cell_type": "code",
   "execution_count": 152,
   "id": "83873d32",
   "metadata": {
    "ExecuteTime": {
     "end_time": "2021-10-27T23:47:42.934764Z",
     "start_time": "2021-10-27T23:47:42.687032Z"
    }
   },
   "outputs": [
    {
     "data": {
      "text/plain": [
       "Text(0.5, 1.0, 'Emprestimos negados')"
      ]
     },
     "execution_count": 152,
     "metadata": {},
     "output_type": "execute_result"
    },
    {
     "data": {
      "image/png": "[encoded data removed]",
      "text/plain": [
       "<Figure size 1008x360 with 2 Axes>"
      ]
     },
     "metadata": {},
     "output_type": "display_data"
    }
   ],
   "source": [
    "dados3['valor_emprestimo_categoria'] = dados3['valor_emprestimo'].apply(lambda x: 1 if x > 145 else 0) \n",
    "dados3 ['valor_emprestimo_categoria'] = dados3['valor_emprestimo_categoria'].replace({0: 'Abaixo da média', 1: 'Acima da média'})\n",
    "\n",
    "dados_aprovado = dados3[dados3['status_emprestimo'].str.contains('Aprovado')]\n",
    "dados_negado = dados3[dados3['status_emprestimo'].str.contains('Negado')]\n",
    "\n",
    "aux1_h3 = dados_aprovado[['status_emprestimo', 'valor_emprestimo_categoria']].groupby('valor_emprestimo_categoria').count().reset_index()\n",
    "aux2_h3 = dados_negado[['status_emprestimo', 'valor_emprestimo_categoria']].groupby('valor_emprestimo_categoria').count().reset_index()\n",
    "\n",
    "fig = plt.figure(figsize=(14, 5))\n",
    "ax1 = fig.add_subplot(1, 2, 1)\n",
    "sns.barplot(x='valor_emprestimo_categoria', y='status_emprestimo', data=aux1_h3, ax=ax1)\n",
    "ax1.set_title('Emprestimos aprovados')\n",
    "\n",
    "ax2 = fig.add_subplot(1, 2, 2)\n",
    "sns.barplot(x='valor_emprestimo_categoria', y='status_emprestimo', data=aux2_h3, ax=ax2)\n",
    "ax2.set_title('Emprestimos negados')"
   ]
  },
  {
   "cell_type": "code",
   "execution_count": 154,
   "id": "dae9e3db",
   "metadata": {
    "ExecuteTime": {
     "end_time": "2021-10-27T23:50:40.655191Z",
     "start_time": "2021-10-27T23:50:40.639672Z"
    }
   },
   "outputs": [
    {
     "name": "stdout",
     "output_type": "stream",
     "text": [
      "A porcentagem de empréstimo aprovado com valor acima da média é de 62.33%\n",
      "A porcentagem de empréstimo aprovado com valor abaixo da média é de 72.53%\n"
     ]
    }
   ],
   "source": [
    "valor_abaixo_aprovado = dados_aprovado[dados_aprovado['valor_emprestimo_categoria'].str.contains('Abaixo da média')]\n",
    "valor_acima_aprovado = dados_aprovado[dados_aprovado['valor_emprestimo_categoria'].str.contains('Acima da média')]\n",
    "\n",
    "valor_abaixo_negado = dados_negado[dados_negado['valor_emprestimo_categoria'].str.contains('Abaixo da média')]\n",
    "valor_acima_negado = dados_negado[dados_negado['valor_emprestimo_categoria'].str.contains('Acima da média')]\n",
    "\n",
    "\n",
    "porcentagem_valor_abaixo_aprovados = (len(valor_abaixo_aprovado)/ (len(valor_abaixo_aprovado) + len(valor_abaixo_negado))) * 100\n",
    "porcentagem_valor_abaixo_negado = (len(valor_abaixo_negado)/(len(valor_abaixo_aprovado) + len(valor_abaixo_negado))) * 100\n",
    "\n",
    "porcentagem_valor_acima_aprovados = (len(valor_acima_aprovado)/ (len(valor_acima_aprovado) + len(valor_acima_negado))) * 100\n",
    "porcentagem_valor_acima_negado = (len(valor_acima_negado)/(len(valor_acima_aprovado) + len(valor_acima_negado))) * 100\n",
    "\n",
    "print(f'A porcentagem de empréstimo aprovado com valor acima da média é de {porcentagem_valor_acima_aprovados:.2f}%')\n",
    "print(f'A porcentagem de empréstimo aprovado com valor abaixo da média é de {porcentagem_valor_abaixo_aprovados:.2f}%')"
   ]
  },
  {
   "cell_type": "markdown",
   "id": "fb30f4bd",
   "metadata": {},
   "source": [
    "Hipótese verdadeira. Empréstimos de valor mais baixo tem maior chance de aprovação"
   ]
  },
  {
   "cell_type": "markdown",
   "id": "ad152e6c",
   "metadata": {},
   "source": [
    "Recapitulando as hipóteses sabendo se são verdadeira ou falsas\n",
    "1. Graduados tem maior chance de ter o empréstimo aprovado (Verdadeira)\n",
    "2. Autônomos tem maior chance de ter o empréstimo negado (Falsa)\n",
    "3. Pessoas com rendas maiores tem mais chance de ter o empréstimo aprovado (Falsa)\n",
    "4. Valores de empréstimo baixo tem maior chance de ser aprovado (Verdadeira)"
   ]
  },
  {
   "cell_type": "markdown",
   "id": "117aa5cd",
   "metadata": {},
   "source": [
    "## Análise multivariada"
   ]
  },
  {
   "cell_type": "markdown",
   "id": "927d2920",
   "metadata": {},
   "source": [
    "A análise multivariada ajuda a olhar quais varias possuem correlação"
   ]
  },
  {
   "cell_type": "markdown",
   "id": "8c7c1cbf",
   "metadata": {},
   "source": [
    "### Atributos númericos"
   ]
  },
  {
   "cell_type": "code",
   "execution_count": 158,
   "id": "4f012fb3",
   "metadata": {
    "ExecuteTime": {
     "end_time": "2021-10-27T23:55:16.427126Z",
     "start_time": "2021-10-27T23:55:16.126685Z"
    }
   },
   "outputs": [
    {
     "data": {
      "text/plain": [
       "<AxesSubplot:>"
      ]
     },
     "execution_count": 158,
     "metadata": {},
     "output_type": "execute_result"
    },
    {
     "data": {
      "image/png": "[encoded data removed]",
      "text/plain": [
       "<Figure size 1800x864 with 2 Axes>"
      ]
     },
     "metadata": {},
     "output_type": "display_data"
    }
   ],
   "source": [
    "correlacao_numerica = atributos_numericos.corr(method='pearson')\n",
    "sns.heatmap(correlacao_numerica, annot=True)"
   ]
  },
  {
   "cell_type": "markdown",
   "id": "2876ae3b",
   "metadata": {},
   "source": [
    "* Correlação proximas de 1 são correlações fortes positivas, o que quer dizer que quando uma variável cresce a outra cresce junta. \n",
    "* Correlações próximas de -1 são correlações fortes negativas, o que quer dizer que quando uma variável cresce a outra diminuí.\n",
    "* Correlações pŕoximas de 0 são correlações nulas, uma variável não interfere na outra."
   ]
  },
  {
   "cell_type": "markdown",
   "id": "50432c4e",
   "metadata": {},
   "source": [
    "### Atributos categóricos"
   ]
  },
  {
   "cell_type": "code",
   "execution_count": 159,
   "id": "345b4fa5",
   "metadata": {
    "ExecuteTime": {
     "end_time": "2021-10-27T23:57:27.539135Z",
     "start_time": "2021-10-27T23:57:27.521830Z"
    }
   },
   "outputs": [
    {
     "data": {
      "text/html": [
       "<div>\n",
       "<style scoped>\n",
       "    .dataframe tbody tr th:only-of-type {\n",
       "        vertical-align: middle;\n",
       "    }\n",
       "\n",
       "    .dataframe tbody tr th {\n",
       "        vertical-align: top;\n",
       "    }\n",
       "\n",
       "    .dataframe thead th {\n",
       "        text-align: right;\n",
       "    }\n",
       "</style>\n",
       "<table border=\"1\" class=\"dataframe\">\n",
       "  <thead>\n",
       "    <tr style=\"text-align: right;\">\n",
       "      <th></th>\n",
       "      <th>id_emprestimo</th>\n",
       "      <th>genero</th>\n",
       "      <th>casado</th>\n",
       "      <th>dependentes</th>\n",
       "      <th>educacao</th>\n",
       "      <th>autonomo</th>\n",
       "      <th>historico_credito</th>\n",
       "      <th>tipo_propriedade</th>\n",
       "      <th>status_emprestimo</th>\n",
       "    </tr>\n",
       "  </thead>\n",
       "  <tbody>\n",
       "    <tr>\n",
       "      <th>0</th>\n",
       "      <td>LP001002</td>\n",
       "      <td>Masculino</td>\n",
       "      <td>Não</td>\n",
       "      <td>0</td>\n",
       "      <td>Graduado</td>\n",
       "      <td>Não</td>\n",
       "      <td>Bom</td>\n",
       "      <td>Urbano</td>\n",
       "      <td>Aprovado</td>\n",
       "    </tr>\n",
       "    <tr>\n",
       "      <th>1</th>\n",
       "      <td>LP001003</td>\n",
       "      <td>Masculino</td>\n",
       "      <td>Sim</td>\n",
       "      <td>1</td>\n",
       "      <td>Graduado</td>\n",
       "      <td>Não</td>\n",
       "      <td>Bom</td>\n",
       "      <td>Rural</td>\n",
       "      <td>Negado</td>\n",
       "    </tr>\n",
       "    <tr>\n",
       "      <th>2</th>\n",
       "      <td>LP001005</td>\n",
       "      <td>Masculino</td>\n",
       "      <td>Sim</td>\n",
       "      <td>0</td>\n",
       "      <td>Graduado</td>\n",
       "      <td>Sim</td>\n",
       "      <td>Bom</td>\n",
       "      <td>Urbano</td>\n",
       "      <td>Aprovado</td>\n",
       "    </tr>\n",
       "    <tr>\n",
       "      <th>3</th>\n",
       "      <td>LP001006</td>\n",
       "      <td>Masculino</td>\n",
       "      <td>Sim</td>\n",
       "      <td>0</td>\n",
       "      <td>Não Graduado</td>\n",
       "      <td>Não</td>\n",
       "      <td>Bom</td>\n",
       "      <td>Urbano</td>\n",
       "      <td>Aprovado</td>\n",
       "    </tr>\n",
       "    <tr>\n",
       "      <th>4</th>\n",
       "      <td>LP001008</td>\n",
       "      <td>Masculino</td>\n",
       "      <td>Não</td>\n",
       "      <td>0</td>\n",
       "      <td>Graduado</td>\n",
       "      <td>Não</td>\n",
       "      <td>Bom</td>\n",
       "      <td>Urbano</td>\n",
       "      <td>Aprovado</td>\n",
       "    </tr>\n",
       "  </tbody>\n",
       "</table>\n",
       "</div>"
      ],
      "text/plain": [
       "  id_emprestimo     genero casado dependentes      educacao autonomo historico_credito tipo_propriedade status_emprestimo\n",
       "0      LP001002  Masculino    Não           0      Graduado      Não               Bom           Urbano          Aprovado\n",
       "1      LP001003  Masculino    Sim           1      Graduado      Não               Bom            Rural            Negado\n",
       "2      LP001005  Masculino    Sim           0      Graduado      Sim               Bom           Urbano          Aprovado\n",
       "3      LP001006  Masculino    Sim           0  Não Graduado      Não               Bom           Urbano          Aprovado\n",
       "4      LP001008  Masculino    Não           0      Graduado      Não               Bom           Urbano          Aprovado"
      ]
     },
     "execution_count": 159,
     "metadata": {},
     "output_type": "execute_result"
    }
   ],
   "source": [
    "atributos_categoricos.head()"
   ]
  },
  {
   "cell_type": "markdown",
   "id": "0e0d9641",
   "metadata": {},
   "source": [
    "Usaremos o método de correlação [Cramér's V](https://en.wikipedia.org/wiki/Cram%C3%A9r%27s_V) para variáveis categóricas."
   ]
  },
  {
   "cell_type": "code",
   "execution_count": 160,
   "id": "710c7e02",
   "metadata": {
    "ExecuteTime": {
     "end_time": "2021-10-27T23:58:57.757467Z",
     "start_time": "2021-10-27T23:58:57.748759Z"
    }
   },
   "outputs": [],
   "source": [
    "def cramer_v(x, y):\n",
    "    cm = pd.crosstab(x, y).values\n",
    "    n = cm.sum()\n",
    "    r, k = cm.shape\n",
    "    \n",
    "    chi2 = stats.chi2_contingency(cm)[0]\n",
    "    chi2corr = max(0, chi2 - (k-1) * (r-1) / (n-1))\n",
    "    \n",
    "    kcorr = k - (k-1)**2 / (n-1)\n",
    "    rcorr = r - (r-1)**2 / (n-1)\n",
    "    \n",
    "    return np.sqrt((chi2corr/n) / min(kcorr - 1, rcorr - 1))"
   ]
  },
  {
   "cell_type": "code",
   "execution_count": 161,
   "id": "cc404ca6",
   "metadata": {
    "ExecuteTime": {
     "end_time": "2021-10-27T23:59:20.526260Z",
     "start_time": "2021-10-27T23:59:20.507802Z"
    }
   },
   "outputs": [
    {
     "data": {
      "text/html": [
       "<div>\n",
       "<style scoped>\n",
       "    .dataframe tbody tr th:only-of-type {\n",
       "        vertical-align: middle;\n",
       "    }\n",
       "\n",
       "    .dataframe tbody tr th {\n",
       "        vertical-align: top;\n",
       "    }\n",
       "\n",
       "    .dataframe thead th {\n",
       "        text-align: right;\n",
       "    }\n",
       "</style>\n",
       "<table border=\"1\" class=\"dataframe\">\n",
       "  <thead>\n",
       "    <tr style=\"text-align: right;\">\n",
       "      <th></th>\n",
       "      <th>id_emprestimo</th>\n",
       "      <th>genero</th>\n",
       "      <th>casado</th>\n",
       "      <th>dependentes</th>\n",
       "      <th>educacao</th>\n",
       "      <th>autonomo</th>\n",
       "      <th>historico_credito</th>\n",
       "      <th>tipo_propriedade</th>\n",
       "      <th>status_emprestimo</th>\n",
       "    </tr>\n",
       "  </thead>\n",
       "  <tbody>\n",
       "    <tr>\n",
       "      <th>0</th>\n",
       "      <td>LP001002</td>\n",
       "      <td>Masculino</td>\n",
       "      <td>Não</td>\n",
       "      <td>0</td>\n",
       "      <td>Graduado</td>\n",
       "      <td>Não</td>\n",
       "      <td>Bom</td>\n",
       "      <td>Urbano</td>\n",
       "      <td>Aprovado</td>\n",
       "    </tr>\n",
       "  </tbody>\n",
       "</table>\n",
       "</div>"
      ],
      "text/plain": [
       "  id_emprestimo     genero casado dependentes  educacao autonomo historico_credito tipo_propriedade status_emprestimo\n",
       "0      LP001002  Masculino    Não           0  Graduado      Não               Bom           Urbano          Aprovado"
      ]
     },
     "execution_count": 161,
     "metadata": {},
     "output_type": "execute_result"
    }
   ],
   "source": [
    "atributos_categoricos.head(1)"
   ]
  },
  {
   "cell_type": "code",
   "execution_count": 163,
   "id": "85351ddf",
   "metadata": {
    "ExecuteTime": {
     "end_time": "2021-10-28T00:11:08.073940Z",
     "start_time": "2021-10-28T00:11:07.419895Z"
    }
   },
   "outputs": [
    {
     "data": {
      "text/html": [
       "<div>\n",
       "<style scoped>\n",
       "    .dataframe tbody tr th:only-of-type {\n",
       "        vertical-align: middle;\n",
       "    }\n",
       "\n",
       "    .dataframe tbody tr th {\n",
       "        vertical-align: top;\n",
       "    }\n",
       "\n",
       "    .dataframe thead th {\n",
       "        text-align: right;\n",
       "    }\n",
       "</style>\n",
       "<table border=\"1\" class=\"dataframe\">\n",
       "  <thead>\n",
       "    <tr style=\"text-align: right;\">\n",
       "      <th></th>\n",
       "      <th>genero</th>\n",
       "      <th>casado</th>\n",
       "      <th>dependentes</th>\n",
       "      <th>educacao</th>\n",
       "      <th>autonomo</th>\n",
       "      <th>historico_credito</th>\n",
       "      <th>tipo_propriedade</th>\n",
       "      <th>status_emprestimo</th>\n",
       "    </tr>\n",
       "  </thead>\n",
       "  <tbody>\n",
       "    <tr>\n",
       "      <th>genero</th>\n",
       "      <td>0.995301</td>\n",
       "      <td>0.365409</td>\n",
       "      <td>0.178136</td>\n",
       "      <td>0.043311</td>\n",
       "      <td>0.000000</td>\n",
       "      <td>0.006368</td>\n",
       "      <td>0.112750</td>\n",
       "      <td>0.016530</td>\n",
       "    </tr>\n",
       "    <tr>\n",
       "      <th>casado</th>\n",
       "      <td>0.365409</td>\n",
       "      <td>0.997164</td>\n",
       "      <td>0.367774</td>\n",
       "      <td>0.010026</td>\n",
       "      <td>0.000000</td>\n",
       "      <td>0.012874</td>\n",
       "      <td>0.011779</td>\n",
       "      <td>0.089464</td>\n",
       "    </tr>\n",
       "    <tr>\n",
       "      <th>dependentes</th>\n",
       "      <td>0.178136</td>\n",
       "      <td>0.367774</td>\n",
       "      <td>1.002518</td>\n",
       "      <td>0.066882</td>\n",
       "      <td>0.097755</td>\n",
       "      <td>0.074452</td>\n",
       "      <td>0.073026</td>\n",
       "      <td>0.089112</td>\n",
       "    </tr>\n",
       "    <tr>\n",
       "      <th>educacao</th>\n",
       "      <td>0.043311</td>\n",
       "      <td>0.010026</td>\n",
       "      <td>0.066882</td>\n",
       "      <td>0.995998</td>\n",
       "      <td>0.000708</td>\n",
       "      <td>0.061600</td>\n",
       "      <td>0.071462</td>\n",
       "      <td>0.077327</td>\n",
       "    </tr>\n",
       "    <tr>\n",
       "      <th>autonomo</th>\n",
       "      <td>0.000000</td>\n",
       "      <td>0.000000</td>\n",
       "      <td>0.097755</td>\n",
       "      <td>0.000708</td>\n",
       "      <td>0.993459</td>\n",
       "      <td>0.003635</td>\n",
       "      <td>0.031888</td>\n",
       "      <td>0.011766</td>\n",
       "    </tr>\n",
       "    <tr>\n",
       "      <th>historico_credito</th>\n",
       "      <td>0.006368</td>\n",
       "      <td>0.012874</td>\n",
       "      <td>0.074452</td>\n",
       "      <td>0.061600</td>\n",
       "      <td>0.003635</td>\n",
       "      <td>0.994041</td>\n",
       "      <td>0.042916</td>\n",
       "      <td>0.530941</td>\n",
       "    </tr>\n",
       "    <tr>\n",
       "      <th>tipo_propriedade</th>\n",
       "      <td>0.112750</td>\n",
       "      <td>0.011779</td>\n",
       "      <td>0.073026</td>\n",
       "      <td>0.071462</td>\n",
       "      <td>0.031888</td>\n",
       "      <td>0.042916</td>\n",
       "      <td>1.001676</td>\n",
       "      <td>0.140849</td>\n",
       "    </tr>\n",
       "    <tr>\n",
       "      <th>status_emprestimo</th>\n",
       "      <td>0.016530</td>\n",
       "      <td>0.089464</td>\n",
       "      <td>0.089112</td>\n",
       "      <td>0.077327</td>\n",
       "      <td>0.011766</td>\n",
       "      <td>0.530941</td>\n",
       "      <td>0.140849</td>\n",
       "      <td>0.996944</td>\n",
       "    </tr>\n",
       "  </tbody>\n",
       "</table>\n",
       "</div>"
      ],
      "text/plain": [
       "                     genero    casado  dependentes  educacao  autonomo  historico_credito  tipo_propriedade  status_emprestimo\n",
       "genero             0.995301  0.365409     0.178136  0.043311  0.000000           0.006368          0.112750           0.016530\n",
       "casado             0.365409  0.997164     0.367774  0.010026  0.000000           0.012874          0.011779           0.089464\n",
       "dependentes        0.178136  0.367774     1.002518  0.066882  0.097755           0.074452          0.073026           0.089112\n",
       "educacao           0.043311  0.010026     0.066882  0.995998  0.000708           0.061600          0.071462           0.077327\n",
       "autonomo           0.000000  0.000000     0.097755  0.000708  0.993459           0.003635          0.031888           0.011766\n",
       "historico_credito  0.006368  0.012874     0.074452  0.061600  0.003635           0.994041          0.042916           0.530941\n",
       "tipo_propriedade   0.112750  0.011779     0.073026  0.071462  0.031888           0.042916          1.001676           0.140849\n",
       "status_emprestimo  0.016530  0.089464     0.089112  0.077327  0.011766           0.530941          0.140849           0.996944"
      ]
     },
     "execution_count": 163,
     "metadata": {},
     "output_type": "execute_result"
    }
   ],
   "source": [
    "# genero\n",
    "atr_cat_1 = cramer_v(atributos_categoricos['genero'], atributos_categoricos['genero'])\n",
    "atr_cat_2 = cramer_v(atributos_categoricos['genero'], atributos_categoricos['casado'])\n",
    "atr_cat_3 = cramer_v(atributos_categoricos['genero'], atributos_categoricos['dependentes'])\n",
    "atr_cat_4 = cramer_v(atributos_categoricos['genero'], atributos_categoricos['educacao'])\n",
    "atr_cat_5 = cramer_v(atributos_categoricos['genero'], atributos_categoricos['autonomo'])\n",
    "atr_cat_6 = cramer_v(atributos_categoricos['genero'], atributos_categoricos['historico_credito'])\n",
    "atr_cat_7 = cramer_v(atributos_categoricos['genero'], atributos_categoricos['tipo_propriedade'])\n",
    "atr_cat_8 = cramer_v(atributos_categoricos['genero'], atributos_categoricos['status_emprestimo'])\n",
    "\n",
    "#casado\n",
    "atr_cat_9 = cramer_v(atributos_categoricos['casado'], atributos_categoricos['genero'])\n",
    "atr_cat_10 = cramer_v(atributos_categoricos['casado'], atributos_categoricos['casado'])\n",
    "atr_cat_11 = cramer_v(atributos_categoricos['casado'], atributos_categoricos['dependentes'])\n",
    "atr_cat_12 = cramer_v(atributos_categoricos['casado'], atributos_categoricos['educacao'])\n",
    "atr_cat_13 = cramer_v(atributos_categoricos['casado'], atributos_categoricos['autonomo'])\n",
    "atr_cat_14 = cramer_v(atributos_categoricos['casado'], atributos_categoricos['historico_credito'])\n",
    "atr_cat_15 = cramer_v(atributos_categoricos['casado'], atributos_categoricos['tipo_propriedade'])\n",
    "atr_cat_16 = cramer_v(atributos_categoricos['casado'], atributos_categoricos['status_emprestimo'])\n",
    "\n",
    "# dependentes\n",
    "atr_cat_17 = cramer_v(atributos_categoricos['dependentes'], atributos_categoricos['genero'])\n",
    "atr_cat_18 = cramer_v(atributos_categoricos['dependentes'], atributos_categoricos['casado'])\n",
    "atr_cat_19 = cramer_v(atributos_categoricos['dependentes'], atributos_categoricos['dependentes'])\n",
    "atr_cat_20 = cramer_v(atributos_categoricos['dependentes'], atributos_categoricos['educacao'])\n",
    "atr_cat_21 = cramer_v(atributos_categoricos['dependentes'], atributos_categoricos['autonomo'])\n",
    "atr_cat_22 = cramer_v(atributos_categoricos['dependentes'], atributos_categoricos['historico_credito'])\n",
    "atr_cat_23 = cramer_v(atributos_categoricos['dependentes'], atributos_categoricos['tipo_propriedade'])\n",
    "atr_cat_24 = cramer_v(atributos_categoricos['dependentes'], atributos_categoricos['status_emprestimo'])\n",
    "\n",
    "# educacao\n",
    "atr_cat_25 = cramer_v(atributos_categoricos['educacao'], atributos_categoricos['genero'])\n",
    "atr_cat_26 = cramer_v(atributos_categoricos['educacao'], atributos_categoricos['casado'])\n",
    "atr_cat_27 = cramer_v(atributos_categoricos['educacao'], atributos_categoricos['dependentes'])\n",
    "atr_cat_28 = cramer_v(atributos_categoricos['educacao'], atributos_categoricos['educacao'])\n",
    "atr_cat_29 = cramer_v(atributos_categoricos['educacao'], atributos_categoricos['autonomo'])\n",
    "atr_cat_30 = cramer_v(atributos_categoricos['educacao'], atributos_categoricos['historico_credito'])\n",
    "atr_cat_31 = cramer_v(atributos_categoricos['educacao'], atributos_categoricos['tipo_propriedade'])\n",
    "atr_cat_32 = cramer_v(atributos_categoricos['educacao'], atributos_categoricos['status_emprestimo'])\n",
    "\n",
    "# autonomo\n",
    "atr_cat_33 = cramer_v(atributos_categoricos['autonomo'], atributos_categoricos['genero'])\n",
    "atr_cat_34 = cramer_v(atributos_categoricos['autonomo'], atributos_categoricos['casado'])\n",
    "atr_cat_35 = cramer_v(atributos_categoricos['autonomo'], atributos_categoricos['dependentes'])\n",
    "atr_cat_36 = cramer_v(atributos_categoricos['autonomo'], atributos_categoricos['educacao'])\n",
    "atr_cat_37 = cramer_v(atributos_categoricos['autonomo'], atributos_categoricos['autonomo'])\n",
    "atr_cat_38 = cramer_v(atributos_categoricos['autonomo'], atributos_categoricos['historico_credito'])\n",
    "atr_cat_39 = cramer_v(atributos_categoricos['autonomo'], atributos_categoricos['tipo_propriedade'])\n",
    "atr_cat_40 = cramer_v(atributos_categoricos['autonomo'], atributos_categoricos['status_emprestimo'])\n",
    "\n",
    "# historico_credito\n",
    "atr_cat_41 = cramer_v(atributos_categoricos['historico_credito'], atributos_categoricos['genero'])\n",
    "atr_cat_42 = cramer_v(atributos_categoricos['historico_credito'], atributos_categoricos['casado'])\n",
    "atr_cat_43 = cramer_v(atributos_categoricos['historico_credito'], atributos_categoricos['dependentes'])\n",
    "atr_cat_44 = cramer_v(atributos_categoricos['historico_credito'], atributos_categoricos['educacao'])\n",
    "atr_cat_45 = cramer_v(atributos_categoricos['historico_credito'], atributos_categoricos['autonomo'])\n",
    "atr_cat_46 = cramer_v(atributos_categoricos['historico_credito'], atributos_categoricos['historico_credito'])\n",
    "atr_cat_47 = cramer_v(atributos_categoricos['historico_credito'], atributos_categoricos['tipo_propriedade'])\n",
    "atr_cat_48 = cramer_v(atributos_categoricos['historico_credito'], atributos_categoricos['status_emprestimo'])\n",
    "\n",
    "# tipo_propriedade\n",
    "atr_cat_49 = cramer_v(atributos_categoricos['tipo_propriedade'], atributos_categoricos['genero'])\n",
    "atr_cat_50 = cramer_v(atributos_categoricos['tipo_propriedade'], atributos_categoricos['casado'])\n",
    "atr_cat_51 = cramer_v(atributos_categoricos['tipo_propriedade'], atributos_categoricos['dependentes'])\n",
    "atr_cat_52 = cramer_v(atributos_categoricos['tipo_propriedade'], atributos_categoricos['educacao'])\n",
    "atr_cat_53 = cramer_v(atributos_categoricos['tipo_propriedade'], atributos_categoricos['autonomo'])\n",
    "atr_cat_54 = cramer_v(atributos_categoricos['tipo_propriedade'], atributos_categoricos['historico_credito'])\n",
    "atr_cat_55 = cramer_v(atributos_categoricos['tipo_propriedade'], atributos_categoricos['tipo_propriedade'])\n",
    "atr_cat_56 = cramer_v(atributos_categoricos['tipo_propriedade'], atributos_categoricos['status_emprestimo'])\n",
    "\n",
    "# status_emprestimo\n",
    "atr_cat_57 = cramer_v(atributos_categoricos['status_emprestimo'], atributos_categoricos['genero'])\n",
    "atr_cat_58 = cramer_v(atributos_categoricos['status_emprestimo'], atributos_categoricos['casado'])\n",
    "atr_cat_59 = cramer_v(atributos_categoricos['status_emprestimo'], atributos_categoricos['dependentes'])\n",
    "atr_cat_60 = cramer_v(atributos_categoricos['status_emprestimo'], atributos_categoricos['educacao'])\n",
    "atr_cat_61 = cramer_v(atributos_categoricos['status_emprestimo'], atributos_categoricos['autonomo'])\n",
    "atr_cat_62 = cramer_v(atributos_categoricos['status_emprestimo'], atributos_categoricos['historico_credito'])\n",
    "atr_cat_63 = cramer_v(atributos_categoricos['status_emprestimo'], atributos_categoricos['tipo_propriedade'])\n",
    "atr_cat_64 = cramer_v(atributos_categoricos['status_emprestimo'], atributos_categoricos['status_emprestimo'])\n",
    "\n",
    "df_atr_cat = pd.DataFrame({'genero': [atr_cat_1, atr_cat_2, atr_cat_3, atr_cat_4,\n",
    "                                      atr_cat_5, atr_cat_6, atr_cat_7, atr_cat_8],\n",
    "                           'casado': [atr_cat_9, atr_cat_10, atr_cat_11, atr_cat_12,\n",
    "                                      atr_cat_13, atr_cat_14, atr_cat_15, atr_cat_16],\n",
    "                           'dependentes': [atr_cat_17, atr_cat_18, atr_cat_19, atr_cat_20,\n",
    "                                          atr_cat_21, atr_cat_22, atr_cat_23, atr_cat_24],\n",
    "                           'educacao': [atr_cat_25, atr_cat_26, atr_cat_27, atr_cat_28,\n",
    "                                       atr_cat_29, atr_cat_30, atr_cat_31, atr_cat_32],\n",
    "                           'autonomo': [atr_cat_33, atr_cat_34, atr_cat_35, atr_cat_36,\n",
    "                                       atr_cat_37, atr_cat_38, atr_cat_39, atr_cat_40],\n",
    "                           'historico_credito': [atr_cat_41, atr_cat_42, atr_cat_43, atr_cat_44,\n",
    "                                       atr_cat_45, atr_cat_46, atr_cat_47, atr_cat_48],\n",
    "                           'tipo_propriedade': [atr_cat_49, atr_cat_50, atr_cat_51, atr_cat_52,\n",
    "                                               atr_cat_53, atr_cat_54, atr_cat_55, atr_cat_56],\n",
    "                           'status_emprestimo': [atr_cat_57, atr_cat_58, atr_cat_59, atr_cat_60,\n",
    "                                                atr_cat_61, atr_cat_62, atr_cat_63, atr_cat_64]\n",
    "                          })\n",
    "df_atr_cat = df_atr_cat.set_index(df_atr_cat.columns)\n",
    "df_atr_cat"
   ]
  },
  {
   "cell_type": "code",
   "execution_count": 164,
   "id": "8e531406",
   "metadata": {
    "ExecuteTime": {
     "end_time": "2021-10-28T00:11:21.399987Z",
     "start_time": "2021-10-28T00:11:20.852298Z"
    }
   },
   "outputs": [
    {
     "data": {
      "text/plain": [
       "<AxesSubplot:>"
      ]
     },
     "execution_count": 164,
     "metadata": {},
     "output_type": "execute_result"
    },
    {
     "data": {
      "image/png": "[encoded data removed]",
      "text/plain": [
       "<Figure size 1800x864 with 2 Axes>"
      ]
     },
     "metadata": {},
     "output_type": "display_data"
    }
   ],
   "source": [
    "sns.heatmap(df_atr_cat, annot=True)"
   ]
  },
  {
   "cell_type": "markdown",
   "id": "07f5fb28",
   "metadata": {},
   "source": [
    "Avaliando apenas a variável resposta, `status_emprestimo`, vemos que a variável `histórico_credito` possui boa correlação com ela."
   ]
  },
  {
   "cell_type": "markdown",
   "id": "39846216",
   "metadata": {},
   "source": [
    "# Preparação dos dados"
   ]
  },
  {
   "cell_type": "code",
   "execution_count": 210,
   "id": "5869b1ed",
   "metadata": {
    "ExecuteTime": {
     "end_time": "2021-10-28T00:40:08.078359Z",
     "start_time": "2021-10-28T00:40:08.051567Z"
    }
   },
   "outputs": [
    {
     "data": {
      "text/html": [
       "<div>\n",
       "<style scoped>\n",
       "    .dataframe tbody tr th:only-of-type {\n",
       "        vertical-align: middle;\n",
       "    }\n",
       "\n",
       "    .dataframe tbody tr th {\n",
       "        vertical-align: top;\n",
       "    }\n",
       "\n",
       "    .dataframe thead th {\n",
       "        text-align: right;\n",
       "    }\n",
       "</style>\n",
       "<table border=\"1\" class=\"dataframe\">\n",
       "  <thead>\n",
       "    <tr style=\"text-align: right;\">\n",
       "      <th></th>\n",
       "      <th>id_emprestimo</th>\n",
       "      <th>genero</th>\n",
       "      <th>casado</th>\n",
       "      <th>dependentes</th>\n",
       "      <th>educacao</th>\n",
       "      <th>autonomo</th>\n",
       "      <th>renda_requerente</th>\n",
       "      <th>renda_co-requerente</th>\n",
       "      <th>valor_emprestimo</th>\n",
       "      <th>prazo_emprestimo</th>\n",
       "      <th>historico_credito</th>\n",
       "      <th>tipo_propriedade</th>\n",
       "      <th>status_emprestimo</th>\n",
       "      <th>renda_requerente_categoria</th>\n",
       "      <th>valor_emprestimo_categoria</th>\n",
       "    </tr>\n",
       "  </thead>\n",
       "  <tbody>\n",
       "    <tr>\n",
       "      <th>0</th>\n",
       "      <td>LP001002</td>\n",
       "      <td>Masculino</td>\n",
       "      <td>Não</td>\n",
       "      <td>0</td>\n",
       "      <td>Graduado</td>\n",
       "      <td>Não</td>\n",
       "      <td>5849</td>\n",
       "      <td>0.0</td>\n",
       "      <td>146.41</td>\n",
       "      <td>360.0</td>\n",
       "      <td>Bom</td>\n",
       "      <td>Urbano</td>\n",
       "      <td>Aprovado</td>\n",
       "      <td>Acima da média</td>\n",
       "      <td>Acima da média</td>\n",
       "    </tr>\n",
       "    <tr>\n",
       "      <th>1</th>\n",
       "      <td>LP001003</td>\n",
       "      <td>Masculino</td>\n",
       "      <td>Sim</td>\n",
       "      <td>1</td>\n",
       "      <td>Graduado</td>\n",
       "      <td>Não</td>\n",
       "      <td>4583</td>\n",
       "      <td>1508.0</td>\n",
       "      <td>128.00</td>\n",
       "      <td>360.0</td>\n",
       "      <td>Bom</td>\n",
       "      <td>Rural</td>\n",
       "      <td>Negado</td>\n",
       "      <td>Abaixo da média</td>\n",
       "      <td>Abaixo da média</td>\n",
       "    </tr>\n",
       "    <tr>\n",
       "      <th>2</th>\n",
       "      <td>LP001005</td>\n",
       "      <td>Masculino</td>\n",
       "      <td>Sim</td>\n",
       "      <td>0</td>\n",
       "      <td>Graduado</td>\n",
       "      <td>Sim</td>\n",
       "      <td>3000</td>\n",
       "      <td>0.0</td>\n",
       "      <td>66.00</td>\n",
       "      <td>360.0</td>\n",
       "      <td>Bom</td>\n",
       "      <td>Urbano</td>\n",
       "      <td>Aprovado</td>\n",
       "      <td>Abaixo da média</td>\n",
       "      <td>Abaixo da média</td>\n",
       "    </tr>\n",
       "    <tr>\n",
       "      <th>3</th>\n",
       "      <td>LP001006</td>\n",
       "      <td>Masculino</td>\n",
       "      <td>Sim</td>\n",
       "      <td>0</td>\n",
       "      <td>Não Graduado</td>\n",
       "      <td>Não</td>\n",
       "      <td>2583</td>\n",
       "      <td>2358.0</td>\n",
       "      <td>120.00</td>\n",
       "      <td>360.0</td>\n",
       "      <td>Bom</td>\n",
       "      <td>Urbano</td>\n",
       "      <td>Aprovado</td>\n",
       "      <td>Abaixo da média</td>\n",
       "      <td>Abaixo da média</td>\n",
       "    </tr>\n",
       "    <tr>\n",
       "      <th>4</th>\n",
       "      <td>LP001008</td>\n",
       "      <td>Masculino</td>\n",
       "      <td>Não</td>\n",
       "      <td>0</td>\n",
       "      <td>Graduado</td>\n",
       "      <td>Não</td>\n",
       "      <td>6000</td>\n",
       "      <td>0.0</td>\n",
       "      <td>141.00</td>\n",
       "      <td>360.0</td>\n",
       "      <td>Bom</td>\n",
       "      <td>Urbano</td>\n",
       "      <td>Aprovado</td>\n",
       "      <td>Acima da média</td>\n",
       "      <td>Abaixo da média</td>\n",
       "    </tr>\n",
       "  </tbody>\n",
       "</table>\n",
       "</div>"
      ],
      "text/plain": [
       "  id_emprestimo     genero casado dependentes      educacao autonomo  renda_requerente  renda_co-requerente  valor_emprestimo  prazo_emprestimo historico_credito tipo_propriedade status_emprestimo renda_requerente_categoria valor_emprestimo_categoria\n",
       "0      LP001002  Masculino    Não           0      Graduado      Não              5849                  0.0            146.41             360.0               Bom           Urbano          Aprovado             Acima da média             Acima da média\n",
       "1      LP001003  Masculino    Sim           1      Graduado      Não              4583               1508.0            128.00             360.0               Bom            Rural            Negado            Abaixo da média            Abaixo da média\n",
       "2      LP001005  Masculino    Sim           0      Graduado      Sim              3000                  0.0             66.00             360.0               Bom           Urbano          Aprovado            Abaixo da média            Abaixo da média\n",
       "3      LP001006  Masculino    Sim           0  Não Graduado      Não              2583               2358.0            120.00             360.0               Bom           Urbano          Aprovado            Abaixo da média            Abaixo da média\n",
       "4      LP001008  Masculino    Não           0      Graduado      Não              6000                  0.0            141.00             360.0               Bom           Urbano          Aprovado             Acima da média            Abaixo da média"
      ]
     },
     "execution_count": 210,
     "metadata": {},
     "output_type": "execute_result"
    }
   ],
   "source": [
    "dados4 = dados3.copy()\n",
    "dados4.head()"
   ]
  },
  {
   "cell_type": "markdown",
   "id": "9409fdc7",
   "metadata": {},
   "source": [
    "Vamos excluir a coluna que criamos para a análise exploratória dos dados"
   ]
  },
  {
   "cell_type": "code",
   "execution_count": 211,
   "id": "b0cca6f4",
   "metadata": {
    "ExecuteTime": {
     "end_time": "2021-10-28T00:40:09.343348Z",
     "start_time": "2021-10-28T00:40:09.337837Z"
    }
   },
   "outputs": [],
   "source": [
    "dados4 = dados4.drop(['renda_requerente_categoria', 'valor_emprestimo_categoria'], axis=1)"
   ]
  },
  {
   "cell_type": "markdown",
   "id": "73880953",
   "metadata": {},
   "source": [
    "Faremos o encoding das variáveis categóricas"
   ]
  },
  {
   "cell_type": "code",
   "execution_count": 212,
   "id": "6fadff39",
   "metadata": {
    "ExecuteTime": {
     "end_time": "2021-10-28T00:40:12.176332Z",
     "start_time": "2021-10-28T00:40:12.148283Z"
    }
   },
   "outputs": [
    {
     "data": {
      "text/html": [
       "<div>\n",
       "<style scoped>\n",
       "    .dataframe tbody tr th:only-of-type {\n",
       "        vertical-align: middle;\n",
       "    }\n",
       "\n",
       "    .dataframe tbody tr th {\n",
       "        vertical-align: top;\n",
       "    }\n",
       "\n",
       "    .dataframe thead th {\n",
       "        text-align: right;\n",
       "    }\n",
       "</style>\n",
       "<table border=\"1\" class=\"dataframe\">\n",
       "  <thead>\n",
       "    <tr style=\"text-align: right;\">\n",
       "      <th></th>\n",
       "      <th>id_emprestimo</th>\n",
       "      <th>genero</th>\n",
       "      <th>casado</th>\n",
       "      <th>dependentes</th>\n",
       "      <th>educacao</th>\n",
       "      <th>autonomo</th>\n",
       "      <th>renda_requerente</th>\n",
       "      <th>renda_co-requerente</th>\n",
       "      <th>valor_emprestimo</th>\n",
       "      <th>prazo_emprestimo</th>\n",
       "      <th>historico_credito</th>\n",
       "      <th>tipo_propriedade</th>\n",
       "      <th>status_emprestimo</th>\n",
       "    </tr>\n",
       "  </thead>\n",
       "  <tbody>\n",
       "    <tr>\n",
       "      <th>0</th>\n",
       "      <td>LP001002</td>\n",
       "      <td>1</td>\n",
       "      <td>0</td>\n",
       "      <td>0</td>\n",
       "      <td>1</td>\n",
       "      <td>0</td>\n",
       "      <td>5849</td>\n",
       "      <td>0.0</td>\n",
       "      <td>146.41</td>\n",
       "      <td>360.0</td>\n",
       "      <td>1</td>\n",
       "      <td>2</td>\n",
       "      <td>1</td>\n",
       "    </tr>\n",
       "    <tr>\n",
       "      <th>1</th>\n",
       "      <td>LP001003</td>\n",
       "      <td>1</td>\n",
       "      <td>1</td>\n",
       "      <td>1</td>\n",
       "      <td>1</td>\n",
       "      <td>0</td>\n",
       "      <td>4583</td>\n",
       "      <td>1508.0</td>\n",
       "      <td>128.00</td>\n",
       "      <td>360.0</td>\n",
       "      <td>1</td>\n",
       "      <td>0</td>\n",
       "      <td>0</td>\n",
       "    </tr>\n",
       "    <tr>\n",
       "      <th>2</th>\n",
       "      <td>LP001005</td>\n",
       "      <td>1</td>\n",
       "      <td>1</td>\n",
       "      <td>0</td>\n",
       "      <td>1</td>\n",
       "      <td>1</td>\n",
       "      <td>3000</td>\n",
       "      <td>0.0</td>\n",
       "      <td>66.00</td>\n",
       "      <td>360.0</td>\n",
       "      <td>1</td>\n",
       "      <td>2</td>\n",
       "      <td>1</td>\n",
       "    </tr>\n",
       "    <tr>\n",
       "      <th>3</th>\n",
       "      <td>LP001006</td>\n",
       "      <td>1</td>\n",
       "      <td>1</td>\n",
       "      <td>0</td>\n",
       "      <td>0</td>\n",
       "      <td>0</td>\n",
       "      <td>2583</td>\n",
       "      <td>2358.0</td>\n",
       "      <td>120.00</td>\n",
       "      <td>360.0</td>\n",
       "      <td>1</td>\n",
       "      <td>2</td>\n",
       "      <td>1</td>\n",
       "    </tr>\n",
       "    <tr>\n",
       "      <th>4</th>\n",
       "      <td>LP001008</td>\n",
       "      <td>1</td>\n",
       "      <td>0</td>\n",
       "      <td>0</td>\n",
       "      <td>1</td>\n",
       "      <td>0</td>\n",
       "      <td>6000</td>\n",
       "      <td>0.0</td>\n",
       "      <td>141.00</td>\n",
       "      <td>360.0</td>\n",
       "      <td>1</td>\n",
       "      <td>2</td>\n",
       "      <td>1</td>\n",
       "    </tr>\n",
       "  </tbody>\n",
       "</table>\n",
       "</div>"
      ],
      "text/plain": [
       "  id_emprestimo  genero  casado  dependentes  educacao  autonomo  renda_requerente  renda_co-requerente  valor_emprestimo  prazo_emprestimo  historico_credito  tipo_propriedade  status_emprestimo\n",
       "0      LP001002       1       0            0         1         0              5849                  0.0            146.41             360.0                  1                 2                  1\n",
       "1      LP001003       1       1            1         1         0              4583               1508.0            128.00             360.0                  1                 0                  0\n",
       "2      LP001005       1       1            0         1         1              3000                  0.0             66.00             360.0                  1                 2                  1\n",
       "3      LP001006       1       1            0         0         0              2583               2358.0            120.00             360.0                  1                 2                  1\n",
       "4      LP001008       1       0            0         1         0              6000                  0.0            141.00             360.0                  1                 2                  1"
      ]
     },
     "execution_count": 212,
     "metadata": {},
     "output_type": "execute_result"
    }
   ],
   "source": [
    "# genero\n",
    "dados4['genero'] = dados4['genero'].map({'Masculino': 1, 'Feminino': 0 })\n",
    "\n",
    "# casado\n",
    "dados4['casado'] = dados4['casado'].map({'Sim': 1, 'Não': 0 })\n",
    "\n",
    "# educação\n",
    "dados4['educacao'] = dados4['educacao'].map({'Graduado': 1, 'Não Graduado': 0 })\n",
    "\n",
    "# dependentes\n",
    "dados4['dependentes'] = dados4['dependentes'].map({'0': 0, '1': 1, '2': 2, '3+': 3 })\n",
    "\n",
    "# autonomo\n",
    "dados4['autonomo'] = dados4['autonomo'].map({'Sim': 1, 'Não': 0 })\n",
    "\n",
    "# Histórico crédito\n",
    "dados4['historico_credito'] = dados4['historico_credito'].map({'Bom': 1, 'Ruim': 0 })\n",
    "\n",
    "# tipo de propriedade\n",
    "dados4['tipo_propriedade'] = dados4['tipo_propriedade'].map({'Rural': 0, 'Semi-urbano': 1, 'Urbano': 2})\n",
    "\n",
    "# status do empréstimo\n",
    "dados4['status_emprestimo'] = dados4['status_emprestimo'].map({'Aprovado': 1, 'Negado': 0 })\n",
    "\n",
    "dados4.head()"
   ]
  },
  {
   "cell_type": "markdown",
   "id": "cba1a249",
   "metadata": {},
   "source": [
    "## Dividindo os dados em treino e teste"
   ]
  },
  {
   "cell_type": "code",
   "execution_count": 213,
   "id": "cabb2e95",
   "metadata": {
    "ExecuteTime": {
     "end_time": "2021-10-28T00:40:15.020888Z",
     "start_time": "2021-10-28T00:40:15.014402Z"
    }
   },
   "outputs": [],
   "source": [
    "x = dados4.drop(['id_emprestimo', 'status_emprestimo'], axis=1)\n",
    "y = dados4['status_emprestimo']"
   ]
  },
  {
   "cell_type": "code",
   "execution_count": 214,
   "id": "66588056",
   "metadata": {
    "ExecuteTime": {
     "end_time": "2021-10-28T00:40:16.272451Z",
     "start_time": "2021-10-28T00:40:16.265510Z"
    }
   },
   "outputs": [],
   "source": [
    "x_treino, x_teste, y_treino, y_teste = train_test_split(x, y, test_size=0.2, random_state=42)"
   ]
  },
  {
   "cell_type": "markdown",
   "id": "3fecfbb9",
   "metadata": {},
   "source": [
    "Carregando os dados de validação"
   ]
  },
  {
   "cell_type": "code",
   "execution_count": 335,
   "id": "9fac1219",
   "metadata": {
    "ExecuteTime": {
     "end_time": "2021-10-28T02:23:24.225696Z",
     "start_time": "2021-10-28T02:23:24.180684Z"
    }
   },
   "outputs": [
    {
     "data": {
      "text/html": [
       "<div>\n",
       "<style scoped>\n",
       "    .dataframe tbody tr th:only-of-type {\n",
       "        vertical-align: middle;\n",
       "    }\n",
       "\n",
       "    .dataframe tbody tr th {\n",
       "        vertical-align: top;\n",
       "    }\n",
       "\n",
       "    .dataframe thead th {\n",
       "        text-align: right;\n",
       "    }\n",
       "</style>\n",
       "<table border=\"1\" class=\"dataframe\">\n",
       "  <thead>\n",
       "    <tr style=\"text-align: right;\">\n",
       "      <th></th>\n",
       "      <th>genero</th>\n",
       "      <th>casado</th>\n",
       "      <th>dependentes</th>\n",
       "      <th>educacao</th>\n",
       "      <th>autonomo</th>\n",
       "      <th>renda_requerente</th>\n",
       "      <th>renda_co-requerente</th>\n",
       "      <th>valor_emprestimo</th>\n",
       "      <th>prazo_emprestimo</th>\n",
       "      <th>historico_credito</th>\n",
       "      <th>tipo_propriedade</th>\n",
       "    </tr>\n",
       "  </thead>\n",
       "  <tbody>\n",
       "    <tr>\n",
       "      <th>0</th>\n",
       "      <td>1.0</td>\n",
       "      <td>1</td>\n",
       "      <td>0.0</td>\n",
       "      <td>1</td>\n",
       "      <td>0.0</td>\n",
       "      <td>5720</td>\n",
       "      <td>0</td>\n",
       "      <td>110.0</td>\n",
       "      <td>360.0</td>\n",
       "      <td>1.0</td>\n",
       "      <td>2</td>\n",
       "    </tr>\n",
       "    <tr>\n",
       "      <th>1</th>\n",
       "      <td>1.0</td>\n",
       "      <td>1</td>\n",
       "      <td>1.0</td>\n",
       "      <td>1</td>\n",
       "      <td>0.0</td>\n",
       "      <td>3076</td>\n",
       "      <td>1500</td>\n",
       "      <td>126.0</td>\n",
       "      <td>360.0</td>\n",
       "      <td>1.0</td>\n",
       "      <td>2</td>\n",
       "    </tr>\n",
       "    <tr>\n",
       "      <th>2</th>\n",
       "      <td>1.0</td>\n",
       "      <td>1</td>\n",
       "      <td>2.0</td>\n",
       "      <td>1</td>\n",
       "      <td>0.0</td>\n",
       "      <td>5000</td>\n",
       "      <td>1800</td>\n",
       "      <td>208.0</td>\n",
       "      <td>360.0</td>\n",
       "      <td>1.0</td>\n",
       "      <td>2</td>\n",
       "    </tr>\n",
       "    <tr>\n",
       "      <th>3</th>\n",
       "      <td>1.0</td>\n",
       "      <td>1</td>\n",
       "      <td>2.0</td>\n",
       "      <td>1</td>\n",
       "      <td>0.0</td>\n",
       "      <td>2340</td>\n",
       "      <td>2546</td>\n",
       "      <td>100.0</td>\n",
       "      <td>360.0</td>\n",
       "      <td>NaN</td>\n",
       "      <td>2</td>\n",
       "    </tr>\n",
       "    <tr>\n",
       "      <th>4</th>\n",
       "      <td>1.0</td>\n",
       "      <td>0</td>\n",
       "      <td>0.0</td>\n",
       "      <td>0</td>\n",
       "      <td>0.0</td>\n",
       "      <td>3276</td>\n",
       "      <td>0</td>\n",
       "      <td>78.0</td>\n",
       "      <td>360.0</td>\n",
       "      <td>1.0</td>\n",
       "      <td>2</td>\n",
       "    </tr>\n",
       "  </tbody>\n",
       "</table>\n",
       "</div>"
      ],
      "text/plain": [
       "   genero  casado  dependentes  educacao  autonomo  renda_requerente  renda_co-requerente  valor_emprestimo  prazo_emprestimo  historico_credito  tipo_propriedade\n",
       "0     1.0       1          0.0         1       0.0              5720                    0             110.0             360.0                1.0                 2\n",
       "1     1.0       1          1.0         1       0.0              3076                 1500             126.0             360.0                1.0                 2\n",
       "2     1.0       1          2.0         1       0.0              5000                 1800             208.0             360.0                1.0                 2\n",
       "3     1.0       1          2.0         1       0.0              2340                 2546             100.0             360.0                NaN                 2\n",
       "4     1.0       0          0.0         0       0.0              3276                    0              78.0             360.0                1.0                 2"
      ]
     },
     "execution_count": 335,
     "metadata": {},
     "output_type": "execute_result"
    }
   ],
   "source": [
    "dados_validacao = pd.read_csv('Dados/teste.csv')\n",
    "\n",
    "# renomeando as colunas\n",
    "dados_validacao.columns = ['id_emprestimo', 'genero', 'casado', 'dependentes', 'educacao',\n",
    "                  'autonomo', 'renda_requerente', 'renda_co-requerente', 'valor_emprestimo',\n",
    "                  'prazo_emprestimo', 'historico_credito', 'tipo_propriedade']\n",
    "\n",
    "dados_validacao = dados_validacao.drop('id_emprestimo', axis=1)\n",
    "\n",
    "dados_validacao['genero'] = dados_validacao['genero'].replace(['Male', 'Female'], ['Masculino', 'Feminino'])\n",
    "dados_validacao['educacao'] = dados_validacao['educacao'].replace(['Graduate', 'Not Graduate'],\n",
    "                                                ['Graduado', 'Não Graduado'])\n",
    "# rural é escrito da mesma forma\n",
    "dados_validacao['tipo_propriedade'] = dados_validacao['tipo_propriedade'].replace(['Urban', 'Semiurban'],\n",
    "                                                                ['Urbano', 'Semi-urbano'])\n",
    "dados_validacao['casado'] = dados_validacao['casado'].replace(['Yes', 'No'], ['Sim', 'Não'])\n",
    "dados_validacao['autonomo'] = dados_validacao['autonomo'].replace(['Yes', 'No'], ['Sim', 'Não'])\n",
    "dados_validacao['historico_credito'] = dados_validacao['historico_credito'].replace([1.0, 0.0],\n",
    "                                                                        ['Bom', 'Ruim'])\n",
    "\n",
    "# genero\n",
    "dados_validacao['genero'] = dados_validacao['genero'].map({'Masculino': 1, 'Feminino': 0 })\n",
    "\n",
    "# casado\n",
    "dados_validacao['casado'] = dados_validacao['casado'].map({'Sim': 1, 'Não': 0 })\n",
    "\n",
    "# educação\n",
    "dados_validacao['educacao'] = dados_validacao['educacao'].map({'Graduado': 1, 'Não Graduado': 0 })\n",
    "\n",
    "# dependentes\n",
    "dados_validacao['dependentes'] = dados_validacao['dependentes'].map({'0': 0, '1': 1, '2': 2, '3+': 3 })\n",
    "\n",
    "# autonomo\n",
    "dados_validacao['autonomo'] = dados_validacao['autonomo'].map({'Sim': 1, 'Não': 0 })\n",
    "\n",
    "# Histórico crédito\n",
    "dados_validacao['historico_credito'] = dados_validacao['historico_credito'].map({'Bom': 1, 'Ruim': 0 })\n",
    "\n",
    "# tipo de propriedade\n",
    "dados_validacao['tipo_propriedade'] = dados_validacao['tipo_propriedade'].map({'Rural': 0, 'Semi-urbano': 1, 'Urbano': 2})\n",
    "\n",
    "dados_validacao.head()"
   ]
  },
  {
   "cell_type": "markdown",
   "id": "ab37da0f",
   "metadata": {},
   "source": [
    "Vendo se a valores ausentes nos dados de validação"
   ]
  },
  {
   "cell_type": "code",
   "execution_count": 336,
   "id": "45384052",
   "metadata": {
    "ExecuteTime": {
     "end_time": "2021-10-28T02:23:25.564726Z",
     "start_time": "2021-10-28T02:23:25.553669Z"
    }
   },
   "outputs": [
    {
     "data": {
      "text/plain": [
       "genero                 11\n",
       "casado                  0\n",
       "dependentes            10\n",
       "educacao                0\n",
       "autonomo               23\n",
       "renda_requerente        0\n",
       "renda_co-requerente     0\n",
       "valor_emprestimo        5\n",
       "prazo_emprestimo        6\n",
       "historico_credito      29\n",
       "tipo_propriedade        0\n",
       "dtype: int64"
      ]
     },
     "execution_count": 336,
     "metadata": {},
     "output_type": "execute_result"
    }
   ],
   "source": [
    "dados_validacao.isna().sum()"
   ]
  },
  {
   "cell_type": "markdown",
   "id": "b88fac7a",
   "metadata": {},
   "source": [
    "Como esses dados servem apenas para validar depois de treinar e testar, vamos retirar todas as linhas em branco"
   ]
  },
  {
   "cell_type": "code",
   "execution_count": 337,
   "id": "761a1e20",
   "metadata": {
    "ExecuteTime": {
     "end_time": "2021-10-28T02:23:27.114222Z",
     "start_time": "2021-10-28T02:23:27.105840Z"
    }
   },
   "outputs": [],
   "source": [
    "dados_validacao = dados_validacao.dropna()"
   ]
  },
  {
   "cell_type": "code",
   "execution_count": 338,
   "id": "ac5326eb",
   "metadata": {
    "ExecuteTime": {
     "end_time": "2021-10-28T02:23:28.181252Z",
     "start_time": "2021-10-28T02:23:28.172163Z"
    }
   },
   "outputs": [
    {
     "data": {
      "text/plain": [
       "genero                 0\n",
       "casado                 0\n",
       "dependentes            0\n",
       "educacao               0\n",
       "autonomo               0\n",
       "renda_requerente       0\n",
       "renda_co-requerente    0\n",
       "valor_emprestimo       0\n",
       "prazo_emprestimo       0\n",
       "historico_credito      0\n",
       "tipo_propriedade       0\n",
       "dtype: int64"
      ]
     },
     "execution_count": 338,
     "metadata": {},
     "output_type": "execute_result"
    }
   ],
   "source": [
    "dados_validacao.isna().sum()"
   ]
  },
  {
   "cell_type": "markdown",
   "id": "5ae8f362",
   "metadata": {},
   "source": [
    "## As variáveis selecionadas são significativas? "
   ]
  },
  {
   "cell_type": "markdown",
   "id": "a9791b1d",
   "metadata": {},
   "source": [
    "Veremos se as variáveis selecionadas são significativas com testes estatísticos usando o `statsmodels` "
   ]
  },
  {
   "cell_type": "code",
   "execution_count": 225,
   "id": "485cf313",
   "metadata": {
    "ExecuteTime": {
     "end_time": "2021-10-28T00:45:41.680080Z",
     "start_time": "2021-10-28T00:45:41.622541Z"
    }
   },
   "outputs": [
    {
     "name": "stdout",
     "output_type": "stream",
     "text": [
      "Optimization terminated successfully.\n",
      "         Current function value: 0.469738\n",
      "         Iterations 6\n"
     ]
    },
    {
     "data": {
      "text/html": [
       "<table class=\"simpletable\">\n",
       "<caption>Logit Regression Results</caption>\n",
       "<tr>\n",
       "  <th>Dep. Variable:</th>   <td>status_emprestimo</td> <th>  No. Observations:  </th>  <td>   478</td>  \n",
       "</tr>\n",
       "<tr>\n",
       "  <th>Model:</th>                 <td>Logit</td>       <th>  Df Residuals:      </th>  <td>   466</td>  \n",
       "</tr>\n",
       "<tr>\n",
       "  <th>Method:</th>                 <td>MLE</td>        <th>  Df Model:          </th>  <td>    11</td>  \n",
       "</tr>\n",
       "<tr>\n",
       "  <th>Date:</th>            <td>Wed, 27 Oct 2021</td>  <th>  Pseudo R-squ.:     </th>  <td>0.2488</td>  \n",
       "</tr>\n",
       "<tr>\n",
       "  <th>Time:</th>                <td>21:45:41</td>      <th>  Log-Likelihood:    </th> <td> -224.53</td> \n",
       "</tr>\n",
       "<tr>\n",
       "  <th>converged:</th>             <td>True</td>        <th>  LL-Null:           </th> <td> -298.92</td> \n",
       "</tr>\n",
       "<tr>\n",
       "  <th>Covariance Type:</th>     <td>nonrobust</td>     <th>  LLR p-value:       </th> <td>2.668e-26</td>\n",
       "</tr>\n",
       "</table>\n",
       "<table class=\"simpletable\">\n",
       "<tr>\n",
       "           <td></td>              <th>coef</th>     <th>std err</th>      <th>z</th>      <th>P>|z|</th>  <th>[0.025</th>    <th>0.975]</th>  \n",
       "</tr>\n",
       "<tr>\n",
       "  <th>const</th>               <td>   -2.1424</td> <td>    0.920</td> <td>   -2.330</td> <td> 0.020</td> <td>   -3.945</td> <td>   -0.340</td>\n",
       "</tr>\n",
       "<tr>\n",
       "  <th>genero</th>              <td>   -0.1298</td> <td>    0.322</td> <td>   -0.402</td> <td> 0.687</td> <td>   -0.762</td> <td>    0.502</td>\n",
       "</tr>\n",
       "<tr>\n",
       "  <th>casado</th>              <td>    0.4392</td> <td>    0.272</td> <td>    1.613</td> <td> 0.107</td> <td>   -0.094</td> <td>    0.973</td>\n",
       "</tr>\n",
       "<tr>\n",
       "  <th>dependentes</th>         <td>    0.0172</td> <td>    0.132</td> <td>    0.130</td> <td> 0.896</td> <td>   -0.242</td> <td>    0.276</td>\n",
       "</tr>\n",
       "<tr>\n",
       "  <th>educacao</th>            <td>    0.4842</td> <td>    0.285</td> <td>    1.697</td> <td> 0.090</td> <td>   -0.075</td> <td>    1.043</td>\n",
       "</tr>\n",
       "<tr>\n",
       "  <th>autonomo</th>            <td>    0.0031</td> <td>    0.366</td> <td>    0.008</td> <td> 0.993</td> <td>   -0.714</td> <td>    0.721</td>\n",
       "</tr>\n",
       "<tr>\n",
       "  <th>renda_requerente</th>    <td>-1.673e-05</td> <td> 2.99e-05</td> <td>   -0.559</td> <td> 0.576</td> <td>-7.54e-05</td> <td> 4.19e-05</td>\n",
       "</tr>\n",
       "<tr>\n",
       "  <th>renda_co-requerente</th> <td>-4.533e-05</td> <td> 3.97e-05</td> <td>   -1.141</td> <td> 0.254</td> <td>   -0.000</td> <td> 3.25e-05</td>\n",
       "</tr>\n",
       "<tr>\n",
       "  <th>valor_emprestimo</th>    <td>   -0.0017</td> <td>    0.002</td> <td>   -0.953</td> <td> 0.341</td> <td>   -0.005</td> <td>    0.002</td>\n",
       "</tr>\n",
       "<tr>\n",
       "  <th>prazo_emprestimo</th>    <td>   -0.0021</td> <td>    0.002</td> <td>   -0.998</td> <td> 0.318</td> <td>   -0.006</td> <td>    0.002</td>\n",
       "</tr>\n",
       "<tr>\n",
       "  <th>historico_credito</th>   <td>    3.7870</td> <td>    0.452</td> <td>    8.385</td> <td> 0.000</td> <td>    2.902</td> <td>    4.672</td>\n",
       "</tr>\n",
       "<tr>\n",
       "  <th>tipo_propriedade</th>    <td>    0.2609</td> <td>    0.154</td> <td>    1.693</td> <td> 0.090</td> <td>   -0.041</td> <td>    0.563</td>\n",
       "</tr>\n",
       "</table>"
      ],
      "text/plain": [
       "<class 'statsmodels.iolib.summary.Summary'>\n",
       "\"\"\"\n",
       "                           Logit Regression Results                           \n",
       "==============================================================================\n",
       "Dep. Variable:      status_emprestimo   No. Observations:                  478\n",
       "Model:                          Logit   Df Residuals:                      466\n",
       "Method:                           MLE   Df Model:                           11\n",
       "Date:                Wed, 27 Oct 2021   Pseudo R-squ.:                  0.2488\n",
       "Time:                        21:45:41   Log-Likelihood:                -224.53\n",
       "converged:                       True   LL-Null:                       -298.92\n",
       "Covariance Type:            nonrobust   LLR p-value:                 2.668e-26\n",
       "=======================================================================================\n",
       "                          coef    std err          z      P>|z|      [0.025      0.975]\n",
       "---------------------------------------------------------------------------------------\n",
       "const                  -2.1424      0.920     -2.330      0.020      -3.945      -0.340\n",
       "genero                 -0.1298      0.322     -0.402      0.687      -0.762       0.502\n",
       "casado                  0.4392      0.272      1.613      0.107      -0.094       0.973\n",
       "dependentes             0.0172      0.132      0.130      0.896      -0.242       0.276\n",
       "educacao                0.4842      0.285      1.697      0.090      -0.075       1.043\n",
       "autonomo                0.0031      0.366      0.008      0.993      -0.714       0.721\n",
       "renda_requerente    -1.673e-05   2.99e-05     -0.559      0.576   -7.54e-05    4.19e-05\n",
       "renda_co-requerente -4.533e-05   3.97e-05     -1.141      0.254      -0.000    3.25e-05\n",
       "valor_emprestimo       -0.0017      0.002     -0.953      0.341      -0.005       0.002\n",
       "prazo_emprestimo       -0.0021      0.002     -0.998      0.318      -0.006       0.002\n",
       "historico_credito       3.7870      0.452      8.385      0.000       2.902       4.672\n",
       "tipo_propriedade        0.2609      0.154      1.693      0.090      -0.041       0.563\n",
       "=======================================================================================\n",
       "\"\"\""
      ]
     },
     "execution_count": 225,
     "metadata": {},
     "output_type": "execute_result"
    }
   ],
   "source": [
    "# adicionando a constante\n",
    "x_treino_constante = sm.add_constant(x_treino)\n",
    "\n",
    "# trainando o modelo OLS\n",
    "modelo_statsmodels = sm.Logit(y_treino, x_treino_constante).fit()\n",
    "\n",
    "modelo_statsmodels.summary()"
   ]
  },
  {
   "cell_type": "markdown",
   "id": "59ec6d03",
   "metadata": {},
   "source": [
    "Com esse modelo criado pelo `statsmodels`, já somos capazes de fazer uma previsão. Vamos criar um função para fazer a previsão."
   ]
  },
  {
   "cell_type": "code",
   "execution_count": 299,
   "id": "393915bf",
   "metadata": {
    "ExecuteTime": {
     "end_time": "2021-10-28T01:44:27.949537Z",
     "start_time": "2021-10-28T01:44:27.941610Z"
    }
   },
   "outputs": [],
   "source": [
    "def confusion_matrix_manual(data,actual_values,model):\n",
    "        \n",
    "        # Prediz os valores usando o modelo Logit\n",
    "        pred_values = model.predict(data)\n",
    "        \n",
    "        # Especifica os  bins\n",
    "        bins=np.array([0,0.5,1])\n",
    "        \n",
    "        # Crie um histograma, onde se os valores estiverem entre 0 e 0,5 será considerado 0 \n",
    "        # se estiverem entre 0,5 e 1, serão considerados 1\n",
    "        cm = np.histogram2d(actual_values, pred_values, bins=bins)[0]\n",
    "        \n",
    "        # Calculate the accuracy\n",
    "        accuracy = (cm[0,0]+cm[1,1])/cm.sum()\n",
    "        \n",
    "        # coloca os valores num DataFrame\n",
    "        cm_df = pd.DataFrame(cm)\n",
    "        cm_df.columns = ['Predição de empréstimo negado', 'Predição de empréstimo aprovado']\n",
    "        cm_df = cm_df.rename(index={0: 'Empréstimo negado real', 1: 'Empréstimo aprovado real'})\n",
    "        accuracy = accuracy * 100\n",
    "        print(f'A acurácia do modelo é de {accuracy:.2f} %')\n",
    "        return cm_df"
   ]
  },
  {
   "cell_type": "code",
   "execution_count": 300,
   "id": "4171d0c1",
   "metadata": {
    "ExecuteTime": {
     "end_time": "2021-10-28T01:44:28.371928Z",
     "start_time": "2021-10-28T01:44:28.354772Z"
    }
   },
   "outputs": [
    {
     "name": "stdout",
     "output_type": "stream",
     "text": [
      "A acurácia do modelo é de 80.75 %\n"
     ]
    },
    {
     "data": {
      "text/html": [
       "<div>\n",
       "<style scoped>\n",
       "    .dataframe tbody tr th:only-of-type {\n",
       "        vertical-align: middle;\n",
       "    }\n",
       "\n",
       "    .dataframe tbody tr th {\n",
       "        vertical-align: top;\n",
       "    }\n",
       "\n",
       "    .dataframe thead th {\n",
       "        text-align: right;\n",
       "    }\n",
       "</style>\n",
       "<table border=\"1\" class=\"dataframe\">\n",
       "  <thead>\n",
       "    <tr style=\"text-align: right;\">\n",
       "      <th></th>\n",
       "      <th>Predição de empréstimo negado</th>\n",
       "      <th>Predição de empréstimo aprovado</th>\n",
       "    </tr>\n",
       "  </thead>\n",
       "  <tbody>\n",
       "    <tr>\n",
       "      <th>Empréstimo negado real</th>\n",
       "      <td>66.0</td>\n",
       "      <td>86.0</td>\n",
       "    </tr>\n",
       "    <tr>\n",
       "      <th>Empréstimo aprovado real</th>\n",
       "      <td>6.0</td>\n",
       "      <td>320.0</td>\n",
       "    </tr>\n",
       "  </tbody>\n",
       "</table>\n",
       "</div>"
      ],
      "text/plain": [
       "                          Predição de empréstimo negado  Predição de empréstimo aprovado\n",
       "Empréstimo negado real                             66.0                             86.0\n",
       "Empréstimo aprovado real                            6.0                            320.0"
      ]
     },
     "execution_count": 300,
     "metadata": {},
     "output_type": "execute_result"
    }
   ],
   "source": [
    "confusion_matrix_manual(x_treino_constante, y_treino, modelo_statsmodels)"
   ]
  },
  {
   "cell_type": "markdown",
   "id": "11c9fc04",
   "metadata": {},
   "source": [
    "Nosso modelo é muito bom para aprovar empréstimos, acertando em 98% nos empréstimos que deveriam ser aprovados, porém na hora de negar, ele não se mostrou tão bom, negando apenas 43,42% dos empréstimos que deveria. Vamos pensar em padronizar os dados para vê melhora."
   ]
  },
  {
   "cell_type": "markdown",
   "id": "5a3c6b96",
   "metadata": {},
   "source": [
    "## Feature enginnering"
   ]
  },
  {
   "cell_type": "markdown",
   "id": "8b437531",
   "metadata": {},
   "source": [
    "Antes de padronizar os dados, vamos criar uma variável nova derivada de duas. As variáveis `renda_requerente` e `renda_co-requerente` nos dão a renda total que será utilizada para poder aprovar ou não o empréstimo. Logo criaremos uma variável que incluirá essas duas."
   ]
  },
  {
   "cell_type": "code",
   "execution_count": 301,
   "id": "0f9d66b1",
   "metadata": {
    "ExecuteTime": {
     "end_time": "2021-10-28T01:44:59.168875Z",
     "start_time": "2021-10-28T01:44:59.130678Z"
    }
   },
   "outputs": [
    {
     "ename": "KeyError",
     "evalue": "'renda_requerente'",
     "output_type": "error",
     "traceback": [
      "\u001b[0;31m---------------------------------------------------------------------------\u001b[0m",
      "\u001b[0;31mKeyError\u001b[0m                                  Traceback (most recent call last)",
      "\u001b[0;32m~/anaconda3/lib/python3.8/site-packages/pandas/core/indexes/base.py\u001b[0m in \u001b[0;36mget_loc\u001b[0;34m(self, key, method, tolerance)\u001b[0m\n\u001b[1;32m   3079\u001b[0m             \u001b[0;32mtry\u001b[0m\u001b[0;34m:\u001b[0m\u001b[0;34m\u001b[0m\u001b[0;34m\u001b[0m\u001b[0m\n\u001b[0;32m-> 3080\u001b[0;31m                 \u001b[0;32mreturn\u001b[0m \u001b[0mself\u001b[0m\u001b[0;34m.\u001b[0m\u001b[0m_engine\u001b[0m\u001b[0;34m.\u001b[0m\u001b[0mget_loc\u001b[0m\u001b[0;34m(\u001b[0m\u001b[0mcasted_key\u001b[0m\u001b[0;34m)\u001b[0m\u001b[0;34m\u001b[0m\u001b[0;34m\u001b[0m\u001b[0m\n\u001b[0m\u001b[1;32m   3081\u001b[0m             \u001b[0;32mexcept\u001b[0m \u001b[0mKeyError\u001b[0m \u001b[0;32mas\u001b[0m \u001b[0merr\u001b[0m\u001b[0;34m:\u001b[0m\u001b[0;34m\u001b[0m\u001b[0;34m\u001b[0m\u001b[0m\n",
      "\u001b[0;32mpandas/_libs/index.pyx\u001b[0m in \u001b[0;36mpandas._libs.index.IndexEngine.get_loc\u001b[0;34m()\u001b[0m\n",
      "\u001b[0;32mpandas/_libs/index.pyx\u001b[0m in \u001b[0;36mpandas._libs.index.IndexEngine.get_loc\u001b[0;34m()\u001b[0m\n",
      "\u001b[0;32mpandas/_libs/hashtable_class_helper.pxi\u001b[0m in \u001b[0;36mpandas._libs.hashtable.PyObjectHashTable.get_item\u001b[0;34m()\u001b[0m\n",
      "\u001b[0;32mpandas/_libs/hashtable_class_helper.pxi\u001b[0m in \u001b[0;36mpandas._libs.hashtable.PyObjectHashTable.get_item\u001b[0;34m()\u001b[0m\n",
      "\u001b[0;31mKeyError\u001b[0m: 'renda_requerente'",
      "\nThe above exception was the direct cause of the following exception:\n",
      "\u001b[0;31mKeyError\u001b[0m                                  Traceback (most recent call last)",
      "\u001b[0;32m<ipython-input-301-a93f89d7b30f>\u001b[0m in \u001b[0;36m<module>\u001b[0;34m\u001b[0m\n\u001b[0;32m----> 1\u001b[0;31m \u001b[0mdados4\u001b[0m\u001b[0;34m[\u001b[0m\u001b[0;34m'renda_total'\u001b[0m\u001b[0;34m]\u001b[0m \u001b[0;34m=\u001b[0m \u001b[0mdados4\u001b[0m\u001b[0;34m[\u001b[0m\u001b[0;34m'renda_requerente'\u001b[0m\u001b[0;34m]\u001b[0m \u001b[0;34m+\u001b[0m \u001b[0mdados4\u001b[0m\u001b[0;34m[\u001b[0m\u001b[0;34m'renda_co-requerente'\u001b[0m\u001b[0;34m]\u001b[0m\u001b[0;34m\u001b[0m\u001b[0;34m\u001b[0m\u001b[0m\n\u001b[0m\u001b[1;32m      2\u001b[0m \u001b[0mdados4\u001b[0m\u001b[0;34m.\u001b[0m\u001b[0mhead\u001b[0m\u001b[0;34m(\u001b[0m\u001b[0;34m)\u001b[0m\u001b[0;34m\u001b[0m\u001b[0;34m\u001b[0m\u001b[0m\n",
      "\u001b[0;32m~/anaconda3/lib/python3.8/site-packages/pandas/core/frame.py\u001b[0m in \u001b[0;36m__getitem__\u001b[0;34m(self, key)\u001b[0m\n\u001b[1;32m   3022\u001b[0m             \u001b[0;32mif\u001b[0m \u001b[0mself\u001b[0m\u001b[0;34m.\u001b[0m\u001b[0mcolumns\u001b[0m\u001b[0;34m.\u001b[0m\u001b[0mnlevels\u001b[0m \u001b[0;34m>\u001b[0m \u001b[0;36m1\u001b[0m\u001b[0;34m:\u001b[0m\u001b[0;34m\u001b[0m\u001b[0;34m\u001b[0m\u001b[0m\n\u001b[1;32m   3023\u001b[0m                 \u001b[0;32mreturn\u001b[0m \u001b[0mself\u001b[0m\u001b[0;34m.\u001b[0m\u001b[0m_getitem_multilevel\u001b[0m\u001b[0;34m(\u001b[0m\u001b[0mkey\u001b[0m\u001b[0;34m)\u001b[0m\u001b[0;34m\u001b[0m\u001b[0;34m\u001b[0m\u001b[0m\n\u001b[0;32m-> 3024\u001b[0;31m             \u001b[0mindexer\u001b[0m \u001b[0;34m=\u001b[0m \u001b[0mself\u001b[0m\u001b[0;34m.\u001b[0m\u001b[0mcolumns\u001b[0m\u001b[0;34m.\u001b[0m\u001b[0mget_loc\u001b[0m\u001b[0;34m(\u001b[0m\u001b[0mkey\u001b[0m\u001b[0;34m)\u001b[0m\u001b[0;34m\u001b[0m\u001b[0;34m\u001b[0m\u001b[0m\n\u001b[0m\u001b[1;32m   3025\u001b[0m             \u001b[0;32mif\u001b[0m \u001b[0mis_integer\u001b[0m\u001b[0;34m(\u001b[0m\u001b[0mindexer\u001b[0m\u001b[0;34m)\u001b[0m\u001b[0;34m:\u001b[0m\u001b[0;34m\u001b[0m\u001b[0;34m\u001b[0m\u001b[0m\n\u001b[1;32m   3026\u001b[0m                 \u001b[0mindexer\u001b[0m \u001b[0;34m=\u001b[0m \u001b[0;34m[\u001b[0m\u001b[0mindexer\u001b[0m\u001b[0;34m]\u001b[0m\u001b[0;34m\u001b[0m\u001b[0;34m\u001b[0m\u001b[0m\n",
      "\u001b[0;32m~/anaconda3/lib/python3.8/site-packages/pandas/core/indexes/base.py\u001b[0m in \u001b[0;36mget_loc\u001b[0;34m(self, key, method, tolerance)\u001b[0m\n\u001b[1;32m   3080\u001b[0m                 \u001b[0;32mreturn\u001b[0m \u001b[0mself\u001b[0m\u001b[0;34m.\u001b[0m\u001b[0m_engine\u001b[0m\u001b[0;34m.\u001b[0m\u001b[0mget_loc\u001b[0m\u001b[0;34m(\u001b[0m\u001b[0mcasted_key\u001b[0m\u001b[0;34m)\u001b[0m\u001b[0;34m\u001b[0m\u001b[0;34m\u001b[0m\u001b[0m\n\u001b[1;32m   3081\u001b[0m             \u001b[0;32mexcept\u001b[0m \u001b[0mKeyError\u001b[0m \u001b[0;32mas\u001b[0m \u001b[0merr\u001b[0m\u001b[0;34m:\u001b[0m\u001b[0;34m\u001b[0m\u001b[0;34m\u001b[0m\u001b[0m\n\u001b[0;32m-> 3082\u001b[0;31m                 \u001b[0;32mraise\u001b[0m \u001b[0mKeyError\u001b[0m\u001b[0;34m(\u001b[0m\u001b[0mkey\u001b[0m\u001b[0;34m)\u001b[0m \u001b[0;32mfrom\u001b[0m \u001b[0merr\u001b[0m\u001b[0;34m\u001b[0m\u001b[0;34m\u001b[0m\u001b[0m\n\u001b[0m\u001b[1;32m   3083\u001b[0m \u001b[0;34m\u001b[0m\u001b[0m\n\u001b[1;32m   3084\u001b[0m         \u001b[0;32mif\u001b[0m \u001b[0mtolerance\u001b[0m \u001b[0;32mis\u001b[0m \u001b[0;32mnot\u001b[0m \u001b[0;32mNone\u001b[0m\u001b[0;34m:\u001b[0m\u001b[0;34m\u001b[0m\u001b[0;34m\u001b[0m\u001b[0m\n",
      "\u001b[0;31mKeyError\u001b[0m: 'renda_requerente'"
     ]
    }
   ],
   "source": [
    "dados4['renda_total'] = dados4['renda_requerente'] + dados4['renda_co-requerente']\n",
    "dados4.head()"
   ]
  },
  {
   "cell_type": "markdown",
   "id": "87a0b9c1",
   "metadata": {},
   "source": [
    "Com essa nova variável, podemos excluir as duas que derivaram ela."
   ]
  },
  {
   "cell_type": "code",
   "execution_count": 302,
   "id": "23c3b705",
   "metadata": {
    "ExecuteTime": {
     "end_time": "2021-10-28T01:45:00.748560Z",
     "start_time": "2021-10-28T01:45:00.729562Z"
    }
   },
   "outputs": [
    {
     "ename": "KeyError",
     "evalue": "\"['renda_requerente' 'renda_co-requerente'] not found in axis\"",
     "output_type": "error",
     "traceback": [
      "\u001b[0;31m---------------------------------------------------------------------------\u001b[0m",
      "\u001b[0;31mKeyError\u001b[0m                                  Traceback (most recent call last)",
      "\u001b[0;32m<ipython-input-302-d37fb801a7d2>\u001b[0m in \u001b[0;36m<module>\u001b[0;34m\u001b[0m\n\u001b[0;32m----> 1\u001b[0;31m \u001b[0mdados4\u001b[0m \u001b[0;34m=\u001b[0m \u001b[0mdados4\u001b[0m\u001b[0;34m.\u001b[0m\u001b[0mdrop\u001b[0m\u001b[0;34m(\u001b[0m\u001b[0;34m[\u001b[0m\u001b[0;34m'renda_requerente'\u001b[0m\u001b[0;34m,\u001b[0m \u001b[0;34m'renda_co-requerente'\u001b[0m\u001b[0;34m]\u001b[0m\u001b[0;34m,\u001b[0m \u001b[0maxis\u001b[0m\u001b[0;34m=\u001b[0m\u001b[0;36m1\u001b[0m\u001b[0;34m)\u001b[0m\u001b[0;34m\u001b[0m\u001b[0;34m\u001b[0m\u001b[0m\n\u001b[0m\u001b[1;32m      2\u001b[0m \u001b[0mdados4\u001b[0m\u001b[0;34m.\u001b[0m\u001b[0mhead\u001b[0m\u001b[0;34m(\u001b[0m\u001b[0;36m1\u001b[0m\u001b[0;34m)\u001b[0m\u001b[0;34m\u001b[0m\u001b[0;34m\u001b[0m\u001b[0m\n",
      "\u001b[0;32m~/anaconda3/lib/python3.8/site-packages/pandas/core/frame.py\u001b[0m in \u001b[0;36mdrop\u001b[0;34m(self, labels, axis, index, columns, level, inplace, errors)\u001b[0m\n\u001b[1;32m   4306\u001b[0m                 \u001b[0mweight\u001b[0m  \u001b[0;36m1.0\u001b[0m     \u001b[0;36m0.8\u001b[0m\u001b[0;34m\u001b[0m\u001b[0;34m\u001b[0m\u001b[0m\n\u001b[1;32m   4307\u001b[0m         \"\"\"\n\u001b[0;32m-> 4308\u001b[0;31m         return super().drop(\n\u001b[0m\u001b[1;32m   4309\u001b[0m             \u001b[0mlabels\u001b[0m\u001b[0;34m=\u001b[0m\u001b[0mlabels\u001b[0m\u001b[0;34m,\u001b[0m\u001b[0;34m\u001b[0m\u001b[0;34m\u001b[0m\u001b[0m\n\u001b[1;32m   4310\u001b[0m             \u001b[0maxis\u001b[0m\u001b[0;34m=\u001b[0m\u001b[0maxis\u001b[0m\u001b[0;34m,\u001b[0m\u001b[0;34m\u001b[0m\u001b[0;34m\u001b[0m\u001b[0m\n",
      "\u001b[0;32m~/anaconda3/lib/python3.8/site-packages/pandas/core/generic.py\u001b[0m in \u001b[0;36mdrop\u001b[0;34m(self, labels, axis, index, columns, level, inplace, errors)\u001b[0m\n\u001b[1;32m   4151\u001b[0m         \u001b[0;32mfor\u001b[0m \u001b[0maxis\u001b[0m\u001b[0;34m,\u001b[0m \u001b[0mlabels\u001b[0m \u001b[0;32min\u001b[0m \u001b[0maxes\u001b[0m\u001b[0;34m.\u001b[0m\u001b[0mitems\u001b[0m\u001b[0;34m(\u001b[0m\u001b[0;34m)\u001b[0m\u001b[0;34m:\u001b[0m\u001b[0;34m\u001b[0m\u001b[0;34m\u001b[0m\u001b[0m\n\u001b[1;32m   4152\u001b[0m             \u001b[0;32mif\u001b[0m \u001b[0mlabels\u001b[0m \u001b[0;32mis\u001b[0m \u001b[0;32mnot\u001b[0m \u001b[0;32mNone\u001b[0m\u001b[0;34m:\u001b[0m\u001b[0;34m\u001b[0m\u001b[0;34m\u001b[0m\u001b[0m\n\u001b[0;32m-> 4153\u001b[0;31m                 \u001b[0mobj\u001b[0m \u001b[0;34m=\u001b[0m \u001b[0mobj\u001b[0m\u001b[0;34m.\u001b[0m\u001b[0m_drop_axis\u001b[0m\u001b[0;34m(\u001b[0m\u001b[0mlabels\u001b[0m\u001b[0;34m,\u001b[0m \u001b[0maxis\u001b[0m\u001b[0;34m,\u001b[0m \u001b[0mlevel\u001b[0m\u001b[0;34m=\u001b[0m\u001b[0mlevel\u001b[0m\u001b[0;34m,\u001b[0m \u001b[0merrors\u001b[0m\u001b[0;34m=\u001b[0m\u001b[0merrors\u001b[0m\u001b[0;34m)\u001b[0m\u001b[0;34m\u001b[0m\u001b[0;34m\u001b[0m\u001b[0m\n\u001b[0m\u001b[1;32m   4154\u001b[0m \u001b[0;34m\u001b[0m\u001b[0m\n\u001b[1;32m   4155\u001b[0m         \u001b[0;32mif\u001b[0m \u001b[0minplace\u001b[0m\u001b[0;34m:\u001b[0m\u001b[0;34m\u001b[0m\u001b[0;34m\u001b[0m\u001b[0m\n",
      "\u001b[0;32m~/anaconda3/lib/python3.8/site-packages/pandas/core/generic.py\u001b[0m in \u001b[0;36m_drop_axis\u001b[0;34m(self, labels, axis, level, errors)\u001b[0m\n\u001b[1;32m   4186\u001b[0m                 \u001b[0mnew_axis\u001b[0m \u001b[0;34m=\u001b[0m \u001b[0maxis\u001b[0m\u001b[0;34m.\u001b[0m\u001b[0mdrop\u001b[0m\u001b[0;34m(\u001b[0m\u001b[0mlabels\u001b[0m\u001b[0;34m,\u001b[0m \u001b[0mlevel\u001b[0m\u001b[0;34m=\u001b[0m\u001b[0mlevel\u001b[0m\u001b[0;34m,\u001b[0m \u001b[0merrors\u001b[0m\u001b[0;34m=\u001b[0m\u001b[0merrors\u001b[0m\u001b[0;34m)\u001b[0m\u001b[0;34m\u001b[0m\u001b[0;34m\u001b[0m\u001b[0m\n\u001b[1;32m   4187\u001b[0m             \u001b[0;32melse\u001b[0m\u001b[0;34m:\u001b[0m\u001b[0;34m\u001b[0m\u001b[0;34m\u001b[0m\u001b[0m\n\u001b[0;32m-> 4188\u001b[0;31m                 \u001b[0mnew_axis\u001b[0m \u001b[0;34m=\u001b[0m \u001b[0maxis\u001b[0m\u001b[0;34m.\u001b[0m\u001b[0mdrop\u001b[0m\u001b[0;34m(\u001b[0m\u001b[0mlabels\u001b[0m\u001b[0;34m,\u001b[0m \u001b[0merrors\u001b[0m\u001b[0;34m=\u001b[0m\u001b[0merrors\u001b[0m\u001b[0;34m)\u001b[0m\u001b[0;34m\u001b[0m\u001b[0;34m\u001b[0m\u001b[0m\n\u001b[0m\u001b[1;32m   4189\u001b[0m             \u001b[0mresult\u001b[0m \u001b[0;34m=\u001b[0m \u001b[0mself\u001b[0m\u001b[0;34m.\u001b[0m\u001b[0mreindex\u001b[0m\u001b[0;34m(\u001b[0m\u001b[0;34m**\u001b[0m\u001b[0;34m{\u001b[0m\u001b[0maxis_name\u001b[0m\u001b[0;34m:\u001b[0m \u001b[0mnew_axis\u001b[0m\u001b[0;34m}\u001b[0m\u001b[0;34m)\u001b[0m\u001b[0;34m\u001b[0m\u001b[0;34m\u001b[0m\u001b[0m\n\u001b[1;32m   4190\u001b[0m \u001b[0;34m\u001b[0m\u001b[0m\n",
      "\u001b[0;32m~/anaconda3/lib/python3.8/site-packages/pandas/core/indexes/base.py\u001b[0m in \u001b[0;36mdrop\u001b[0;34m(self, labels, errors)\u001b[0m\n\u001b[1;32m   5589\u001b[0m         \u001b[0;32mif\u001b[0m \u001b[0mmask\u001b[0m\u001b[0;34m.\u001b[0m\u001b[0many\u001b[0m\u001b[0;34m(\u001b[0m\u001b[0;34m)\u001b[0m\u001b[0;34m:\u001b[0m\u001b[0;34m\u001b[0m\u001b[0;34m\u001b[0m\u001b[0m\n\u001b[1;32m   5590\u001b[0m             \u001b[0;32mif\u001b[0m \u001b[0merrors\u001b[0m \u001b[0;34m!=\u001b[0m \u001b[0;34m\"ignore\"\u001b[0m\u001b[0;34m:\u001b[0m\u001b[0;34m\u001b[0m\u001b[0;34m\u001b[0m\u001b[0m\n\u001b[0;32m-> 5591\u001b[0;31m                 \u001b[0;32mraise\u001b[0m \u001b[0mKeyError\u001b[0m\u001b[0;34m(\u001b[0m\u001b[0;34mf\"{labels[mask]} not found in axis\"\u001b[0m\u001b[0;34m)\u001b[0m\u001b[0;34m\u001b[0m\u001b[0;34m\u001b[0m\u001b[0m\n\u001b[0m\u001b[1;32m   5592\u001b[0m             \u001b[0mindexer\u001b[0m \u001b[0;34m=\u001b[0m \u001b[0mindexer\u001b[0m\u001b[0;34m[\u001b[0m\u001b[0;34m~\u001b[0m\u001b[0mmask\u001b[0m\u001b[0;34m]\u001b[0m\u001b[0;34m\u001b[0m\u001b[0;34m\u001b[0m\u001b[0m\n\u001b[1;32m   5593\u001b[0m         \u001b[0;32mreturn\u001b[0m \u001b[0mself\u001b[0m\u001b[0;34m.\u001b[0m\u001b[0mdelete\u001b[0m\u001b[0;34m(\u001b[0m\u001b[0mindexer\u001b[0m\u001b[0;34m)\u001b[0m\u001b[0;34m\u001b[0m\u001b[0;34m\u001b[0m\u001b[0m\n",
      "\u001b[0;31mKeyError\u001b[0m: \"['renda_requerente' 'renda_co-requerente'] not found in axis\""
     ]
    }
   ],
   "source": [
    "dados4 = dados4.drop(['renda_requerente', 'renda_co-requerente'], axis=1)\n",
    "dados4.head(1)"
   ]
  },
  {
   "cell_type": "markdown",
   "id": "46906335",
   "metadata": {},
   "source": [
    "## Padronização dos dados"
   ]
  },
  {
   "cell_type": "code",
   "execution_count": 303,
   "id": "4c828133",
   "metadata": {
    "ExecuteTime": {
     "end_time": "2021-10-28T01:45:02.091496Z",
     "start_time": "2021-10-28T01:45:02.075402Z"
    }
   },
   "outputs": [
    {
     "data": {
      "text/html": [
       "<div>\n",
       "<style scoped>\n",
       "    .dataframe tbody tr th:only-of-type {\n",
       "        vertical-align: middle;\n",
       "    }\n",
       "\n",
       "    .dataframe tbody tr th {\n",
       "        vertical-align: top;\n",
       "    }\n",
       "\n",
       "    .dataframe thead th {\n",
       "        text-align: right;\n",
       "    }\n",
       "</style>\n",
       "<table border=\"1\" class=\"dataframe\">\n",
       "  <thead>\n",
       "    <tr style=\"text-align: right;\">\n",
       "      <th></th>\n",
       "      <th>id_emprestimo</th>\n",
       "      <th>genero</th>\n",
       "      <th>casado</th>\n",
       "      <th>dependentes</th>\n",
       "      <th>educacao</th>\n",
       "      <th>autonomo</th>\n",
       "      <th>valor_emprestimo</th>\n",
       "      <th>prazo_emprestimo</th>\n",
       "      <th>historico_credito</th>\n",
       "      <th>tipo_propriedade</th>\n",
       "      <th>status_emprestimo</th>\n",
       "      <th>renda_total</th>\n",
       "    </tr>\n",
       "  </thead>\n",
       "  <tbody>\n",
       "    <tr>\n",
       "      <th>0</th>\n",
       "      <td>LP001002</td>\n",
       "      <td>1</td>\n",
       "      <td>0</td>\n",
       "      <td>0</td>\n",
       "      <td>1</td>\n",
       "      <td>0</td>\n",
       "      <td>146.41</td>\n",
       "      <td>360.0</td>\n",
       "      <td>1</td>\n",
       "      <td>2</td>\n",
       "      <td>1</td>\n",
       "      <td>5849.0</td>\n",
       "    </tr>\n",
       "  </tbody>\n",
       "</table>\n",
       "</div>"
      ],
      "text/plain": [
       "  id_emprestimo  genero  casado  dependentes  educacao  autonomo  valor_emprestimo  prazo_emprestimo  historico_credito  tipo_propriedade  status_emprestimo  renda_total\n",
       "0      LP001002       1       0            0         1         0            146.41             360.0                  1                 2                  1       5849.0"
      ]
     },
     "execution_count": 303,
     "metadata": {},
     "output_type": "execute_result"
    }
   ],
   "source": [
    "dados_padronizados = dados4.copy()\n",
    "dados_padronizados.head(1)"
   ]
  },
  {
   "cell_type": "code",
   "execution_count": 304,
   "id": "5ae4b817",
   "metadata": {
    "ExecuteTime": {
     "end_time": "2021-10-28T01:45:02.904230Z",
     "start_time": "2021-10-28T01:45:02.881503Z"
    }
   },
   "outputs": [
    {
     "data": {
      "text/html": [
       "<div>\n",
       "<style scoped>\n",
       "    .dataframe tbody tr th:only-of-type {\n",
       "        vertical-align: middle;\n",
       "    }\n",
       "\n",
       "    .dataframe tbody tr th {\n",
       "        vertical-align: top;\n",
       "    }\n",
       "\n",
       "    .dataframe thead th {\n",
       "        text-align: right;\n",
       "    }\n",
       "</style>\n",
       "<table border=\"1\" class=\"dataframe\">\n",
       "  <thead>\n",
       "    <tr style=\"text-align: right;\">\n",
       "      <th></th>\n",
       "      <th>id_emprestimo</th>\n",
       "      <th>genero</th>\n",
       "      <th>casado</th>\n",
       "      <th>dependentes</th>\n",
       "      <th>educacao</th>\n",
       "      <th>autonomo</th>\n",
       "      <th>valor_emprestimo</th>\n",
       "      <th>prazo_emprestimo</th>\n",
       "      <th>historico_credito</th>\n",
       "      <th>tipo_propriedade</th>\n",
       "      <th>status_emprestimo</th>\n",
       "      <th>renda_total</th>\n",
       "    </tr>\n",
       "  </thead>\n",
       "  <tbody>\n",
       "    <tr>\n",
       "      <th>0</th>\n",
       "      <td>LP001002</td>\n",
       "      <td>1</td>\n",
       "      <td>0</td>\n",
       "      <td>0</td>\n",
       "      <td>1</td>\n",
       "      <td>0</td>\n",
       "      <td>0.214368</td>\n",
       "      <td>0.74359</td>\n",
       "      <td>1</td>\n",
       "      <td>2</td>\n",
       "      <td>1</td>\n",
       "      <td>0.055394</td>\n",
       "    </tr>\n",
       "    <tr>\n",
       "      <th>1</th>\n",
       "      <td>LP001003</td>\n",
       "      <td>1</td>\n",
       "      <td>1</td>\n",
       "      <td>1</td>\n",
       "      <td>1</td>\n",
       "      <td>0</td>\n",
       "      <td>0.185647</td>\n",
       "      <td>0.74359</td>\n",
       "      <td>1</td>\n",
       "      <td>0</td>\n",
       "      <td>0</td>\n",
       "      <td>0.058435</td>\n",
       "    </tr>\n",
       "    <tr>\n",
       "      <th>2</th>\n",
       "      <td>LP001005</td>\n",
       "      <td>1</td>\n",
       "      <td>1</td>\n",
       "      <td>0</td>\n",
       "      <td>1</td>\n",
       "      <td>1</td>\n",
       "      <td>0.088924</td>\n",
       "      <td>0.74359</td>\n",
       "      <td>1</td>\n",
       "      <td>2</td>\n",
       "      <td>1</td>\n",
       "      <td>0.019583</td>\n",
       "    </tr>\n",
       "    <tr>\n",
       "      <th>3</th>\n",
       "      <td>LP001006</td>\n",
       "      <td>1</td>\n",
       "      <td>1</td>\n",
       "      <td>0</td>\n",
       "      <td>0</td>\n",
       "      <td>0</td>\n",
       "      <td>0.173167</td>\n",
       "      <td>0.74359</td>\n",
       "      <td>1</td>\n",
       "      <td>2</td>\n",
       "      <td>1</td>\n",
       "      <td>0.043980</td>\n",
       "    </tr>\n",
       "    <tr>\n",
       "      <th>4</th>\n",
       "      <td>LP001008</td>\n",
       "      <td>1</td>\n",
       "      <td>0</td>\n",
       "      <td>0</td>\n",
       "      <td>1</td>\n",
       "      <td>0</td>\n",
       "      <td>0.205928</td>\n",
       "      <td>0.74359</td>\n",
       "      <td>1</td>\n",
       "      <td>2</td>\n",
       "      <td>1</td>\n",
       "      <td>0.057292</td>\n",
       "    </tr>\n",
       "  </tbody>\n",
       "</table>\n",
       "</div>"
      ],
      "text/plain": [
       "  id_emprestimo  genero  casado  dependentes  educacao  autonomo  valor_emprestimo  prazo_emprestimo  historico_credito  tipo_propriedade  status_emprestimo  renda_total\n",
       "0      LP001002       1       0            0         1         0          0.214368           0.74359                  1                 2                  1     0.055394\n",
       "1      LP001003       1       1            1         1         0          0.185647           0.74359                  1                 0                  0     0.058435\n",
       "2      LP001005       1       1            0         1         1          0.088924           0.74359                  1                 2                  1     0.019583\n",
       "3      LP001006       1       1            0         0         0          0.173167           0.74359                  1                 2                  1     0.043980\n",
       "4      LP001008       1       0            0         1         0          0.205928           0.74359                  1                 2                  1     0.057292"
      ]
     },
     "execution_count": 304,
     "metadata": {},
     "output_type": "execute_result"
    }
   ],
   "source": [
    "dados_padronizados['valor_emprestimo']=(dados_padronizados['valor_emprestimo']-dados_padronizados['valor_emprestimo'].min())/(dados_padronizados['valor_emprestimo'].max()-dados_padronizados['valor_emprestimo'].min())\n",
    "dados_padronizados['prazo_emprestimo']=(dados_padronizados['prazo_emprestimo']-dados_padronizados['prazo_emprestimo'].min())/(dados_padronizados['prazo_emprestimo'].max()-dados_padronizados['prazo_emprestimo'].min())\n",
    "dados_padronizados['renda_total']=(dados_padronizados['renda_total']-dados_padronizados['renda_total'].min())/(dados_padronizados['renda_total'].max()-dados_padronizados['renda_total'].min())\n",
    "dados_padronizados.head()"
   ]
  },
  {
   "cell_type": "markdown",
   "id": "03932b5b",
   "metadata": {},
   "source": [
    "Como os dados padronizados faremos de novo a predição com `statsmodels`"
   ]
  },
  {
   "cell_type": "code",
   "execution_count": 305,
   "id": "5749cfb1",
   "metadata": {
    "ExecuteTime": {
     "end_time": "2021-10-28T01:45:05.281154Z",
     "start_time": "2021-10-28T01:45:05.275445Z"
    }
   },
   "outputs": [],
   "source": [
    "x = dados_padronizados.drop(['id_emprestimo', 'status_emprestimo'], axis=1)\n",
    "y = dados_padronizados['status_emprestimo']"
   ]
  },
  {
   "cell_type": "code",
   "execution_count": 306,
   "id": "f5ade6fe",
   "metadata": {
    "ExecuteTime": {
     "end_time": "2021-10-28T01:45:06.040299Z",
     "start_time": "2021-10-28T01:45:06.033123Z"
    }
   },
   "outputs": [],
   "source": [
    "x_treino, x_teste, y_treino, y_teste = train_test_split(x, y, test_size=0.2, random_state=42)"
   ]
  },
  {
   "cell_type": "code",
   "execution_count": 307,
   "id": "5e2f1a04",
   "metadata": {
    "ExecuteTime": {
     "end_time": "2021-10-28T01:45:06.722686Z",
     "start_time": "2021-10-28T01:45:06.681206Z"
    }
   },
   "outputs": [
    {
     "name": "stdout",
     "output_type": "stream",
     "text": [
      "Optimization terminated successfully.\n",
      "         Current function value: 0.470254\n",
      "         Iterations 6\n"
     ]
    },
    {
     "data": {
      "text/html": [
       "<table class=\"simpletable\">\n",
       "<caption>Logit Regression Results</caption>\n",
       "<tr>\n",
       "  <th>Dep. Variable:</th>   <td>status_emprestimo</td> <th>  No. Observations:  </th>  <td>   478</td>  \n",
       "</tr>\n",
       "<tr>\n",
       "  <th>Model:</th>                 <td>Logit</td>       <th>  Df Residuals:      </th>  <td>   467</td>  \n",
       "</tr>\n",
       "<tr>\n",
       "  <th>Method:</th>                 <td>MLE</td>        <th>  Df Model:          </th>  <td>    10</td>  \n",
       "</tr>\n",
       "<tr>\n",
       "  <th>Date:</th>            <td>Wed, 27 Oct 2021</td>  <th>  Pseudo R-squ.:     </th>  <td>0.2480</td>  \n",
       "</tr>\n",
       "<tr>\n",
       "  <th>Time:</th>                <td>22:45:06</td>      <th>  Log-Likelihood:    </th> <td> -224.78</td> \n",
       "</tr>\n",
       "<tr>\n",
       "  <th>converged:</th>             <td>True</td>        <th>  LL-Null:           </th> <td> -298.92</td> \n",
       "</tr>\n",
       "<tr>\n",
       "  <th>Covariance Type:</th>     <td>nonrobust</td>     <th>  LLR p-value:       </th> <td>8.463e-27</td>\n",
       "</tr>\n",
       "</table>\n",
       "<table class=\"simpletable\">\n",
       "<tr>\n",
       "          <td></td>             <th>coef</th>     <th>std err</th>      <th>z</th>      <th>P>|z|</th>  <th>[0.025</th>    <th>0.975]</th>  \n",
       "</tr>\n",
       "<tr>\n",
       "  <th>const</th>             <td>   -2.2406</td> <td>    0.893</td> <td>   -2.510</td> <td> 0.012</td> <td>   -3.990</td> <td>   -0.491</td>\n",
       "</tr>\n",
       "<tr>\n",
       "  <th>genero</th>            <td>   -0.1344</td> <td>    0.322</td> <td>   -0.418</td> <td> 0.676</td> <td>   -0.765</td> <td>    0.496</td>\n",
       "</tr>\n",
       "<tr>\n",
       "  <th>casado</th>            <td>    0.4394</td> <td>    0.272</td> <td>    1.613</td> <td> 0.107</td> <td>   -0.095</td> <td>    0.973</td>\n",
       "</tr>\n",
       "<tr>\n",
       "  <th>dependentes</th>       <td>    0.0097</td> <td>    0.131</td> <td>    0.074</td> <td> 0.941</td> <td>   -0.248</td> <td>    0.267</td>\n",
       "</tr>\n",
       "<tr>\n",
       "  <th>educacao</th>          <td>    0.4753</td> <td>    0.285</td> <td>    1.670</td> <td> 0.095</td> <td>   -0.082</td> <td>    1.033</td>\n",
       "</tr>\n",
       "<tr>\n",
       "  <th>autonomo</th>          <td>    0.0262</td> <td>    0.365</td> <td>    0.072</td> <td> 0.943</td> <td>   -0.688</td> <td>    0.741</td>\n",
       "</tr>\n",
       "<tr>\n",
       "  <th>valor_emprestimo</th>  <td>   -1.0185</td> <td>    1.140</td> <td>   -0.893</td> <td> 0.372</td> <td>   -3.253</td> <td>    1.216</td>\n",
       "</tr>\n",
       "<tr>\n",
       "  <th>prazo_emprestimo</th>  <td>   -0.9429</td> <td>    0.978</td> <td>   -0.964</td> <td> 0.335</td> <td>   -2.859</td> <td>    0.973</td>\n",
       "</tr>\n",
       "<tr>\n",
       "  <th>historico_credito</th> <td>    3.7848</td> <td>    0.452</td> <td>    8.380</td> <td> 0.000</td> <td>    2.900</td> <td>    4.670</td>\n",
       "</tr>\n",
       "<tr>\n",
       "  <th>tipo_propriedade</th>  <td>    0.2619</td> <td>    0.154</td> <td>    1.701</td> <td> 0.089</td> <td>   -0.040</td> <td>    0.564</td>\n",
       "</tr>\n",
       "<tr>\n",
       "  <th>renda_total</th>       <td>   -1.9702</td> <td>    2.186</td> <td>   -0.901</td> <td> 0.367</td> <td>   -6.254</td> <td>    2.314</td>\n",
       "</tr>\n",
       "</table>"
      ],
      "text/plain": [
       "<class 'statsmodels.iolib.summary.Summary'>\n",
       "\"\"\"\n",
       "                           Logit Regression Results                           \n",
       "==============================================================================\n",
       "Dep. Variable:      status_emprestimo   No. Observations:                  478\n",
       "Model:                          Logit   Df Residuals:                      467\n",
       "Method:                           MLE   Df Model:                           10\n",
       "Date:                Wed, 27 Oct 2021   Pseudo R-squ.:                  0.2480\n",
       "Time:                        22:45:06   Log-Likelihood:                -224.78\n",
       "converged:                       True   LL-Null:                       -298.92\n",
       "Covariance Type:            nonrobust   LLR p-value:                 8.463e-27\n",
       "=====================================================================================\n",
       "                        coef    std err          z      P>|z|      [0.025      0.975]\n",
       "-------------------------------------------------------------------------------------\n",
       "const                -2.2406      0.893     -2.510      0.012      -3.990      -0.491\n",
       "genero               -0.1344      0.322     -0.418      0.676      -0.765       0.496\n",
       "casado                0.4394      0.272      1.613      0.107      -0.095       0.973\n",
       "dependentes           0.0097      0.131      0.074      0.941      -0.248       0.267\n",
       "educacao              0.4753      0.285      1.670      0.095      -0.082       1.033\n",
       "autonomo              0.0262      0.365      0.072      0.943      -0.688       0.741\n",
       "valor_emprestimo     -1.0185      1.140     -0.893      0.372      -3.253       1.216\n",
       "prazo_emprestimo     -0.9429      0.978     -0.964      0.335      -2.859       0.973\n",
       "historico_credito     3.7848      0.452      8.380      0.000       2.900       4.670\n",
       "tipo_propriedade      0.2619      0.154      1.701      0.089      -0.040       0.564\n",
       "renda_total          -1.9702      2.186     -0.901      0.367      -6.254       2.314\n",
       "=====================================================================================\n",
       "\"\"\""
      ]
     },
     "execution_count": 307,
     "metadata": {},
     "output_type": "execute_result"
    }
   ],
   "source": [
    "# adicionando a constante\n",
    "x_treino_constante = sm.add_constant(x_treino)\n",
    "\n",
    "# trainando o modelo OLS\n",
    "modelo_statsmodels = sm.Logit(y_treino, x_treino_constante).fit()\n",
    "\n",
    "modelo_statsmodels.summary()"
   ]
  },
  {
   "cell_type": "code",
   "execution_count": 308,
   "id": "1e193825",
   "metadata": {
    "ExecuteTime": {
     "end_time": "2021-10-28T01:45:07.346506Z",
     "start_time": "2021-10-28T01:45:07.327140Z"
    }
   },
   "outputs": [
    {
     "name": "stdout",
     "output_type": "stream",
     "text": [
      "A acurácia do modelo é de 80.75 %\n"
     ]
    },
    {
     "data": {
      "text/html": [
       "<div>\n",
       "<style scoped>\n",
       "    .dataframe tbody tr th:only-of-type {\n",
       "        vertical-align: middle;\n",
       "    }\n",
       "\n",
       "    .dataframe tbody tr th {\n",
       "        vertical-align: top;\n",
       "    }\n",
       "\n",
       "    .dataframe thead th {\n",
       "        text-align: right;\n",
       "    }\n",
       "</style>\n",
       "<table border=\"1\" class=\"dataframe\">\n",
       "  <thead>\n",
       "    <tr style=\"text-align: right;\">\n",
       "      <th></th>\n",
       "      <th>Predição de empréstimo negado</th>\n",
       "      <th>Predição de empréstimo aprovado</th>\n",
       "    </tr>\n",
       "  </thead>\n",
       "  <tbody>\n",
       "    <tr>\n",
       "      <th>Empréstimo negado real</th>\n",
       "      <td>66.0</td>\n",
       "      <td>86.0</td>\n",
       "    </tr>\n",
       "    <tr>\n",
       "      <th>Empréstimo aprovado real</th>\n",
       "      <td>6.0</td>\n",
       "      <td>320.0</td>\n",
       "    </tr>\n",
       "  </tbody>\n",
       "</table>\n",
       "</div>"
      ],
      "text/plain": [
       "                          Predição de empréstimo negado  Predição de empréstimo aprovado\n",
       "Empréstimo negado real                             66.0                             86.0\n",
       "Empréstimo aprovado real                            6.0                            320.0"
      ]
     },
     "execution_count": 308,
     "metadata": {},
     "output_type": "execute_result"
    }
   ],
   "source": [
    "confusion_matrix_manual(x_treino_constante, y_treino, modelo_statsmodels)"
   ]
  },
  {
   "cell_type": "markdown",
   "id": "d2e5749f",
   "metadata": {},
   "source": [
    "O modelo continua dandos o mesmos valores. Vamos partir para o `sklearn`"
   ]
  },
  {
   "cell_type": "markdown",
   "id": "ce90b832",
   "metadata": {},
   "source": [
    "## Estimando o modelo de regressão logística "
   ]
  },
  {
   "cell_type": "code",
   "execution_count": 266,
   "id": "981d8441",
   "metadata": {
    "ExecuteTime": {
     "end_time": "2021-10-28T01:25:24.427528Z",
     "start_time": "2021-10-28T01:25:24.408608Z"
    }
   },
   "outputs": [],
   "source": [
    "# criando o modelo\n",
    "reg_log = LogisticRegression()\n",
    "\n",
    "# treinando o modelo\n",
    "reg_log.fit(x_treino, y_treino)\n",
    "\n",
    "# fazendo a predição\n",
    "y_pred = reg_log.predict(x_teste)"
   ]
  },
  {
   "cell_type": "markdown",
   "id": "15353098",
   "metadata": {},
   "source": [
    "Vamos ver a acurácia do modelo. Acurácia é a quantidade de acertos do nosso modelo divido pelo total da amostra. Ela nos dá a capacidade de saber o qual certo está nosso modelo."
   ]
  },
  {
   "cell_type": "code",
   "execution_count": 296,
   "id": "527e498f",
   "metadata": {
    "ExecuteTime": {
     "end_time": "2021-10-28T01:40:39.526376Z",
     "start_time": "2021-10-28T01:40:39.517122Z"
    }
   },
   "outputs": [
    {
     "name": "stdout",
     "output_type": "stream",
     "text": [
      "Acurácia do treino: 81.67%\n"
     ]
    }
   ],
   "source": [
    "print(f'Acurácia do treino: {reg_log.score(x_teste, y_teste) * 100:.2f}%')"
   ]
  },
  {
   "cell_type": "markdown",
   "id": "7490f4c2",
   "metadata": {},
   "source": [
    "Nosso modelo tem uma acurácia de 81,67%, que é maior que a acurácia do modelo do `statsmodels`"
   ]
  },
  {
   "cell_type": "code",
   "execution_count": 274,
   "id": "87ac649b",
   "metadata": {
    "ExecuteTime": {
     "end_time": "2021-10-28T01:31:09.558921Z",
     "start_time": "2021-10-28T01:31:09.546192Z"
    }
   },
   "outputs": [
    {
     "name": "stdout",
     "output_type": "stream",
     "text": [
      "              precision    recall  f1-score   support\n",
      "\n",
      "           0       0.93      0.40      0.56        35\n",
      "           1       0.80      0.99      0.88        85\n",
      "\n",
      "    accuracy                           0.82       120\n",
      "   macro avg       0.87      0.69      0.72       120\n",
      "weighted avg       0.84      0.82      0.79       120\n",
      "\n"
     ]
    }
   ],
   "source": [
    "print(classification_report(y_teste, y_pred))"
   ]
  },
  {
   "cell_type": "markdown",
   "id": "463a67a4",
   "metadata": {},
   "source": [
    "Falando sobre as métricas acima\n",
    "\n",
    "* **Precisão**: Mostra quantos acertos o algoritmo teve para o esperado considerando o valor total real. por exemplo nosso algoritmo previu 100 valores como verdadeiro positivo (em nosso caso quando o  modelo diz que tem que dar o empréstimo e na vida real deu o empréstimo) e 25 como falso positivo (quando o modelo diz que deve dar o empréstimo quando na vida real não se deu o emprestimo). Logo a fórmula fica\n",
    "\n",
    "$$ \\textbf{precisão} = \\frac{\\textbf{verdadeiro positivo}}{\\textbf{falso positivo + verdadeiro positivo}}$$\n",
    "\n",
    "* **recall**: Mostra a proporção de verdadeiros positivos entre todas as observações que realmente são positivas. Por exemplo nosso algoritmo previu 100 valores como verdadeiro positivo e 25 como falso negativo (quando o modelo diz que não deve dar o empréstimo quando na vida real deu o emprestimo). Logo a fórmula fica\n",
    "\n",
    "$$ \\textbf{recall} = \\frac{\\textbf{verdadeiro positivo}}{\\textbf{falso negativo + verdadeiro positivo}}$$\n",
    "\n",
    "* **F1-score**: Uma combinação entre precisão e recall.Serve para ver se o recall ou a precisão estão muito baixos\n",
    "\n",
    "$$ \\textbf{F1} = 2 \\cdot \\frac{\\textbf{precisão} \\cdot \\textbf{recall}}{\\textbf{precisão + recall}}$$\n"
   ]
  },
  {
   "cell_type": "code",
   "execution_count": 280,
   "id": "4bf6faa8",
   "metadata": {
    "ExecuteTime": {
     "end_time": "2021-10-28T01:33:42.523491Z",
     "start_time": "2021-10-28T01:33:42.515740Z"
    }
   },
   "outputs": [
    {
     "data": {
      "text/plain": [
       "array([[14, 21],\n",
       "       [ 1, 84]])"
      ]
     },
     "execution_count": 280,
     "metadata": {},
     "output_type": "execute_result"
    }
   ],
   "source": [
    "confusion_matrix(y_teste, y_pred)"
   ]
  },
  {
   "cell_type": "markdown",
   "id": "7e27b4eb",
   "metadata": {},
   "source": [
    "Usaremos agora `Cross validation`. `Cross validation` é um método que tem o objetivo de treinar o modelo com todos os dados e validar ele com todos os dados também, de forma que o conjunto treino com diversos pedaços do conjunto de dados, dando a melhor acurácia possível."
   ]
  },
  {
   "cell_type": "code",
   "execution_count": 309,
   "id": "eee9ce8e",
   "metadata": {
    "ExecuteTime": {
     "end_time": "2021-10-28T02:07:20.912411Z",
     "start_time": "2021-10-28T02:07:16.370758Z"
    }
   },
   "outputs": [
    {
     "name": "stdout",
     "output_type": "stream",
     "text": [
      "A acurácia com Cross validation é 85.25%\n"
     ]
    }
   ],
   "source": [
    "score = cross_val_score(reg_log, x, y, cv=400)\n",
    "print(f'A acurácia com Cross validation é {(np.mean(score)) * 100}%')"
   ]
  },
  {
   "cell_type": "markdown",
   "id": "d2dc92bd",
   "metadata": {},
   "source": [
    "# Validando o algoritmo"
   ]
  },
  {
   "cell_type": "markdown",
   "id": "16219b15",
   "metadata": {},
   "source": [
    "Com os dados disponibilizados pelo CEO da empresa, vamos validar o modelo, vendo como ele fará a previsão."
   ]
  },
  {
   "cell_type": "code",
   "execution_count": 340,
   "id": "465b1554",
   "metadata": {
    "ExecuteTime": {
     "end_time": "2021-10-28T02:23:43.152934Z",
     "start_time": "2021-10-28T02:23:43.138473Z"
    }
   },
   "outputs": [],
   "source": [
    "dados_validacao['renda_total'] = dados_validacao['renda_requerente'] + dados_validacao['renda_co-requerente']\n",
    "dados_validacao = dados_validacao.drop(['renda_requerente', 'renda_co-requerente'], axis=1)\n",
    "\n",
    "dados_validacao['valor_emprestimo']=(dados_validacao['valor_emprestimo']-dados_validacao['valor_emprestimo'].min())/(dados_validacao['valor_emprestimo'].max()-dados_validacao['valor_emprestimo'].min())\n",
    "dados_validacao['prazo_emprestimo']=(dados_validacao['prazo_emprestimo']-dados_validacao['prazo_emprestimo'].min())/(dados_validacao['prazo_emprestimo'].max()-dados_validacao['prazo_emprestimo'].min())\n",
    "dados_validacao['renda_total']=(dados_validacao['renda_total']-dados_validacao['renda_total'].min())/(dados_validacao['renda_total'].max()-dados_validacao['renda_total'].min())\n",
    "\n",
    "x = dados_validacao"
   ]
  },
  {
   "cell_type": "code",
   "execution_count": 341,
   "id": "9fe6d387",
   "metadata": {
    "ExecuteTime": {
     "end_time": "2021-10-28T02:23:44.029609Z",
     "start_time": "2021-10-28T02:23:44.020933Z"
    }
   },
   "outputs": [],
   "source": [
    "predicao = reg_log.predict(x)\n",
    "dados_validacao['predicao'] = predicao"
   ]
  },
  {
   "cell_type": "code",
   "execution_count": 343,
   "id": "acaf1a88",
   "metadata": {
    "ExecuteTime": {
     "end_time": "2021-10-28T02:23:57.792564Z",
     "start_time": "2021-10-28T02:23:57.766155Z"
    }
   },
   "outputs": [
    {
     "data": {
      "text/html": [
       "<div>\n",
       "<style scoped>\n",
       "    .dataframe tbody tr th:only-of-type {\n",
       "        vertical-align: middle;\n",
       "    }\n",
       "\n",
       "    .dataframe tbody tr th {\n",
       "        vertical-align: top;\n",
       "    }\n",
       "\n",
       "    .dataframe thead th {\n",
       "        text-align: right;\n",
       "    }\n",
       "</style>\n",
       "<table border=\"1\" class=\"dataframe\">\n",
       "  <thead>\n",
       "    <tr style=\"text-align: right;\">\n",
       "      <th></th>\n",
       "      <th>genero</th>\n",
       "      <th>casado</th>\n",
       "      <th>dependentes</th>\n",
       "      <th>educacao</th>\n",
       "      <th>autonomo</th>\n",
       "      <th>valor_emprestimo</th>\n",
       "      <th>prazo_emprestimo</th>\n",
       "      <th>historico_credito</th>\n",
       "      <th>tipo_propriedade</th>\n",
       "      <th>renda_total</th>\n",
       "      <th>predicao</th>\n",
       "    </tr>\n",
       "  </thead>\n",
       "  <tbody>\n",
       "    <tr>\n",
       "      <th>0</th>\n",
       "      <td>1.0</td>\n",
       "      <td>1</td>\n",
       "      <td>0.0</td>\n",
       "      <td>1</td>\n",
       "      <td>0.0</td>\n",
       "      <td>0.189815</td>\n",
       "      <td>0.746835</td>\n",
       "      <td>1.0</td>\n",
       "      <td>2</td>\n",
       "      <td>0.055957</td>\n",
       "      <td>1</td>\n",
       "    </tr>\n",
       "    <tr>\n",
       "      <th>1</th>\n",
       "      <td>1.0</td>\n",
       "      <td>1</td>\n",
       "      <td>1.0</td>\n",
       "      <td>1</td>\n",
       "      <td>0.0</td>\n",
       "      <td>0.226852</td>\n",
       "      <td>0.746835</td>\n",
       "      <td>1.0</td>\n",
       "      <td>2</td>\n",
       "      <td>0.039791</td>\n",
       "      <td>1</td>\n",
       "    </tr>\n",
       "    <tr>\n",
       "      <th>2</th>\n",
       "      <td>1.0</td>\n",
       "      <td>1</td>\n",
       "      <td>2.0</td>\n",
       "      <td>1</td>\n",
       "      <td>0.0</td>\n",
       "      <td>0.416667</td>\n",
       "      <td>0.746835</td>\n",
       "      <td>1.0</td>\n",
       "      <td>2</td>\n",
       "      <td>0.071218</td>\n",
       "      <td>1</td>\n",
       "    </tr>\n",
       "    <tr>\n",
       "      <th>4</th>\n",
       "      <td>1.0</td>\n",
       "      <td>0</td>\n",
       "      <td>0.0</td>\n",
       "      <td>0</td>\n",
       "      <td>0.0</td>\n",
       "      <td>0.115741</td>\n",
       "      <td>0.746835</td>\n",
       "      <td>1.0</td>\n",
       "      <td>2</td>\n",
       "      <td>0.021422</td>\n",
       "      <td>1</td>\n",
       "    </tr>\n",
       "    <tr>\n",
       "      <th>5</th>\n",
       "      <td>1.0</td>\n",
       "      <td>1</td>\n",
       "      <td>0.0</td>\n",
       "      <td>0</td>\n",
       "      <td>1.0</td>\n",
       "      <td>0.287037</td>\n",
       "      <td>0.746835</td>\n",
       "      <td>1.0</td>\n",
       "      <td>2</td>\n",
       "      <td>0.054077</td>\n",
       "      <td>1</td>\n",
       "    </tr>\n",
       "    <tr>\n",
       "      <th>6</th>\n",
       "      <td>0.0</td>\n",
       "      <td>0</td>\n",
       "      <td>1.0</td>\n",
       "      <td>0</td>\n",
       "      <td>0.0</td>\n",
       "      <td>0.071759</td>\n",
       "      <td>0.746835</td>\n",
       "      <td>1.0</td>\n",
       "      <td>1</td>\n",
       "      <td>0.006585</td>\n",
       "      <td>1</td>\n",
       "    </tr>\n",
       "    <tr>\n",
       "      <th>7</th>\n",
       "      <td>1.0</td>\n",
       "      <td>1</td>\n",
       "      <td>2.0</td>\n",
       "      <td>0</td>\n",
       "      <td>0.0</td>\n",
       "      <td>0.275463</td>\n",
       "      <td>0.746835</td>\n",
       "      <td>0.0</td>\n",
       "      <td>0</td>\n",
       "      <td>0.029971</td>\n",
       "      <td>0</td>\n",
       "    </tr>\n",
       "    <tr>\n",
       "      <th>9</th>\n",
       "      <td>1.0</td>\n",
       "      <td>0</td>\n",
       "      <td>0.0</td>\n",
       "      <td>0</td>\n",
       "      <td>0.0</td>\n",
       "      <td>0.219907</td>\n",
       "      <td>0.746835</td>\n",
       "      <td>1.0</td>\n",
       "      <td>1</td>\n",
       "      <td>0.042957</td>\n",
       "      <td>1</td>\n",
       "    </tr>\n",
       "    <tr>\n",
       "      <th>10</th>\n",
       "      <td>1.0</td>\n",
       "      <td>0</td>\n",
       "      <td>0.0</td>\n",
       "      <td>0</td>\n",
       "      <td>0.0</td>\n",
       "      <td>0.143519</td>\n",
       "      <td>0.746835</td>\n",
       "      <td>1.0</td>\n",
       "      <td>2</td>\n",
       "      <td>0.018808</td>\n",
       "      <td>1</td>\n",
       "    </tr>\n",
       "    <tr>\n",
       "      <th>14</th>\n",
       "      <td>0.0</td>\n",
       "      <td>0</td>\n",
       "      <td>0.0</td>\n",
       "      <td>1</td>\n",
       "      <td>0.0</td>\n",
       "      <td>0.222222</td>\n",
       "      <td>0.746835</td>\n",
       "      <td>1.0</td>\n",
       "      <td>1</td>\n",
       "      <td>0.041063</td>\n",
       "      <td>1</td>\n",
       "    </tr>\n",
       "  </tbody>\n",
       "</table>\n",
       "</div>"
      ],
      "text/plain": [
       "    genero  casado  dependentes  educacao  autonomo  valor_emprestimo  prazo_emprestimo  historico_credito  tipo_propriedade  renda_total  predicao\n",
       "0      1.0       1          0.0         1       0.0          0.189815          0.746835                1.0                 2     0.055957         1\n",
       "1      1.0       1          1.0         1       0.0          0.226852          0.746835                1.0                 2     0.039791         1\n",
       "2      1.0       1          2.0         1       0.0          0.416667          0.746835                1.0                 2     0.071218         1\n",
       "4      1.0       0          0.0         0       0.0          0.115741          0.746835                1.0                 2     0.021422         1\n",
       "5      1.0       1          0.0         0       1.0          0.287037          0.746835                1.0                 2     0.054077         1\n",
       "6      0.0       0          1.0         0       0.0          0.071759          0.746835                1.0                 1     0.006585         1\n",
       "7      1.0       1          2.0         0       0.0          0.275463          0.746835                0.0                 0     0.029971         0\n",
       "9      1.0       0          0.0         0       0.0          0.219907          0.746835                1.0                 1     0.042957         1\n",
       "10     1.0       0          0.0         0       0.0          0.143519          0.746835                1.0                 2     0.018808         1\n",
       "14     0.0       0          0.0         1       0.0          0.222222          0.746835                1.0                 1     0.041063         1"
      ]
     },
     "execution_count": 343,
     "metadata": {},
     "output_type": "execute_result"
    }
   ],
   "source": [
    "dados_validacao.head(10)"
   ]
  },
  {
   "cell_type": "markdown",
   "id": "6c77ea79",
   "metadata": {},
   "source": [
    "Mudaremos os valores de `predicao` para ficar mais fácil o entendimento"
   ]
  },
  {
   "cell_type": "code",
   "execution_count": 347,
   "id": "a85a2aaf",
   "metadata": {
    "ExecuteTime": {
     "end_time": "2021-10-28T02:28:06.107519Z",
     "start_time": "2021-10-28T02:28:06.087724Z"
    }
   },
   "outputs": [
    {
     "data": {
      "text/html": [
       "<div>\n",
       "<style scoped>\n",
       "    .dataframe tbody tr th:only-of-type {\n",
       "        vertical-align: middle;\n",
       "    }\n",
       "\n",
       "    .dataframe tbody tr th {\n",
       "        vertical-align: top;\n",
       "    }\n",
       "\n",
       "    .dataframe thead th {\n",
       "        text-align: right;\n",
       "    }\n",
       "</style>\n",
       "<table border=\"1\" class=\"dataframe\">\n",
       "  <thead>\n",
       "    <tr style=\"text-align: right;\">\n",
       "      <th></th>\n",
       "      <th>genero</th>\n",
       "      <th>casado</th>\n",
       "      <th>dependentes</th>\n",
       "      <th>educacao</th>\n",
       "      <th>autonomo</th>\n",
       "      <th>valor_emprestimo</th>\n",
       "      <th>prazo_emprestimo</th>\n",
       "      <th>historico_credito</th>\n",
       "      <th>tipo_propriedade</th>\n",
       "      <th>renda_total</th>\n",
       "      <th>predicao</th>\n",
       "    </tr>\n",
       "  </thead>\n",
       "  <tbody>\n",
       "    <tr>\n",
       "      <th>0</th>\n",
       "      <td>1.0</td>\n",
       "      <td>1</td>\n",
       "      <td>0.0</td>\n",
       "      <td>1</td>\n",
       "      <td>0.0</td>\n",
       "      <td>0.189815</td>\n",
       "      <td>0.746835</td>\n",
       "      <td>1.0</td>\n",
       "      <td>2</td>\n",
       "      <td>0.055957</td>\n",
       "      <td>Aprovado</td>\n",
       "    </tr>\n",
       "    <tr>\n",
       "      <th>1</th>\n",
       "      <td>1.0</td>\n",
       "      <td>1</td>\n",
       "      <td>1.0</td>\n",
       "      <td>1</td>\n",
       "      <td>0.0</td>\n",
       "      <td>0.226852</td>\n",
       "      <td>0.746835</td>\n",
       "      <td>1.0</td>\n",
       "      <td>2</td>\n",
       "      <td>0.039791</td>\n",
       "      <td>Aprovado</td>\n",
       "    </tr>\n",
       "    <tr>\n",
       "      <th>2</th>\n",
       "      <td>1.0</td>\n",
       "      <td>1</td>\n",
       "      <td>2.0</td>\n",
       "      <td>1</td>\n",
       "      <td>0.0</td>\n",
       "      <td>0.416667</td>\n",
       "      <td>0.746835</td>\n",
       "      <td>1.0</td>\n",
       "      <td>2</td>\n",
       "      <td>0.071218</td>\n",
       "      <td>Aprovado</td>\n",
       "    </tr>\n",
       "    <tr>\n",
       "      <th>4</th>\n",
       "      <td>1.0</td>\n",
       "      <td>0</td>\n",
       "      <td>0.0</td>\n",
       "      <td>0</td>\n",
       "      <td>0.0</td>\n",
       "      <td>0.115741</td>\n",
       "      <td>0.746835</td>\n",
       "      <td>1.0</td>\n",
       "      <td>2</td>\n",
       "      <td>0.021422</td>\n",
       "      <td>Aprovado</td>\n",
       "    </tr>\n",
       "    <tr>\n",
       "      <th>5</th>\n",
       "      <td>1.0</td>\n",
       "      <td>1</td>\n",
       "      <td>0.0</td>\n",
       "      <td>0</td>\n",
       "      <td>1.0</td>\n",
       "      <td>0.287037</td>\n",
       "      <td>0.746835</td>\n",
       "      <td>1.0</td>\n",
       "      <td>2</td>\n",
       "      <td>0.054077</td>\n",
       "      <td>Aprovado</td>\n",
       "    </tr>\n",
       "  </tbody>\n",
       "</table>\n",
       "</div>"
      ],
      "text/plain": [
       "   genero  casado  dependentes  educacao  autonomo  valor_emprestimo  prazo_emprestimo  historico_credito  tipo_propriedade  renda_total  predicao\n",
       "0     1.0       1          0.0         1       0.0          0.189815          0.746835                1.0                 2     0.055957  Aprovado\n",
       "1     1.0       1          1.0         1       0.0          0.226852          0.746835                1.0                 2     0.039791  Aprovado\n",
       "2     1.0       1          2.0         1       0.0          0.416667          0.746835                1.0                 2     0.071218  Aprovado\n",
       "4     1.0       0          0.0         0       0.0          0.115741          0.746835                1.0                 2     0.021422  Aprovado\n",
       "5     1.0       1          0.0         0       1.0          0.287037          0.746835                1.0                 2     0.054077  Aprovado"
      ]
     },
     "execution_count": 347,
     "metadata": {},
     "output_type": "execute_result"
    }
   ],
   "source": [
    "dados_validacao['predicao'] = dados_validacao['predicao'].replace([1, 0],['Aprovado', 'Negado'])\n",
    "dados_validacao.head()"
   ]
  },
  {
   "cell_type": "markdown",
   "id": "463d985d",
   "metadata": {},
   "source": [
    "Vamos ver quantos empréstimos foram aprovados e negados"
   ]
  },
  {
   "cell_type": "code",
   "execution_count": 348,
   "id": "71bb0322",
   "metadata": {
    "ExecuteTime": {
     "end_time": "2021-10-28T02:29:02.175626Z",
     "start_time": "2021-10-28T02:29:02.170102Z"
    }
   },
   "outputs": [],
   "source": [
    "dados_validacao_aprovado = dados_validacao[dados_validacao['predicao'].str.contains('Aprovado')]"
   ]
  },
  {
   "cell_type": "code",
   "execution_count": 350,
   "id": "6c80688a",
   "metadata": {
    "ExecuteTime": {
     "end_time": "2021-10-28T02:30:42.968464Z",
     "start_time": "2021-10-28T02:30:42.962363Z"
    }
   },
   "outputs": [
    {
     "name": "stdout",
     "output_type": "stream",
     "text": [
      "Os valores totais de validação são: 289\n",
      "Os valores totais de aprovados são: 243\n",
      "Os valores totais de negados são: 46\n"
     ]
    }
   ],
   "source": [
    "dados_totais = len(dados_validacao)\n",
    "dados_aprovados = len(dados_validacao_aprovado)\n",
    "dados_negados = dados_totais - dados_aprovados\n",
    "\n",
    "print(f'Os valores totais de validação são: {dados_totais}')\n",
    "print(f'Os valores totais de aprovados são: {dados_aprovados}')\n",
    "print(f'Os valores totais de negados são: {dados_negados}')"
   ]
  },
  {
   "cell_type": "markdown",
   "id": "e5577b75",
   "metadata": {},
   "source": [
    "# Conclusão"
   ]
  },
  {
   "cell_type": "markdown",
   "id": "3ad29a28",
   "metadata": {},
   "source": [
    "Podemos concluir que o modelo melhorará a forma que é feita a classificação de quem será agraciado com o empréstimo, sabendo agora a empresa quais variáveis afetam mais influenciam na hora de dar o empréstimo. Analisamos estatisticamente hipóteses que podem ser senso comum, mas vimos que algumas são falsa, trazendo insights. \n",
    "\n",
    "Dessa forma o CEO emprestimo fácil S.A poderá tomar decisões baseadas em dados."
   ]
  },
  {
   "cell_type": "code",
   "execution_count": null,
   "id": "ee304ed6",
   "metadata": {},
   "outputs": [],
   "source": []
  }
 ],
 "metadata": {
  "hide_input": false,
  "kernelspec": {
   "display_name": "Python 3",
   "language": "python",
   "name": "python3"
  },
  "language_info": {
   "codemirror_mode": {
    "name": "ipython",
    "version": 3
   },
   "file_extension": ".py",
   "mimetype": "text/x-python",
   "name": "python",
   "nbconvert_exporter": "python",
   "pygments_lexer": "ipython3",
   "version": "3.8.8"
  },
  "nbTranslate": {
   "displayLangs": [
    "pt",
    "en"
   ],
   "hotkey": "alt-t",
   "langInMainMenu": true,
   "sourceLang": "en",
   "targetLang": "pt",
   "useGoogleTranslate": true
  },
  "toc": {
   "base_numbering": "0",
   "nav_menu": {},
   "number_sections": true,
   "sideBar": true,
   "skip_h1_title": false,
   "title_cell": "Table of Contents",
   "title_sidebar": "Contents",
   "toc_cell": false,
   "toc_position": {
    "height": "calc(100% - 180px)",
    "left": "10px",
    "top": "150px",
    "width": "202.641px"
   },
   "toc_section_display": true,
   "toc_window_display": false
  }
 },
 "nbformat": 4,
 "nbformat_minor": 5
}
